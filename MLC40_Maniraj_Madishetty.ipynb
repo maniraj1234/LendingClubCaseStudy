{
 "cells": [
  {
   "cell_type": "markdown",
   "id": "9ef56bdc",
   "metadata": {},
   "source": [
    "### Analysis for consumer finance company"
   ]
  },
  {
   "cell_type": "code",
   "execution_count": 29,
   "id": "5bcfdf2e",
   "metadata": {},
   "outputs": [],
   "source": [
    "import pandas as pd\n",
    "import numpy as np\n",
    "import matplotlib.pyplot as plt\n",
    "import seaborn as sns\n",
    "import warnings\n",
    "warnings.filterwarnings('ignore')"
   ]
  },
  {
   "cell_type": "markdown",
   "id": "dc0beb01",
   "metadata": {},
   "source": [
    "Read the data set we have"
   ]
  },
  {
   "cell_type": "code",
   "execution_count": 30,
   "id": "75ffd836",
   "metadata": {},
   "outputs": [],
   "source": [
    "loan_data = pd.read_csv('loan.csv')"
   ]
  },
  {
   "cell_type": "markdown",
   "id": "b6896ad3",
   "metadata": {},
   "source": [
    "As part of initial step, understand the data set given"
   ]
  },
  {
   "cell_type": "code",
   "execution_count": 31,
   "id": "423a7698",
   "metadata": {},
   "outputs": [
    {
     "data": {
      "text/html": [
       "<div>\n",
       "<style scoped>\n",
       "    .dataframe tbody tr th:only-of-type {\n",
       "        vertical-align: middle;\n",
       "    }\n",
       "\n",
       "    .dataframe tbody tr th {\n",
       "        vertical-align: top;\n",
       "    }\n",
       "\n",
       "    .dataframe thead th {\n",
       "        text-align: right;\n",
       "    }\n",
       "</style>\n",
       "<table border=\"1\" class=\"dataframe\">\n",
       "  <thead>\n",
       "    <tr style=\"text-align: right;\">\n",
       "      <th></th>\n",
       "      <th>id</th>\n",
       "      <th>member_id</th>\n",
       "      <th>loan_amnt</th>\n",
       "      <th>funded_amnt</th>\n",
       "      <th>funded_amnt_inv</th>\n",
       "      <th>term</th>\n",
       "      <th>int_rate</th>\n",
       "      <th>installment</th>\n",
       "      <th>grade</th>\n",
       "      <th>sub_grade</th>\n",
       "      <th>...</th>\n",
       "      <th>num_tl_90g_dpd_24m</th>\n",
       "      <th>num_tl_op_past_12m</th>\n",
       "      <th>pct_tl_nvr_dlq</th>\n",
       "      <th>percent_bc_gt_75</th>\n",
       "      <th>pub_rec_bankruptcies</th>\n",
       "      <th>tax_liens</th>\n",
       "      <th>tot_hi_cred_lim</th>\n",
       "      <th>total_bal_ex_mort</th>\n",
       "      <th>total_bc_limit</th>\n",
       "      <th>total_il_high_credit_limit</th>\n",
       "    </tr>\n",
       "  </thead>\n",
       "  <tbody>\n",
       "    <tr>\n",
       "      <th>0</th>\n",
       "      <td>1077501</td>\n",
       "      <td>1296599</td>\n",
       "      <td>5000</td>\n",
       "      <td>5000</td>\n",
       "      <td>4975.0</td>\n",
       "      <td>36 months</td>\n",
       "      <td>10.65%</td>\n",
       "      <td>162.87</td>\n",
       "      <td>B</td>\n",
       "      <td>B2</td>\n",
       "      <td>...</td>\n",
       "      <td>NaN</td>\n",
       "      <td>NaN</td>\n",
       "      <td>NaN</td>\n",
       "      <td>NaN</td>\n",
       "      <td>0.0</td>\n",
       "      <td>0.0</td>\n",
       "      <td>NaN</td>\n",
       "      <td>NaN</td>\n",
       "      <td>NaN</td>\n",
       "      <td>NaN</td>\n",
       "    </tr>\n",
       "    <tr>\n",
       "      <th>1</th>\n",
       "      <td>1077430</td>\n",
       "      <td>1314167</td>\n",
       "      <td>2500</td>\n",
       "      <td>2500</td>\n",
       "      <td>2500.0</td>\n",
       "      <td>60 months</td>\n",
       "      <td>15.27%</td>\n",
       "      <td>59.83</td>\n",
       "      <td>C</td>\n",
       "      <td>C4</td>\n",
       "      <td>...</td>\n",
       "      <td>NaN</td>\n",
       "      <td>NaN</td>\n",
       "      <td>NaN</td>\n",
       "      <td>NaN</td>\n",
       "      <td>0.0</td>\n",
       "      <td>0.0</td>\n",
       "      <td>NaN</td>\n",
       "      <td>NaN</td>\n",
       "      <td>NaN</td>\n",
       "      <td>NaN</td>\n",
       "    </tr>\n",
       "    <tr>\n",
       "      <th>2</th>\n",
       "      <td>1077175</td>\n",
       "      <td>1313524</td>\n",
       "      <td>2400</td>\n",
       "      <td>2400</td>\n",
       "      <td>2400.0</td>\n",
       "      <td>36 months</td>\n",
       "      <td>15.96%</td>\n",
       "      <td>84.33</td>\n",
       "      <td>C</td>\n",
       "      <td>C5</td>\n",
       "      <td>...</td>\n",
       "      <td>NaN</td>\n",
       "      <td>NaN</td>\n",
       "      <td>NaN</td>\n",
       "      <td>NaN</td>\n",
       "      <td>0.0</td>\n",
       "      <td>0.0</td>\n",
       "      <td>NaN</td>\n",
       "      <td>NaN</td>\n",
       "      <td>NaN</td>\n",
       "      <td>NaN</td>\n",
       "    </tr>\n",
       "    <tr>\n",
       "      <th>3</th>\n",
       "      <td>1076863</td>\n",
       "      <td>1277178</td>\n",
       "      <td>10000</td>\n",
       "      <td>10000</td>\n",
       "      <td>10000.0</td>\n",
       "      <td>36 months</td>\n",
       "      <td>13.49%</td>\n",
       "      <td>339.31</td>\n",
       "      <td>C</td>\n",
       "      <td>C1</td>\n",
       "      <td>...</td>\n",
       "      <td>NaN</td>\n",
       "      <td>NaN</td>\n",
       "      <td>NaN</td>\n",
       "      <td>NaN</td>\n",
       "      <td>0.0</td>\n",
       "      <td>0.0</td>\n",
       "      <td>NaN</td>\n",
       "      <td>NaN</td>\n",
       "      <td>NaN</td>\n",
       "      <td>NaN</td>\n",
       "    </tr>\n",
       "    <tr>\n",
       "      <th>4</th>\n",
       "      <td>1075358</td>\n",
       "      <td>1311748</td>\n",
       "      <td>3000</td>\n",
       "      <td>3000</td>\n",
       "      <td>3000.0</td>\n",
       "      <td>60 months</td>\n",
       "      <td>12.69%</td>\n",
       "      <td>67.79</td>\n",
       "      <td>B</td>\n",
       "      <td>B5</td>\n",
       "      <td>...</td>\n",
       "      <td>NaN</td>\n",
       "      <td>NaN</td>\n",
       "      <td>NaN</td>\n",
       "      <td>NaN</td>\n",
       "      <td>0.0</td>\n",
       "      <td>0.0</td>\n",
       "      <td>NaN</td>\n",
       "      <td>NaN</td>\n",
       "      <td>NaN</td>\n",
       "      <td>NaN</td>\n",
       "    </tr>\n",
       "  </tbody>\n",
       "</table>\n",
       "<p>5 rows × 111 columns</p>\n",
       "</div>"
      ],
      "text/plain": [
       "        id  member_id  loan_amnt  funded_amnt  funded_amnt_inv        term  \\\n",
       "0  1077501    1296599       5000         5000           4975.0   36 months   \n",
       "1  1077430    1314167       2500         2500           2500.0   60 months   \n",
       "2  1077175    1313524       2400         2400           2400.0   36 months   \n",
       "3  1076863    1277178      10000        10000          10000.0   36 months   \n",
       "4  1075358    1311748       3000         3000           3000.0   60 months   \n",
       "\n",
       "  int_rate  installment grade sub_grade  ... num_tl_90g_dpd_24m  \\\n",
       "0   10.65%       162.87     B        B2  ...                NaN   \n",
       "1   15.27%        59.83     C        C4  ...                NaN   \n",
       "2   15.96%        84.33     C        C5  ...                NaN   \n",
       "3   13.49%       339.31     C        C1  ...                NaN   \n",
       "4   12.69%        67.79     B        B5  ...                NaN   \n",
       "\n",
       "  num_tl_op_past_12m pct_tl_nvr_dlq  percent_bc_gt_75 pub_rec_bankruptcies  \\\n",
       "0                NaN            NaN               NaN                  0.0   \n",
       "1                NaN            NaN               NaN                  0.0   \n",
       "2                NaN            NaN               NaN                  0.0   \n",
       "3                NaN            NaN               NaN                  0.0   \n",
       "4                NaN            NaN               NaN                  0.0   \n",
       "\n",
       "  tax_liens tot_hi_cred_lim total_bal_ex_mort total_bc_limit  \\\n",
       "0       0.0             NaN               NaN            NaN   \n",
       "1       0.0             NaN               NaN            NaN   \n",
       "2       0.0             NaN               NaN            NaN   \n",
       "3       0.0             NaN               NaN            NaN   \n",
       "4       0.0             NaN               NaN            NaN   \n",
       "\n",
       "  total_il_high_credit_limit  \n",
       "0                        NaN  \n",
       "1                        NaN  \n",
       "2                        NaN  \n",
       "3                        NaN  \n",
       "4                        NaN  \n",
       "\n",
       "[5 rows x 111 columns]"
      ]
     },
     "execution_count": 31,
     "metadata": {},
     "output_type": "execute_result"
    }
   ],
   "source": [
    "loan_data.head()"
   ]
  },
  {
   "cell_type": "code",
   "execution_count": 32,
   "id": "6cd29eb8",
   "metadata": {},
   "outputs": [
    {
     "data": {
      "text/plain": [
       "(39717, 111)"
      ]
     },
     "execution_count": 32,
     "metadata": {},
     "output_type": "execute_result"
    }
   ],
   "source": [
    "loan_data.shape"
   ]
  },
  {
   "cell_type": "code",
   "execution_count": 33,
   "id": "401bd965",
   "metadata": {},
   "outputs": [
    {
     "name": "stdout",
     "output_type": "stream",
     "text": [
      "<class 'pandas.core.frame.DataFrame'>\n",
      "RangeIndex: 39717 entries, 0 to 39716\n",
      "Columns: 111 entries, id to total_il_high_credit_limit\n",
      "dtypes: float64(74), int64(13), object(24)\n",
      "memory usage: 33.6+ MB\n"
     ]
    }
   ],
   "source": [
    "loan_data.info()"
   ]
  },
  {
   "cell_type": "markdown",
   "id": "9b1bb8f9",
   "metadata": {},
   "source": [
    "From the above data from head, looks like there are lot of NAs\\\n",
    "See if there are any columns that are completely empty "
   ]
  },
  {
   "cell_type": "code",
   "execution_count": 34,
   "id": "34eb3398",
   "metadata": {},
   "outputs": [
    {
     "data": {
      "text/plain": [
       "54"
      ]
     },
     "execution_count": 34,
     "metadata": {},
     "output_type": "execute_result"
    }
   ],
   "source": [
    "nan_cols = [i for i in loan_data.columns if loan_data[i].isnull().all()]\n",
    "len(nan_cols)"
   ]
  },
  {
   "cell_type": "code",
   "execution_count": 35,
   "id": "f061b205",
   "metadata": {},
   "outputs": [
    {
     "data": {
      "text/plain": [
       "id                                0\n",
       "member_id                         0\n",
       "loan_amnt                         0\n",
       "funded_amnt                       0\n",
       "funded_amnt_inv                   0\n",
       "                              ...  \n",
       "tax_liens                        39\n",
       "tot_hi_cred_lim               39717\n",
       "total_bal_ex_mort             39717\n",
       "total_bc_limit                39717\n",
       "total_il_high_credit_limit    39717\n",
       "Length: 111, dtype: int64"
      ]
     },
     "execution_count": 35,
     "metadata": {},
     "output_type": "execute_result"
    }
   ],
   "source": [
    "#confirm the above data by looking at isna for each column\n",
    "loan_data.isna().sum()"
   ]
  },
  {
   "cell_type": "markdown",
   "id": "a085e0d1",
   "metadata": {},
   "source": [
    "There are around 54 columns that are completely empty.\\\n",
    "We need to remove these columns\\\n",
    "Just to be on a safer side, look at few columns randomly in the csv\n"
   ]
  },
  {
   "cell_type": "code",
   "execution_count": 36,
   "id": "022042c0",
   "metadata": {},
   "outputs": [],
   "source": [
    "# clean the data for safe checks like empty columns and empty rows...\n",
    "def sanity_clean_data(loan_data):\n",
    "    #columns with all empty values to be removed\n",
    "    loan_data.dropna(axis=1, how='all', inplace=True)\n",
    "    \n",
    "    #columns with all same values to be removed as they dont provide any insight\n",
    "    cols_nounique = [i for i in loan_data.columns if loan_data[i].nunique()==1]\n",
    "    loan_data.drop(columns=cols_nounique, inplace=True, axis=1)\n",
    "    \n",
    "    #rows with all NAs to be removed\n",
    "    loan_data.dropna(axis=0,how='all',inplace=True)\n",
    "    \n",
    "sanity_clean_data(loan_data)    "
   ]
  },
  {
   "cell_type": "code",
   "execution_count": 37,
   "id": "53bedb5f",
   "metadata": {},
   "outputs": [
    {
     "data": {
      "text/plain": [
       "(39717, 48)"
      ]
     },
     "execution_count": 37,
     "metadata": {},
     "output_type": "execute_result"
    }
   ],
   "source": [
    "#confirm if these columns are removed.\n",
    "loan_data.shape"
   ]
  },
  {
   "cell_type": "markdown",
   "id": "2c26456c",
   "metadata": {},
   "source": [
    "Still there are columns which have more than 90% missing data in them\\\n",
    "Lets see what all columns have more than 90% missing data                          "
   ]
  },
  {
   "cell_type": "code",
   "execution_count": 38,
   "id": "26d5ff67",
   "metadata": {},
   "outputs": [
    {
     "data": {
      "text/plain": [
       "['mths_since_last_record', 'next_pymnt_d']"
      ]
     },
     "execution_count": 38,
     "metadata": {},
     "output_type": "execute_result"
    }
   ],
   "source": [
    "def get_percentile_cols(percentile):\n",
    "    P90 = 39717*(percentile/100)\n",
    "    nan90_cols = [i for i in loan_data.columns if loan_data[i].isna().sum()>=P90]\n",
    "    return nan90_cols\n",
    "get_percentile_cols(90)"
   ]
  },
  {
   "cell_type": "code",
   "execution_count": 39,
   "id": "ed373922",
   "metadata": {},
   "outputs": [
    {
     "data": {
      "text/plain": [
       "(39717, 48)"
      ]
     },
     "execution_count": 39,
     "metadata": {},
     "output_type": "execute_result"
    }
   ],
   "source": [
    "loan_data.shape"
   ]
  },
  {
   "cell_type": "code",
   "execution_count": 40,
   "id": "7c8298c9",
   "metadata": {},
   "outputs": [],
   "source": [
    "# save the filtered data into new csv so that it is easy to look at data\n",
    "loan_data.to_csv('FilteredLoanData.csv', index=False)"
   ]
  },
  {
   "cell_type": "markdown",
   "id": "684d0e7d",
   "metadata": {},
   "source": [
    "Let's see manually if any column is further redundant"
   ]
  },
  {
   "cell_type": "markdown",
   "id": "36f83e83",
   "metadata": {},
   "source": [
    "Customer Demographics: these are static and can be analyzed.\n",
    "\n",
    "Customer Behavioural Data: Not available while applying loan. (these can't be considered for our analysis)\n",
    "\n",
    "Loan data: this can be analyzed"
   ]
  },
  {
   "cell_type": "markdown",
   "id": "56d09564",
   "metadata": {},
   "source": [
    "Columns that are not necessary\n",
    "1. url - we only have loan id changing. hence this can be ignored\n",
    "2. desc - we cannot make any insight out of this hence drop\n",
    "3. title- we cannot make any insight out of this hence drop\n",
    "4. dlinq 2yrs - Derived column from mths since last delinq\n",
    "5. It is possible for a person whose loan got ended in the past, and the one who defaulted to have last payment date in past,\n",
    "we cannot make any insights out of this, as we can't distinguish well with the following columns.\n",
    "last_pymnt_d, last_pymnt_amnt, next_pymntd\n",
    "6. Since member id and id are both unique and distinct, we can drop one of them. Since we want to get insights about the user we can drop the loan id and keep member id\n",
    "Hence Drop"
   ]
  },
  {
   "cell_type": "code",
   "execution_count": 41,
   "id": "03872db4",
   "metadata": {},
   "outputs": [
    {
     "data": {
      "text/plain": [
       "(39717, 48)"
      ]
     },
     "execution_count": 41,
     "metadata": {},
     "output_type": "execute_result"
    }
   ],
   "source": [
    "loan_data.shape"
   ]
  },
  {
   "cell_type": "code",
   "execution_count": 42,
   "id": "6fdefb47",
   "metadata": {},
   "outputs": [],
   "source": [
    "loan_data.drop(columns=['url','desc','title','delinq_2yrs','last_pymnt_d','last_pymnt_amnt','next_pymnt_d','id'], inplace=True)"
   ]
  },
  {
   "cell_type": "code",
   "execution_count": 43,
   "id": "ee7e7015",
   "metadata": {},
   "outputs": [
    {
     "data": {
      "text/plain": [
       "(39717, 40)"
      ]
     },
     "execution_count": 43,
     "metadata": {},
     "output_type": "execute_result"
    }
   ],
   "source": [
    "loan_data.shape"
   ]
  },
  {
   "cell_type": "code",
   "execution_count": 44,
   "id": "b2db9ff1",
   "metadata": {},
   "outputs": [
    {
     "data": {
      "text/plain": [
       "Index(['member_id', 'loan_amnt', 'funded_amnt', 'funded_amnt_inv', 'term',\n",
       "       'int_rate', 'installment', 'grade', 'sub_grade', 'emp_title',\n",
       "       'emp_length', 'home_ownership', 'annual_inc', 'verification_status',\n",
       "       'issue_d', 'loan_status', 'purpose', 'zip_code', 'addr_state', 'dti',\n",
       "       'earliest_cr_line', 'inq_last_6mths', 'mths_since_last_delinq',\n",
       "       'mths_since_last_record', 'open_acc', 'pub_rec', 'revol_bal',\n",
       "       'revol_util', 'total_acc', 'out_prncp', 'out_prncp_inv', 'total_pymnt',\n",
       "       'total_pymnt_inv', 'total_rec_prncp', 'total_rec_int',\n",
       "       'total_rec_late_fee', 'recoveries', 'collection_recovery_fee',\n",
       "       'last_credit_pull_d', 'pub_rec_bankruptcies'],\n",
       "      dtype='object')"
      ]
     },
     "execution_count": 44,
     "metadata": {},
     "output_type": "execute_result"
    }
   ],
   "source": [
    "loan_data.columns"
   ]
  },
  {
   "cell_type": "code",
   "execution_count": 45,
   "id": "9915e460",
   "metadata": {},
   "outputs": [
    {
     "data": {
      "text/plain": [
       "(39717, 40)"
      ]
     },
     "execution_count": 45,
     "metadata": {},
     "output_type": "execute_result"
    }
   ],
   "source": [
    "# We are done with investigation on important columns, now we have to perform data cleaning on rows.\n",
    "loan_data.shape"
   ]
  },
  {
   "cell_type": "code",
   "execution_count": 46,
   "id": "26b00396",
   "metadata": {},
   "outputs": [],
   "source": [
    "loan_data.emp_title.fillna('',inplace=True)\n",
    "\n",
    "# apply(lambda x: \"\" if np.isnan() else str(x)) "
   ]
  },
  {
   "cell_type": "code",
   "execution_count": 47,
   "id": "28c1d555",
   "metadata": {},
   "outputs": [
    {
     "data": {
      "text/plain": [
       "10+ years    8879\n",
       "< 1 year     4583\n",
       "2 years      4388\n",
       "3 years      4095\n",
       "4 years      3436\n",
       "5 years      3282\n",
       "1 year       3240\n",
       "6 years      2229\n",
       "7 years      1773\n",
       "8 years      1479\n",
       "9 years      1258\n",
       "Name: emp_length, dtype: int64"
      ]
     },
     "execution_count": 47,
     "metadata": {},
     "output_type": "execute_result"
    }
   ],
   "source": [
    "loan_data.emp_length.value_counts()"
   ]
  },
  {
   "cell_type": "code",
   "execution_count": 48,
   "id": "88a5f084",
   "metadata": {},
   "outputs": [
    {
     "data": {
      "text/plain": [
       "1075"
      ]
     },
     "execution_count": 48,
     "metadata": {},
     "output_type": "execute_result"
    }
   ],
   "source": [
    "loan_data.emp_length.isna().sum()"
   ]
  },
  {
   "cell_type": "markdown",
   "id": "27cf62cb",
   "metadata": {},
   "source": [
    "Since emp_length is a categorical variable there cannot be a mean or median so we shall ignore missing values"
   ]
  },
  {
   "cell_type": "code",
   "execution_count": 49,
   "id": "d1aa8cfc",
   "metadata": {},
   "outputs": [
    {
     "name": "stdout",
     "output_type": "stream",
     "text": [
      "<class 'pandas.core.frame.DataFrame'>\n",
      "Int64Index: 39717 entries, 0 to 39716\n",
      "Data columns (total 40 columns):\n",
      " #   Column                   Non-Null Count  Dtype  \n",
      "---  ------                   --------------  -----  \n",
      " 0   member_id                39717 non-null  int64  \n",
      " 1   loan_amnt                39717 non-null  int64  \n",
      " 2   funded_amnt              39717 non-null  int64  \n",
      " 3   funded_amnt_inv          39717 non-null  float64\n",
      " 4   term                     39717 non-null  object \n",
      " 5   int_rate                 39717 non-null  object \n",
      " 6   installment              39717 non-null  float64\n",
      " 7   grade                    39717 non-null  object \n",
      " 8   sub_grade                39717 non-null  object \n",
      " 9   emp_title                39717 non-null  object \n",
      " 10  emp_length               38642 non-null  object \n",
      " 11  home_ownership           39717 non-null  object \n",
      " 12  annual_inc               39717 non-null  float64\n",
      " 13  verification_status      39717 non-null  object \n",
      " 14  issue_d                  39717 non-null  object \n",
      " 15  loan_status              39717 non-null  object \n",
      " 16  purpose                  39717 non-null  object \n",
      " 17  zip_code                 39717 non-null  object \n",
      " 18  addr_state               39717 non-null  object \n",
      " 19  dti                      39717 non-null  float64\n",
      " 20  earliest_cr_line         39717 non-null  object \n",
      " 21  inq_last_6mths           39717 non-null  int64  \n",
      " 22  mths_since_last_delinq   14035 non-null  float64\n",
      " 23  mths_since_last_record   2786 non-null   float64\n",
      " 24  open_acc                 39717 non-null  int64  \n",
      " 25  pub_rec                  39717 non-null  int64  \n",
      " 26  revol_bal                39717 non-null  int64  \n",
      " 27  revol_util               39667 non-null  object \n",
      " 28  total_acc                39717 non-null  int64  \n",
      " 29  out_prncp                39717 non-null  float64\n",
      " 30  out_prncp_inv            39717 non-null  float64\n",
      " 31  total_pymnt              39717 non-null  float64\n",
      " 32  total_pymnt_inv          39717 non-null  float64\n",
      " 33  total_rec_prncp          39717 non-null  float64\n",
      " 34  total_rec_int            39717 non-null  float64\n",
      " 35  total_rec_late_fee       39717 non-null  float64\n",
      " 36  recoveries               39717 non-null  float64\n",
      " 37  collection_recovery_fee  39717 non-null  float64\n",
      " 38  last_credit_pull_d       39715 non-null  object \n",
      " 39  pub_rec_bankruptcies     39020 non-null  float64\n",
      "dtypes: float64(16), int64(8), object(16)\n",
      "memory usage: 12.4+ MB\n"
     ]
    }
   ],
   "source": [
    "loan_data.info()"
   ]
  },
  {
   "cell_type": "markdown",
   "id": "aac0bfb3",
   "metadata": {},
   "source": [
    "Now lets get into formatting the data"
   ]
  },
  {
   "cell_type": "markdown",
   "id": "4bc0fcbf",
   "metadata": {},
   "source": [
    "- Convert Objects into respective data types\n",
    "- term : drop months keyword\n",
    "- int rate: .remove percent\n",
    "- issue_d datetime\n",
    "- zipcode remove xx\n",
    "- earliest_cr_line datetime\n",
    "- revol_util remove percent\n",
    "- total_pymnt and totalpymnt inv avg ratio of diff\n",
    "- last_credit_pull_d datetime"
   ]
  },
  {
   "cell_type": "code",
   "execution_count": 50,
   "id": "7609ba92",
   "metadata": {},
   "outputs": [
    {
     "data": {
      "text/plain": [
       " 36 months    29096\n",
       " 60 months    10621\n",
       "Name: term, dtype: int64"
      ]
     },
     "execution_count": 50,
     "metadata": {},
     "output_type": "execute_result"
    }
   ],
   "source": [
    "#since there are only two values this is categorical data type, we can keep it as it is.\n",
    "loan_data.term.value_counts()"
   ]
  },
  {
   "cell_type": "code",
   "execution_count": 51,
   "id": "44b875d9",
   "metadata": {},
   "outputs": [],
   "source": [
    "# Convert int rate to numeric values\n",
    "loan_data.int_rate = loan_data.int_rate.apply(lambda x: float(str(x).rstrip('%')))"
   ]
  },
  {
   "cell_type": "code",
   "execution_count": 52,
   "id": "dd4c2ded",
   "metadata": {},
   "outputs": [],
   "source": [
    "loan_data.revol_util = loan_data.revol_util.apply(lambda x: float(str(x).rstrip('%')))\n",
    "# Since this is a consumer behaviou metric, which is not available wihle applying for loan. We will not be considering this in our analysis."
   ]
  },
  {
   "cell_type": "code",
   "execution_count": 53,
   "id": "aa86280e",
   "metadata": {},
   "outputs": [],
   "source": [
    "#Strip zipCode extras\n",
    "loan_data.zip_code = loan_data.zip_code.apply(lambda x: int(str(x).rstrip('xx')))"
   ]
  },
  {
   "cell_type": "code",
   "execution_count": 54,
   "id": "4acece2c",
   "metadata": {},
   "outputs": [
    {
     "data": {
      "text/plain": [
       "count    39717.000000\n",
       "mean       586.447426\n",
       "std       2174.798916\n",
       "min         -0.005000\n",
       "25%          0.000000\n",
       "50%          0.004961\n",
       "75%        172.999740\n",
       "max      45431.040890\n",
       "dtype: float64"
      ]
     },
     "execution_count": 54,
     "metadata": {},
     "output_type": "execute_result"
    }
   ],
   "source": [
    "(loan_data.total_pymnt - loan_data.total_pymnt_inv).describe()"
   ]
  },
  {
   "cell_type": "code",
   "execution_count": 55,
   "id": "7ee61110",
   "metadata": {},
   "outputs": [
    {
     "data": {
      "text/plain": [
       "0.9156004564668956"
      ]
     },
     "execution_count": 55,
     "metadata": {},
     "output_type": "execute_result"
    }
   ],
   "source": [
    "(loan_data.total_pymnt_inv/loan_data.total_pymnt).quantile(0.1)"
   ]
  },
  {
   "cell_type": "code",
   "execution_count": 56,
   "id": "a37e55ea",
   "metadata": {},
   "outputs": [],
   "source": [
    "#Convert the columns to corresponding dates\n",
    "loan_data.issue_d = pd.to_datetime(loan_data.issue_d,format='%b-%y')"
   ]
  },
  {
   "cell_type": "code",
   "execution_count": 57,
   "id": "626ccbb2",
   "metadata": {},
   "outputs": [],
   "source": [
    "#remove months from term\n",
    "loan_data.term = loan_data.term.apply(lambda x: int(str(x).rstrip(\"months\")))"
   ]
  },
  {
   "cell_type": "code",
   "execution_count": 58,
   "id": "2006afb9",
   "metadata": {},
   "outputs": [],
   "source": [
    "loan_data.earliest_cr_line = pd.to_datetime(loan_data.earliest_cr_line,format='%b-%y')"
   ]
  },
  {
   "cell_type": "code",
   "execution_count": 59,
   "id": "89495662",
   "metadata": {},
   "outputs": [
    {
     "data": {
      "text/plain": [
       "0       1985-01-01\n",
       "1       1999-04-01\n",
       "2       2001-11-01\n",
       "3       1996-02-01\n",
       "4       1996-01-01\n",
       "           ...    \n",
       "39712   1990-11-01\n",
       "39713   1986-12-01\n",
       "39714   1998-10-01\n",
       "39715   1988-11-01\n",
       "39716   2003-10-01\n",
       "Name: earliest_cr_line, Length: 39717, dtype: datetime64[ns]"
      ]
     },
     "execution_count": 59,
     "metadata": {},
     "output_type": "execute_result"
    }
   ],
   "source": [
    "loan_data.earliest_cr_line"
   ]
  },
  {
   "cell_type": "code",
   "execution_count": 60,
   "id": "d14249fd",
   "metadata": {},
   "outputs": [
    {
     "data": {
      "text/html": [
       "<div>\n",
       "<style scoped>\n",
       "    .dataframe tbody tr th:only-of-type {\n",
       "        vertical-align: middle;\n",
       "    }\n",
       "\n",
       "    .dataframe tbody tr th {\n",
       "        vertical-align: top;\n",
       "    }\n",
       "\n",
       "    .dataframe thead th {\n",
       "        text-align: right;\n",
       "    }\n",
       "</style>\n",
       "<table border=\"1\" class=\"dataframe\">\n",
       "  <thead>\n",
       "    <tr style=\"text-align: right;\">\n",
       "      <th></th>\n",
       "      <th>member_id</th>\n",
       "      <th>loan_amnt</th>\n",
       "      <th>funded_amnt</th>\n",
       "      <th>funded_amnt_inv</th>\n",
       "      <th>term</th>\n",
       "      <th>int_rate</th>\n",
       "      <th>installment</th>\n",
       "      <th>grade</th>\n",
       "      <th>sub_grade</th>\n",
       "      <th>emp_title</th>\n",
       "      <th>...</th>\n",
       "      <th>out_prncp_inv</th>\n",
       "      <th>total_pymnt</th>\n",
       "      <th>total_pymnt_inv</th>\n",
       "      <th>total_rec_prncp</th>\n",
       "      <th>total_rec_int</th>\n",
       "      <th>total_rec_late_fee</th>\n",
       "      <th>recoveries</th>\n",
       "      <th>collection_recovery_fee</th>\n",
       "      <th>last_credit_pull_d</th>\n",
       "      <th>pub_rec_bankruptcies</th>\n",
       "    </tr>\n",
       "  </thead>\n",
       "  <tbody>\n",
       "  </tbody>\n",
       "</table>\n",
       "<p>0 rows × 40 columns</p>\n",
       "</div>"
      ],
      "text/plain": [
       "Empty DataFrame\n",
       "Columns: [member_id, loan_amnt, funded_amnt, funded_amnt_inv, term, int_rate, installment, grade, sub_grade, emp_title, emp_length, home_ownership, annual_inc, verification_status, issue_d, loan_status, purpose, zip_code, addr_state, dti, earliest_cr_line, inq_last_6mths, mths_since_last_delinq, mths_since_last_record, open_acc, pub_rec, revol_bal, revol_util, total_acc, out_prncp, out_prncp_inv, total_pymnt, total_pymnt_inv, total_rec_prncp, total_rec_int, total_rec_late_fee, recoveries, collection_recovery_fee, last_credit_pull_d, pub_rec_bankruptcies]\n",
       "Index: []\n",
       "\n",
       "[0 rows x 40 columns]"
      ]
     },
     "execution_count": 60,
     "metadata": {},
     "output_type": "execute_result"
    }
   ],
   "source": [
    "loan_data[(loan_data.earliest_cr_line.isna())]"
   ]
  },
  {
   "cell_type": "code",
   "execution_count": 61,
   "id": "ebd4a9f3",
   "metadata": {},
   "outputs": [],
   "source": [
    "loan_data.last_credit_pull_d = pd.to_datetime(loan_data.last_credit_pull_d,format='%b-%y')"
   ]
  },
  {
   "cell_type": "code",
   "execution_count": 62,
   "id": "e0a21458",
   "metadata": {},
   "outputs": [
    {
     "data": {
      "text/html": [
       "<div>\n",
       "<style scoped>\n",
       "    .dataframe tbody tr th:only-of-type {\n",
       "        vertical-align: middle;\n",
       "    }\n",
       "\n",
       "    .dataframe tbody tr th {\n",
       "        vertical-align: top;\n",
       "    }\n",
       "\n",
       "    .dataframe thead th {\n",
       "        text-align: right;\n",
       "    }\n",
       "</style>\n",
       "<table border=\"1\" class=\"dataframe\">\n",
       "  <thead>\n",
       "    <tr style=\"text-align: right;\">\n",
       "      <th></th>\n",
       "      <th>member_id</th>\n",
       "      <th>loan_amnt</th>\n",
       "      <th>funded_amnt</th>\n",
       "      <th>funded_amnt_inv</th>\n",
       "      <th>term</th>\n",
       "      <th>int_rate</th>\n",
       "      <th>installment</th>\n",
       "      <th>grade</th>\n",
       "      <th>sub_grade</th>\n",
       "      <th>emp_title</th>\n",
       "      <th>...</th>\n",
       "      <th>out_prncp_inv</th>\n",
       "      <th>total_pymnt</th>\n",
       "      <th>total_pymnt_inv</th>\n",
       "      <th>total_rec_prncp</th>\n",
       "      <th>total_rec_int</th>\n",
       "      <th>total_rec_late_fee</th>\n",
       "      <th>recoveries</th>\n",
       "      <th>collection_recovery_fee</th>\n",
       "      <th>last_credit_pull_d</th>\n",
       "      <th>pub_rec_bankruptcies</th>\n",
       "    </tr>\n",
       "  </thead>\n",
       "  <tbody>\n",
       "    <tr>\n",
       "      <th>26025</th>\n",
       "      <td>740467</td>\n",
       "      <td>5000</td>\n",
       "      <td>5000</td>\n",
       "      <td>5000.0</td>\n",
       "      <td>36</td>\n",
       "      <td>11.12</td>\n",
       "      <td>163.98</td>\n",
       "      <td>B</td>\n",
       "      <td>B3</td>\n",
       "      <td></td>\n",
       "      <td>...</td>\n",
       "      <td>0.0</td>\n",
       "      <td>3362.960000</td>\n",
       "      <td>3362.96</td>\n",
       "      <td>2553.55</td>\n",
       "      <td>702.45</td>\n",
       "      <td>0.0</td>\n",
       "      <td>106.96</td>\n",
       "      <td>1.34</td>\n",
       "      <td>NaT</td>\n",
       "      <td>0.0</td>\n",
       "    </tr>\n",
       "    <tr>\n",
       "      <th>39476</th>\n",
       "      <td>186347</td>\n",
       "      <td>1000</td>\n",
       "      <td>1000</td>\n",
       "      <td>875.0</td>\n",
       "      <td>36</td>\n",
       "      <td>7.12</td>\n",
       "      <td>30.94</td>\n",
       "      <td>A</td>\n",
       "      <td>A1</td>\n",
       "      <td></td>\n",
       "      <td>...</td>\n",
       "      <td>0.0</td>\n",
       "      <td>1110.813028</td>\n",
       "      <td>971.96</td>\n",
       "      <td>1000.00</td>\n",
       "      <td>110.81</td>\n",
       "      <td>0.0</td>\n",
       "      <td>0.00</td>\n",
       "      <td>0.00</td>\n",
       "      <td>NaT</td>\n",
       "      <td>NaN</td>\n",
       "    </tr>\n",
       "  </tbody>\n",
       "</table>\n",
       "<p>2 rows × 40 columns</p>\n",
       "</div>"
      ],
      "text/plain": [
       "       member_id  loan_amnt  funded_amnt  funded_amnt_inv  term  int_rate  \\\n",
       "26025     740467       5000         5000           5000.0    36     11.12   \n",
       "39476     186347       1000         1000            875.0    36      7.12   \n",
       "\n",
       "       installment grade sub_grade emp_title  ... out_prncp_inv  total_pymnt  \\\n",
       "26025       163.98     B        B3            ...           0.0  3362.960000   \n",
       "39476        30.94     A        A1            ...           0.0  1110.813028   \n",
       "\n",
       "       total_pymnt_inv total_rec_prncp total_rec_int total_rec_late_fee  \\\n",
       "26025          3362.96         2553.55        702.45                0.0   \n",
       "39476           971.96         1000.00        110.81                0.0   \n",
       "\n",
       "      recoveries  collection_recovery_fee last_credit_pull_d  \\\n",
       "26025     106.96                     1.34                NaT   \n",
       "39476       0.00                     0.00                NaT   \n",
       "\n",
       "       pub_rec_bankruptcies  \n",
       "26025                   0.0  \n",
       "39476                   NaN  \n",
       "\n",
       "[2 rows x 40 columns]"
      ]
     },
     "execution_count": 62,
     "metadata": {},
     "output_type": "execute_result"
    }
   ],
   "source": [
    "loan_data[(loan_data.last_credit_pull_d.isna())]"
   ]
  },
  {
   "cell_type": "code",
   "execution_count": 63,
   "id": "9ee0ff4d",
   "metadata": {},
   "outputs": [],
   "source": [
    "# there are some NAs, lets ignore these 2 records"
   ]
  },
  {
   "cell_type": "code",
   "execution_count": 64,
   "id": "56488005",
   "metadata": {},
   "outputs": [],
   "source": [
    "loan_data = loan_data[~(loan_data.last_credit_pull_d.isna())]"
   ]
  },
  {
   "cell_type": "code",
   "execution_count": 65,
   "id": "252ea447",
   "metadata": {},
   "outputs": [
    {
     "name": "stdout",
     "output_type": "stream",
     "text": [
      "<class 'pandas.core.frame.DataFrame'>\n",
      "Int64Index: 39715 entries, 0 to 39716\n",
      "Data columns (total 40 columns):\n",
      " #   Column                   Non-Null Count  Dtype         \n",
      "---  ------                   --------------  -----         \n",
      " 0   member_id                39715 non-null  int64         \n",
      " 1   loan_amnt                39715 non-null  int64         \n",
      " 2   funded_amnt              39715 non-null  int64         \n",
      " 3   funded_amnt_inv          39715 non-null  float64       \n",
      " 4   term                     39715 non-null  int64         \n",
      " 5   int_rate                 39715 non-null  float64       \n",
      " 6   installment              39715 non-null  float64       \n",
      " 7   grade                    39715 non-null  object        \n",
      " 8   sub_grade                39715 non-null  object        \n",
      " 9   emp_title                39715 non-null  object        \n",
      " 10  emp_length               38640 non-null  object        \n",
      " 11  home_ownership           39715 non-null  object        \n",
      " 12  annual_inc               39715 non-null  float64       \n",
      " 13  verification_status      39715 non-null  object        \n",
      " 14  issue_d                  39715 non-null  datetime64[ns]\n",
      " 15  loan_status              39715 non-null  object        \n",
      " 16  purpose                  39715 non-null  object        \n",
      " 17  zip_code                 39715 non-null  int64         \n",
      " 18  addr_state               39715 non-null  object        \n",
      " 19  dti                      39715 non-null  float64       \n",
      " 20  earliest_cr_line         39715 non-null  datetime64[ns]\n",
      " 21  inq_last_6mths           39715 non-null  int64         \n",
      " 22  mths_since_last_delinq   14034 non-null  float64       \n",
      " 23  mths_since_last_record   2785 non-null   float64       \n",
      " 24  open_acc                 39715 non-null  int64         \n",
      " 25  pub_rec                  39715 non-null  int64         \n",
      " 26  revol_bal                39715 non-null  int64         \n",
      " 27  revol_util               39665 non-null  float64       \n",
      " 28  total_acc                39715 non-null  int64         \n",
      " 29  out_prncp                39715 non-null  float64       \n",
      " 30  out_prncp_inv            39715 non-null  float64       \n",
      " 31  total_pymnt              39715 non-null  float64       \n",
      " 32  total_pymnt_inv          39715 non-null  float64       \n",
      " 33  total_rec_prncp          39715 non-null  float64       \n",
      " 34  total_rec_int            39715 non-null  float64       \n",
      " 35  total_rec_late_fee       39715 non-null  float64       \n",
      " 36  recoveries               39715 non-null  float64       \n",
      " 37  collection_recovery_fee  39715 non-null  float64       \n",
      " 38  last_credit_pull_d       39715 non-null  datetime64[ns]\n",
      " 39  pub_rec_bankruptcies     39019 non-null  float64       \n",
      "dtypes: datetime64[ns](3), float64(18), int64(10), object(9)\n",
      "memory usage: 12.4+ MB\n"
     ]
    }
   ],
   "source": [
    "loan_data.info()"
   ]
  },
  {
   "cell_type": "code",
   "execution_count": 66,
   "id": "a77d82e9",
   "metadata": {},
   "outputs": [],
   "source": [
    "# save the filtered data into new csv so that it is easy to look at data\n",
    "loan_data.to_csv('FilteredLoanData.csv', index=False)"
   ]
  },
  {
   "cell_type": "markdown",
   "id": "d5a827c1",
   "metadata": {},
   "source": [
    "Let's do Analysis on data"
   ]
  },
  {
   "cell_type": "code",
   "execution_count": 68,
   "id": "d5707f17",
   "metadata": {},
   "outputs": [
    {
     "data": {
      "text/plain": [
       "<AxesSubplot:xlabel='annual_inc'>"
      ]
     },
     "execution_count": 68,
     "metadata": {},
     "output_type": "execute_result"
    },
    {
     "data": {
      "image/png": "[encoded data removed]",
      "text/plain": [
       "<Figure size 432x288 with 1 Axes>"
      ]
     },
     "metadata": {},
     "output_type": "display_data"
    }
   ],
   "source": [
    "sns.boxplot(loan_data.annual_inc)"
   ]
  },
  {
   "cell_type": "markdown",
   "id": "28563aac",
   "metadata": {},
   "source": [
    "there are a lot of outliers which needs to be treated. let us find the quantiles for this data"
   ]
  },
  {
   "cell_type": "code",
   "execution_count": 70,
   "id": "6747d71f",
   "metadata": {},
   "outputs": [
    {
     "data": {
      "text/plain": [
       "0.00       4000.00\n",
       "0.01      14400.00\n",
       "0.05      24000.00\n",
       "0.25      40402.00\n",
       "0.50      59000.00\n",
       "0.75      82298.00\n",
       "0.90     116000.00\n",
       "0.95     142000.00\n",
       "0.99     234999.44\n",
       "1.00    6000000.00\n",
       "Name: annual_inc, dtype: float64"
      ]
     },
     "execution_count": 70,
     "metadata": {},
     "output_type": "execute_result"
    }
   ],
   "source": [
    "loan_data.annual_inc.quantile([0,0.01,0.05,0.25,0.50,0.75,0.90,0.95,0.99,1])"
   ]
  },
  {
   "cell_type": "code",
   "execution_count": 175,
   "id": "98052078",
   "metadata": {},
   "outputs": [],
   "source": [
    "# we can remove top 1% income as they are clearly outliers\n",
    "loan_data= loan_data[loan_data.annual_inc <= loan_data.annual_inc.quantile(0.99)]"
   ]
  },
  {
   "cell_type": "code",
   "execution_count": 176,
   "id": "afa8386f",
   "metadata": {},
   "outputs": [
    {
     "data": {
      "text/plain": [
       "<AxesSubplot:xlabel='annual_inc'>"
      ]
     },
     "execution_count": 176,
     "metadata": {},
     "output_type": "execute_result"
    },
    {
     "data": {
      "image/png": "[encoded data removed]",
      "text/plain": [
       "<Figure size 432x288 with 1 Axes>"
      ]
     },
     "metadata": {},
     "output_type": "display_data"
    }
   ],
   "source": [
    "sns.boxplot(loan_data.annual_inc)"
   ]
  },
  {
   "cell_type": "code",
   "execution_count": 73,
   "id": "8054a51c",
   "metadata": {},
   "outputs": [
    {
     "data": {
      "text/plain": [
       "<AxesSubplot:xlabel='loan_amnt'>"
      ]
     },
     "execution_count": 73,
     "metadata": {},
     "output_type": "execute_result"
    },
    {
     "data": {
      "image/png": "[encoded data removed]",
      "text/plain": [
       "<Figure size 432x288 with 1 Axes>"
      ]
     },
     "metadata": {},
     "output_type": "display_data"
    }
   ],
   "source": [
    "sns.boxplot(loan_data.loan_amnt)"
   ]
  },
  {
   "cell_type": "code",
   "execution_count": 74,
   "id": "ea0a2152",
   "metadata": {},
   "outputs": [
    {
     "data": {
      "text/plain": [
       "<AxesSubplot:xlabel='loan_amnt', ylabel='Density'>"
      ]
     },
     "execution_count": 74,
     "metadata": {},
     "output_type": "execute_result"
    },
    {
     "data": {
      "image/png": "[encoded data removed]",
      "text/plain": [
       "<Figure size 432x288 with 1 Axes>"
      ]
     },
     "metadata": {},
     "output_type": "display_data"
    }
   ],
   "source": [
    "sns.distplot(loan_data.loan_amnt)"
   ]
  },
  {
   "cell_type": "markdown",
   "id": "d9443154",
   "metadata": {},
   "source": [
    "There is a spike at all multiples of 5000s\\\n",
    "Majority of loans taken are with amount of 10000\\\n",
    "And there is an increase in number of loans at 35000\\\n",
    "These peaks are expected as most of the people apply loans with rounded figures."
   ]
  },
  {
   "cell_type": "code",
   "execution_count": 76,
   "id": "5e9b87bb",
   "metadata": {},
   "outputs": [
    {
     "data": {
      "text/plain": [
       "36    28818\n",
       "60    10499\n",
       "Name: term, dtype: int64"
      ]
     },
     "execution_count": 76,
     "metadata": {},
     "output_type": "execute_result"
    }
   ],
   "source": [
    "loan_data.term.value_counts()"
   ]
  },
  {
   "cell_type": "markdown",
   "id": "49fc8118",
   "metadata": {},
   "source": [
    "There are only 2 terms that are 36 or 60 months"
   ]
  },
  {
   "cell_type": "code",
   "execution_count": 78,
   "id": "c84ab8bf",
   "metadata": {},
   "outputs": [
    {
     "data": {
      "text/plain": [
       "<AxesSubplot:xlabel='int_rate', ylabel='Density'>"
      ]
     },
     "execution_count": 78,
     "metadata": {},
     "output_type": "execute_result"
    },
    {
     "data": {
      "image/png": "[encoded data removed]",
      "text/plain": [
       "<Figure size 432x288 with 1 Axes>"
      ]
     },
     "metadata": {},
     "output_type": "display_data"
    }
   ],
   "source": [
    "sns.distplot(loan_data.int_rate)"
   ]
  },
  {
   "cell_type": "code",
   "execution_count": 79,
   "id": "11006d00",
   "metadata": {},
   "outputs": [
    {
     "data": {
      "text/plain": [
       "count    39317.000000\n",
       "mean        12.006289\n",
       "std          3.717377\n",
       "min          5.420000\n",
       "25%          9.250000\n",
       "50%         11.830000\n",
       "75%         14.540000\n",
       "max         24.590000\n",
       "Name: int_rate, dtype: float64"
      ]
     },
     "execution_count": 79,
     "metadata": {},
     "output_type": "execute_result"
    }
   ],
   "source": [
    "loan_data.int_rate.describe()"
   ]
  },
  {
   "cell_type": "markdown",
   "id": "e7d82495",
   "metadata": {},
   "source": [
    "Majority of loans are around 9 - 14% and there are few below 9 and above 14"
   ]
  },
  {
   "cell_type": "code",
   "execution_count": 81,
   "id": "7ef3610f",
   "metadata": {},
   "outputs": [
    {
     "data": {
      "text/plain": [
       "B    11924\n",
       "A    10017\n",
       "C     8015\n",
       "D     5244\n",
       "E     2786\n",
       "F     1025\n",
       "G      306\n",
       "Name: grade, dtype: int64"
      ]
     },
     "execution_count": 81,
     "metadata": {},
     "output_type": "execute_result"
    }
   ],
   "source": [
    "loan_data.grade.value_counts()"
   ]
  },
  {
   "cell_type": "markdown",
   "id": "fc7a3c34",
   "metadata": {},
   "source": [
    "Majority of loans have grade B & A"
   ]
  },
  {
   "cell_type": "code",
   "execution_count": 83,
   "id": "8ed2b4a0",
   "metadata": {
    "scrolled": true
   },
   "outputs": [
    {
     "data": {
      "text/plain": [
       "10+ years    8740\n",
       "< 1 year     4552\n",
       "2 years      4342\n",
       "3 years      4059\n",
       "4 years      3410\n",
       "5 years      3254\n",
       "1 year       3213\n",
       "6 years      2209\n",
       "7 years      1759\n",
       "8 years      1462\n",
       "9 years      1247\n",
       "Name: emp_length, dtype: int64"
      ]
     },
     "execution_count": 83,
     "metadata": {},
     "output_type": "execute_result"
    }
   ],
   "source": [
    "loan_data.emp_length.value_counts()"
   ]
  },
  {
   "cell_type": "code",
   "execution_count": 84,
   "id": "913f8ea3",
   "metadata": {},
   "outputs": [
    {
     "data": {
      "text/plain": [
       "RENT        18812\n",
       "MORTGAGE    17377\n",
       "OWN          3029\n",
       "OTHER          96\n",
       "NONE            3\n",
       "Name: home_ownership, dtype: int64"
      ]
     },
     "execution_count": 84,
     "metadata": {},
     "output_type": "execute_result"
    }
   ],
   "source": [
    "loan_data.home_ownership.value_counts()"
   ]
  },
  {
   "cell_type": "code",
   "execution_count": 85,
   "id": "150ba11c",
   "metadata": {},
   "outputs": [],
   "source": [
    "#Since there are only 3 NONE we can't make much insight of it, so let us remove it as outlier\n",
    "loan_data = loan_data[loan_data.home_ownership != 'NONE']"
   ]
  },
  {
   "cell_type": "markdown",
   "id": "3267d8b3",
   "metadata": {},
   "source": [
    "Very few people have own houses in entire distribution of data\\\n",
    "People with own house are less likely to apply for a loan compared to rented/mortgaged houses"
   ]
  },
  {
   "cell_type": "code",
   "execution_count": 87,
   "id": "6a5c0dff",
   "metadata": {},
   "outputs": [
    {
     "data": {
      "text/plain": [
       "count     39314.000000\n",
       "mean      65520.894367\n",
       "std       35214.538446\n",
       "min        4000.000000\n",
       "25%       40000.000000\n",
       "50%       58000.000000\n",
       "75%       81000.000000\n",
       "max      234996.000000\n",
       "Name: annual_inc, dtype: float64"
      ]
     },
     "execution_count": 87,
     "metadata": {},
     "output_type": "execute_result"
    }
   ],
   "source": [
    "loan_data.annual_inc.describe()"
   ]
  },
  {
   "cell_type": "code",
   "execution_count": 88,
   "id": "dfa73487",
   "metadata": {},
   "outputs": [
    {
     "data": {
      "text/plain": [
       "debt_consolidation    18496\n",
       "credit_card            5089\n",
       "other                  3955\n",
       "home_improvement       2894\n",
       "major_purchase         2166\n",
       "small_business         1796\n",
       "car                    1542\n",
       "wedding                 937\n",
       "medical                 686\n",
       "moving                  577\n",
       "vacation                381\n",
       "house                   371\n",
       "educational             323\n",
       "renewable_energy        101\n",
       "Name: purpose, dtype: int64"
      ]
     },
     "execution_count": 88,
     "metadata": {},
     "output_type": "execute_result"
    }
   ],
   "source": [
    "loan_data.purpose.value_counts()"
   ]
  },
  {
   "cell_type": "markdown",
   "id": "da91800a",
   "metadata": {},
   "source": [
    "Majority of loans are taken for debt_consolidation or credit card"
   ]
  },
  {
   "cell_type": "code",
   "execution_count": 90,
   "id": "bbf96f36",
   "metadata": {},
   "outputs": [
    {
     "data": {
      "text/plain": [
       "100    576\n",
       "945    542\n",
       "112    513\n",
       "606    498\n",
       "70     466\n",
       "      ... \n",
       "248      1\n",
       "463      1\n",
       "381      1\n",
       "378      1\n",
       "469      1\n",
       "Name: zip_code, Length: 823, dtype: int64"
      ]
     },
     "execution_count": 90,
     "metadata": {},
     "output_type": "execute_result"
    }
   ],
   "source": [
    "loan_data.zip_code.value_counts()"
   ]
  },
  {
   "cell_type": "code",
   "execution_count": 91,
   "id": "cf6f294a",
   "metadata": {},
   "outputs": [
    {
     "data": {
      "text/plain": [
       "CA    7029\n",
       "NY    3755\n",
       "FL    2834\n",
       "TX    2694\n",
       "NJ    1826\n",
       "PA    1508\n",
       "IL    1505\n",
       "VA    1395\n",
       "GA    1388\n",
       "MA    1320\n",
       "OH    1217\n",
       "MD    1036\n",
       "AZ     869\n",
       "WA     833\n",
       "CO     782\n",
       "NC     781\n",
       "CT     736\n",
       "MI     714\n",
       "MO     681\n",
       "MN     613\n",
       "NV     492\n",
       "SC     468\n",
       "WI     459\n",
       "OR     451\n",
       "AL     449\n",
       "LA     429\n",
       "KY     324\n",
       "OK     298\n",
       "KS     271\n",
       "UT     257\n",
       "AR     245\n",
       "DC     214\n",
       "RI     194\n",
       "NM     184\n",
       "WV     177\n",
       "HI     174\n",
       "NH     169\n",
       "DE     114\n",
       "MT      85\n",
       "WY      83\n",
       "AK      79\n",
       "SD      64\n",
       "VT      54\n",
       "MS      19\n",
       "TN      17\n",
       "IN       9\n",
       "ID       6\n",
       "IA       5\n",
       "NE       5\n",
       "ME       3\n",
       "Name: addr_state, dtype: int64"
      ]
     },
     "execution_count": 91,
     "metadata": {},
     "output_type": "execute_result"
    }
   ],
   "source": [
    "loan_data.addr_state.value_counts()"
   ]
  },
  {
   "cell_type": "markdown",
   "id": "a4293b91",
   "metadata": {},
   "source": [
    "Majority of the loans taken are from CA  "
   ]
  },
  {
   "cell_type": "code",
   "execution_count": 93,
   "id": "b3a59e2e",
   "metadata": {},
   "outputs": [
    {
     "data": {
      "text/plain": [
       "count    39314.000000\n",
       "mean        13.377308\n",
       "std          6.662952\n",
       "min          0.000000\n",
       "25%          8.270000\n",
       "50%         13.480000\n",
       "75%         18.640000\n",
       "max         29.990000\n",
       "Name: dti, dtype: float64"
      ]
     },
     "execution_count": 93,
     "metadata": {},
     "output_type": "execute_result"
    }
   ],
   "source": [
    "loan_data.dti.describe()"
   ]
  },
  {
   "cell_type": "code",
   "execution_count": 94,
   "id": "55c984d1",
   "metadata": {},
   "outputs": [
    {
     "data": {
      "text/plain": [
       "Fully Paid     32605\n",
       "Charged Off     5583\n",
       "Current         1126\n",
       "Name: loan_status, dtype: int64"
      ]
     },
     "execution_count": 94,
     "metadata": {},
     "output_type": "execute_result"
    }
   ],
   "source": [
    "loan_data.loan_status.value_counts()"
   ]
  },
  {
   "cell_type": "code",
   "execution_count": 95,
   "id": "0109007d",
   "metadata": {},
   "outputs": [],
   "source": [
    "# since our areas of interest are \"Fully paid\" and \"Charged off\", we can remove Current loans\n",
    "loan_data = loan_data[loan_data.loan_status != \"Current\"]\n",
    "sanity_clean_data(loan_data)\n",
    "loan_data.to_csv('FilteredLoanData.csv', index=False)"
   ]
  },
  {
   "cell_type": "code",
   "execution_count": 96,
   "id": "d8788f7f",
   "metadata": {},
   "outputs": [
    {
     "data": {
      "text/html": [
       "<div>\n",
       "<style scoped>\n",
       "    .dataframe tbody tr th:only-of-type {\n",
       "        vertical-align: middle;\n",
       "    }\n",
       "\n",
       "    .dataframe tbody tr th {\n",
       "        vertical-align: top;\n",
       "    }\n",
       "\n",
       "    .dataframe thead th {\n",
       "        text-align: right;\n",
       "    }\n",
       "</style>\n",
       "<table border=\"1\" class=\"dataframe\">\n",
       "  <thead>\n",
       "    <tr style=\"text-align: right;\">\n",
       "      <th></th>\n",
       "      <th>member_id</th>\n",
       "      <th>loan_amnt</th>\n",
       "      <th>funded_amnt</th>\n",
       "      <th>funded_amnt_inv</th>\n",
       "      <th>term</th>\n",
       "      <th>int_rate</th>\n",
       "      <th>installment</th>\n",
       "      <th>grade</th>\n",
       "      <th>sub_grade</th>\n",
       "      <th>emp_title</th>\n",
       "      <th>...</th>\n",
       "      <th>total_acc</th>\n",
       "      <th>total_pymnt</th>\n",
       "      <th>total_pymnt_inv</th>\n",
       "      <th>total_rec_prncp</th>\n",
       "      <th>total_rec_int</th>\n",
       "      <th>total_rec_late_fee</th>\n",
       "      <th>recoveries</th>\n",
       "      <th>collection_recovery_fee</th>\n",
       "      <th>last_credit_pull_d</th>\n",
       "      <th>pub_rec_bankruptcies</th>\n",
       "    </tr>\n",
       "  </thead>\n",
       "  <tbody>\n",
       "    <tr>\n",
       "      <th>0</th>\n",
       "      <td>1296599</td>\n",
       "      <td>5000</td>\n",
       "      <td>5000</td>\n",
       "      <td>4975.0</td>\n",
       "      <td>36</td>\n",
       "      <td>10.65</td>\n",
       "      <td>162.87</td>\n",
       "      <td>B</td>\n",
       "      <td>B2</td>\n",
       "      <td></td>\n",
       "      <td>...</td>\n",
       "      <td>9</td>\n",
       "      <td>5863.155187</td>\n",
       "      <td>5833.84</td>\n",
       "      <td>5000.00</td>\n",
       "      <td>863.16</td>\n",
       "      <td>0.00</td>\n",
       "      <td>0.00</td>\n",
       "      <td>0.00</td>\n",
       "      <td>2016-05-01</td>\n",
       "      <td>0.0</td>\n",
       "    </tr>\n",
       "    <tr>\n",
       "      <th>1</th>\n",
       "      <td>1314167</td>\n",
       "      <td>2500</td>\n",
       "      <td>2500</td>\n",
       "      <td>2500.0</td>\n",
       "      <td>60</td>\n",
       "      <td>15.27</td>\n",
       "      <td>59.83</td>\n",
       "      <td>C</td>\n",
       "      <td>C4</td>\n",
       "      <td>Ryder</td>\n",
       "      <td>...</td>\n",
       "      <td>4</td>\n",
       "      <td>1008.710000</td>\n",
       "      <td>1008.71</td>\n",
       "      <td>456.46</td>\n",
       "      <td>435.17</td>\n",
       "      <td>0.00</td>\n",
       "      <td>117.08</td>\n",
       "      <td>1.11</td>\n",
       "      <td>2013-09-01</td>\n",
       "      <td>0.0</td>\n",
       "    </tr>\n",
       "    <tr>\n",
       "      <th>2</th>\n",
       "      <td>1313524</td>\n",
       "      <td>2400</td>\n",
       "      <td>2400</td>\n",
       "      <td>2400.0</td>\n",
       "      <td>36</td>\n",
       "      <td>15.96</td>\n",
       "      <td>84.33</td>\n",
       "      <td>C</td>\n",
       "      <td>C5</td>\n",
       "      <td></td>\n",
       "      <td>...</td>\n",
       "      <td>10</td>\n",
       "      <td>3005.666844</td>\n",
       "      <td>3005.67</td>\n",
       "      <td>2400.00</td>\n",
       "      <td>605.67</td>\n",
       "      <td>0.00</td>\n",
       "      <td>0.00</td>\n",
       "      <td>0.00</td>\n",
       "      <td>2016-05-01</td>\n",
       "      <td>0.0</td>\n",
       "    </tr>\n",
       "    <tr>\n",
       "      <th>3</th>\n",
       "      <td>1277178</td>\n",
       "      <td>10000</td>\n",
       "      <td>10000</td>\n",
       "      <td>10000.0</td>\n",
       "      <td>36</td>\n",
       "      <td>13.49</td>\n",
       "      <td>339.31</td>\n",
       "      <td>C</td>\n",
       "      <td>C1</td>\n",
       "      <td>AIR RESOURCES BOARD</td>\n",
       "      <td>...</td>\n",
       "      <td>37</td>\n",
       "      <td>12231.890000</td>\n",
       "      <td>12231.89</td>\n",
       "      <td>10000.00</td>\n",
       "      <td>2214.92</td>\n",
       "      <td>16.97</td>\n",
       "      <td>0.00</td>\n",
       "      <td>0.00</td>\n",
       "      <td>2016-04-01</td>\n",
       "      <td>0.0</td>\n",
       "    </tr>\n",
       "    <tr>\n",
       "      <th>5</th>\n",
       "      <td>1311441</td>\n",
       "      <td>5000</td>\n",
       "      <td>5000</td>\n",
       "      <td>5000.0</td>\n",
       "      <td>36</td>\n",
       "      <td>7.90</td>\n",
       "      <td>156.46</td>\n",
       "      <td>A</td>\n",
       "      <td>A4</td>\n",
       "      <td>Veolia Transportaton</td>\n",
       "      <td>...</td>\n",
       "      <td>12</td>\n",
       "      <td>5632.210000</td>\n",
       "      <td>5632.21</td>\n",
       "      <td>5000.00</td>\n",
       "      <td>632.21</td>\n",
       "      <td>0.00</td>\n",
       "      <td>0.00</td>\n",
       "      <td>0.00</td>\n",
       "      <td>2016-01-01</td>\n",
       "      <td>0.0</td>\n",
       "    </tr>\n",
       "  </tbody>\n",
       "</table>\n",
       "<p>5 rows × 38 columns</p>\n",
       "</div>"
      ],
      "text/plain": [
       "   member_id  loan_amnt  funded_amnt  funded_amnt_inv  term  int_rate  \\\n",
       "0    1296599       5000         5000           4975.0    36     10.65   \n",
       "1    1314167       2500         2500           2500.0    60     15.27   \n",
       "2    1313524       2400         2400           2400.0    36     15.96   \n",
       "3    1277178      10000        10000          10000.0    36     13.49   \n",
       "5    1311441       5000         5000           5000.0    36      7.90   \n",
       "\n",
       "   installment grade sub_grade             emp_title  ... total_acc  \\\n",
       "0       162.87     B        B2                        ...         9   \n",
       "1        59.83     C        C4                 Ryder  ...         4   \n",
       "2        84.33     C        C5                        ...        10   \n",
       "3       339.31     C        C1   AIR RESOURCES BOARD  ...        37   \n",
       "5       156.46     A        A4  Veolia Transportaton  ...        12   \n",
       "\n",
       "    total_pymnt  total_pymnt_inv total_rec_prncp total_rec_int  \\\n",
       "0   5863.155187          5833.84         5000.00        863.16   \n",
       "1   1008.710000          1008.71          456.46        435.17   \n",
       "2   3005.666844          3005.67         2400.00        605.67   \n",
       "3  12231.890000         12231.89        10000.00       2214.92   \n",
       "5   5632.210000          5632.21         5000.00        632.21   \n",
       "\n",
       "  total_rec_late_fee recoveries  collection_recovery_fee last_credit_pull_d  \\\n",
       "0               0.00       0.00                     0.00         2016-05-01   \n",
       "1               0.00     117.08                     1.11         2013-09-01   \n",
       "2               0.00       0.00                     0.00         2016-05-01   \n",
       "3              16.97       0.00                     0.00         2016-04-01   \n",
       "5               0.00       0.00                     0.00         2016-01-01   \n",
       "\n",
       "   pub_rec_bankruptcies  \n",
       "0                   0.0  \n",
       "1                   0.0  \n",
       "2                   0.0  \n",
       "3                   0.0  \n",
       "5                   0.0  \n",
       "\n",
       "[5 rows x 38 columns]"
      ]
     },
     "execution_count": 96,
     "metadata": {},
     "output_type": "execute_result"
    }
   ],
   "source": [
    "loan_data.head()"
   ]
  },
  {
   "cell_type": "markdown",
   "id": "1dceb9a7",
   "metadata": {},
   "source": [
    "Segmented Univariate Analysis"
   ]
  },
  {
   "cell_type": "code",
   "execution_count": 98,
   "id": "c506b446",
   "metadata": {},
   "outputs": [
    {
     "data": {
      "text/html": [
       "<div>\n",
       "<style scoped>\n",
       "    .dataframe tbody tr th:only-of-type {\n",
       "        vertical-align: middle;\n",
       "    }\n",
       "\n",
       "    .dataframe tbody tr th {\n",
       "        vertical-align: top;\n",
       "    }\n",
       "\n",
       "    .dataframe thead th {\n",
       "        text-align: right;\n",
       "    }\n",
       "</style>\n",
       "<table border=\"1\" class=\"dataframe\">\n",
       "  <thead>\n",
       "    <tr style=\"text-align: right;\">\n",
       "      <th></th>\n",
       "      <th>annual_inc</th>\n",
       "      <th>dti</th>\n",
       "      <th>int_rate</th>\n",
       "      <th>loan_amnt</th>\n",
       "    </tr>\n",
       "    <tr>\n",
       "      <th>home_ownership</th>\n",
       "      <th></th>\n",
       "      <th></th>\n",
       "      <th></th>\n",
       "      <th></th>\n",
       "    </tr>\n",
       "  </thead>\n",
       "  <tbody>\n",
       "    <tr>\n",
       "      <th>MORTGAGE</th>\n",
       "      <td>77695.434386</td>\n",
       "      <td>13.200222</td>\n",
       "      <td>11.641654</td>\n",
       "      <td>12347.549107</td>\n",
       "    </tr>\n",
       "    <tr>\n",
       "      <th>OTHER</th>\n",
       "      <td>64003.666667</td>\n",
       "      <td>11.267188</td>\n",
       "      <td>11.988021</td>\n",
       "      <td>10468.489583</td>\n",
       "    </tr>\n",
       "    <tr>\n",
       "      <th>OWN</th>\n",
       "      <td>55906.440387</td>\n",
       "      <td>13.247204</td>\n",
       "      <td>11.675796</td>\n",
       "      <td>10036.986766</td>\n",
       "    </tr>\n",
       "    <tr>\n",
       "      <th>RENT</th>\n",
       "      <td>55565.449912</td>\n",
       "      <td>13.480934</td>\n",
       "      <td>12.208562</td>\n",
       "      <td>9853.855458</td>\n",
       "    </tr>\n",
       "  </tbody>\n",
       "</table>\n",
       "</div>"
      ],
      "text/plain": [
       "                  annual_inc        dti   int_rate     loan_amnt\n",
       "home_ownership                                                  \n",
       "MORTGAGE        77695.434386  13.200222  11.641654  12347.549107\n",
       "OTHER           64003.666667  11.267188  11.988021  10468.489583\n",
       "OWN             55906.440387  13.247204  11.675796  10036.986766\n",
       "RENT            55565.449912  13.480934  12.208562   9853.855458"
      ]
     },
     "execution_count": 98,
     "metadata": {},
     "output_type": "execute_result"
    }
   ],
   "source": [
    "pd.pivot_table(loan_data,index='home_ownership',values=['annual_inc','dti','loan_amnt','int_rate'] ,aggfunc=np.mean)"
   ]
  },
  {
   "cell_type": "code",
   "execution_count": 99,
   "id": "32f06544",
   "metadata": {},
   "outputs": [
    {
     "data": {
      "text/html": [
       "<div>\n",
       "<style scoped>\n",
       "    .dataframe tbody tr th:only-of-type {\n",
       "        vertical-align: middle;\n",
       "    }\n",
       "\n",
       "    .dataframe tbody tr th {\n",
       "        vertical-align: top;\n",
       "    }\n",
       "\n",
       "    .dataframe thead th {\n",
       "        text-align: right;\n",
       "    }\n",
       "</style>\n",
       "<table border=\"1\" class=\"dataframe\">\n",
       "  <thead>\n",
       "    <tr style=\"text-align: right;\">\n",
       "      <th></th>\n",
       "      <th>annual_inc</th>\n",
       "      <th>dti</th>\n",
       "      <th>int_rate</th>\n",
       "      <th>loan_amnt</th>\n",
       "    </tr>\n",
       "    <tr>\n",
       "      <th>verification_status</th>\n",
       "      <th></th>\n",
       "      <th></th>\n",
       "      <th></th>\n",
       "      <th></th>\n",
       "    </tr>\n",
       "  </thead>\n",
       "  <tbody>\n",
       "    <tr>\n",
       "      <th>Not Verified</th>\n",
       "      <td>52000.0</td>\n",
       "      <td>13.14</td>\n",
       "      <td>11.12</td>\n",
       "      <td>7500</td>\n",
       "    </tr>\n",
       "    <tr>\n",
       "      <th>Source Verified</th>\n",
       "      <td>55000.0</td>\n",
       "      <td>12.71</td>\n",
       "      <td>11.86</td>\n",
       "      <td>8500</td>\n",
       "    </tr>\n",
       "    <tr>\n",
       "      <th>Verified</th>\n",
       "      <td>69000.0</td>\n",
       "      <td>14.46</td>\n",
       "      <td>12.69</td>\n",
       "      <td>15000</td>\n",
       "    </tr>\n",
       "  </tbody>\n",
       "</table>\n",
       "</div>"
      ],
      "text/plain": [
       "                     annual_inc    dti  int_rate  loan_amnt\n",
       "verification_status                                        \n",
       "Not Verified            52000.0  13.14     11.12       7500\n",
       "Source Verified         55000.0  12.71     11.86       8500\n",
       "Verified                69000.0  14.46     12.69      15000"
      ]
     },
     "execution_count": 99,
     "metadata": {},
     "output_type": "execute_result"
    }
   ],
   "source": [
    "pd.pivot_table(loan_data,index='verification_status',values=['annual_inc','dti','loan_amnt','int_rate'] ,aggfunc=np.median)"
   ]
  },
  {
   "cell_type": "markdown",
   "id": "d1b33144",
   "metadata": {},
   "source": [
    "We see that verified individuals have more annual income and more loan amount, where as least for Not Verified"
   ]
  },
  {
   "cell_type": "code",
   "execution_count": 101,
   "id": "291ae82b",
   "metadata": {},
   "outputs": [
    {
     "data": {
      "text/html": [
       "<div>\n",
       "<style scoped>\n",
       "    .dataframe tbody tr th:only-of-type {\n",
       "        vertical-align: middle;\n",
       "    }\n",
       "\n",
       "    .dataframe tbody tr th {\n",
       "        vertical-align: top;\n",
       "    }\n",
       "\n",
       "    .dataframe thead th {\n",
       "        text-align: right;\n",
       "    }\n",
       "</style>\n",
       "<table border=\"1\" class=\"dataframe\">\n",
       "  <thead>\n",
       "    <tr style=\"text-align: right;\">\n",
       "      <th></th>\n",
       "      <th>annual_inc</th>\n",
       "      <th>dti</th>\n",
       "      <th>inq_last_6mths</th>\n",
       "      <th>int_rate</th>\n",
       "      <th>loan_amnt</th>\n",
       "    </tr>\n",
       "    <tr>\n",
       "      <th>loan_status</th>\n",
       "      <th></th>\n",
       "      <th></th>\n",
       "      <th></th>\n",
       "      <th></th>\n",
       "      <th></th>\n",
       "    </tr>\n",
       "  </thead>\n",
       "  <tbody>\n",
       "    <tr>\n",
       "      <th>Charged Off</th>\n",
       "      <td>59834.399461</td>\n",
       "      <td>14.046781</td>\n",
       "      <td>1.059108</td>\n",
       "      <td>13.809108</td>\n",
       "      <td>12044.075766</td>\n",
       "    </tr>\n",
       "    <tr>\n",
       "      <th>Fully Paid</th>\n",
       "      <td>66258.182081</td>\n",
       "      <td>13.212200</td>\n",
       "      <td>0.836620</td>\n",
       "      <td>11.594478</td>\n",
       "      <td>10778.178960</td>\n",
       "    </tr>\n",
       "  </tbody>\n",
       "</table>\n",
       "</div>"
      ],
      "text/plain": [
       "               annual_inc        dti  inq_last_6mths   int_rate     loan_amnt\n",
       "loan_status                                                                  \n",
       "Charged Off  59834.399461  14.046781        1.059108  13.809108  12044.075766\n",
       "Fully Paid   66258.182081  13.212200        0.836620  11.594478  10778.178960"
      ]
     },
     "execution_count": 101,
     "metadata": {},
     "output_type": "execute_result"
    }
   ],
   "source": [
    "pd.pivot_table(loan_data,index='loan_status',values=['annual_inc','dti','loan_amnt','int_rate', 'inq_last_6mths'] ,aggfunc=np.mean)"
   ]
  },
  {
   "cell_type": "markdown",
   "id": "1e28a823",
   "metadata": {},
   "source": [
    "Loans having lower interest rate are more likely to be Fully Paid, rather than the ones with higher rates."
   ]
  },
  {
   "cell_type": "markdown",
   "id": "7e57fbca",
   "metadata": {},
   "source": [
    "We don't see any value addition doing univariate for other variables, most of them needs corelation.\\\n",
    "Hence let's start bi/multi variate analysis"
   ]
  },
  {
   "cell_type": "code",
   "execution_count": 104,
   "id": "ed4b3e04",
   "metadata": {},
   "outputs": [
    {
     "data": {
      "text/html": [
       "<div>\n",
       "<style scoped>\n",
       "    .dataframe tbody tr th:only-of-type {\n",
       "        vertical-align: middle;\n",
       "    }\n",
       "\n",
       "    .dataframe tbody tr th {\n",
       "        vertical-align: top;\n",
       "    }\n",
       "\n",
       "    .dataframe thead th {\n",
       "        text-align: right;\n",
       "    }\n",
       "</style>\n",
       "<table border=\"1\" class=\"dataframe\">\n",
       "  <thead>\n",
       "    <tr style=\"text-align: right;\">\n",
       "      <th></th>\n",
       "      <th>member_id</th>\n",
       "      <th>loan_amnt</th>\n",
       "      <th>funded_amnt</th>\n",
       "      <th>funded_amnt_inv</th>\n",
       "      <th>term</th>\n",
       "      <th>int_rate</th>\n",
       "      <th>installment</th>\n",
       "      <th>annual_inc</th>\n",
       "      <th>zip_code</th>\n",
       "      <th>dti</th>\n",
       "      <th>...</th>\n",
       "      <th>revol_util</th>\n",
       "      <th>total_acc</th>\n",
       "      <th>total_pymnt</th>\n",
       "      <th>total_pymnt_inv</th>\n",
       "      <th>total_rec_prncp</th>\n",
       "      <th>total_rec_int</th>\n",
       "      <th>total_rec_late_fee</th>\n",
       "      <th>recoveries</th>\n",
       "      <th>collection_recovery_fee</th>\n",
       "      <th>pub_rec_bankruptcies</th>\n",
       "    </tr>\n",
       "  </thead>\n",
       "  <tbody>\n",
       "    <tr>\n",
       "      <th>member_id</th>\n",
       "      <td>1.000000</td>\n",
       "      <td>0.118563</td>\n",
       "      <td>0.128603</td>\n",
       "      <td>0.239999</td>\n",
       "      <td>0.193893</td>\n",
       "      <td>0.049687</td>\n",
       "      <td>0.069062</td>\n",
       "      <td>0.030463</td>\n",
       "      <td>0.019081</td>\n",
       "      <td>0.092271</td>\n",
       "      <td>...</td>\n",
       "      <td>0.089102</td>\n",
       "      <td>0.041545</td>\n",
       "      <td>0.109450</td>\n",
       "      <td>0.203323</td>\n",
       "      <td>0.091214</td>\n",
       "      <td>0.125156</td>\n",
       "      <td>-0.058784</td>\n",
       "      <td>0.037134</td>\n",
       "      <td>-0.012241</td>\n",
       "      <td>-0.007051</td>\n",
       "    </tr>\n",
       "    <tr>\n",
       "      <th>loan_amnt</th>\n",
       "      <td>0.118563</td>\n",
       "      <td>1.000000</td>\n",
       "      <td>0.981803</td>\n",
       "      <td>0.937539</td>\n",
       "      <td>0.348647</td>\n",
       "      <td>0.298332</td>\n",
       "      <td>0.931726</td>\n",
       "      <td>0.415057</td>\n",
       "      <td>0.001775</td>\n",
       "      <td>0.071763</td>\n",
       "      <td>...</td>\n",
       "      <td>0.063988</td>\n",
       "      <td>0.250868</td>\n",
       "      <td>0.880478</td>\n",
       "      <td>0.845914</td>\n",
       "      <td>0.843565</td>\n",
       "      <td>0.728106</td>\n",
       "      <td>0.048250</td>\n",
       "      <td>0.144011</td>\n",
       "      <td>0.076614</td>\n",
       "      <td>-0.034003</td>\n",
       "    </tr>\n",
       "    <tr>\n",
       "      <th>funded_amnt</th>\n",
       "      <td>0.128603</td>\n",
       "      <td>0.981803</td>\n",
       "      <td>1.000000</td>\n",
       "      <td>0.955797</td>\n",
       "      <td>0.327027</td>\n",
       "      <td>0.302556</td>\n",
       "      <td>0.957581</td>\n",
       "      <td>0.410642</td>\n",
       "      <td>0.001564</td>\n",
       "      <td>0.071316</td>\n",
       "      <td>...</td>\n",
       "      <td>0.067819</td>\n",
       "      <td>0.245082</td>\n",
       "      <td>0.897243</td>\n",
       "      <td>0.862754</td>\n",
       "      <td>0.861687</td>\n",
       "      <td>0.736463</td>\n",
       "      <td>0.050689</td>\n",
       "      <td>0.144870</td>\n",
       "      <td>0.078538</td>\n",
       "      <td>-0.034959</td>\n",
       "    </tr>\n",
       "    <tr>\n",
       "      <th>funded_amnt_inv</th>\n",
       "      <td>0.239999</td>\n",
       "      <td>0.937539</td>\n",
       "      <td>0.955797</td>\n",
       "      <td>1.000000</td>\n",
       "      <td>0.346081</td>\n",
       "      <td>0.295107</td>\n",
       "      <td>0.904518</td>\n",
       "      <td>0.393054</td>\n",
       "      <td>0.001625</td>\n",
       "      <td>0.079314</td>\n",
       "      <td>...</td>\n",
       "      <td>0.072563</td>\n",
       "      <td>0.237378</td>\n",
       "      <td>0.873078</td>\n",
       "      <td>0.907846</td>\n",
       "      <td>0.836103</td>\n",
       "      <td>0.726114</td>\n",
       "      <td>0.030154</td>\n",
       "      <td>0.132723</td>\n",
       "      <td>0.064677</td>\n",
       "      <td>-0.039337</td>\n",
       "    </tr>\n",
       "    <tr>\n",
       "      <th>term</th>\n",
       "      <td>0.193893</td>\n",
       "      <td>0.348647</td>\n",
       "      <td>0.327027</td>\n",
       "      <td>0.346081</td>\n",
       "      <td>1.000000</td>\n",
       "      <td>0.438938</td>\n",
       "      <td>0.091338</td>\n",
       "      <td>0.073370</td>\n",
       "      <td>-0.010106</td>\n",
       "      <td>0.077316</td>\n",
       "      <td>...</td>\n",
       "      <td>0.064788</td>\n",
       "      <td>0.096076</td>\n",
       "      <td>0.306483</td>\n",
       "      <td>0.321909</td>\n",
       "      <td>0.200645</td>\n",
       "      <td>0.508103</td>\n",
       "      <td>0.013688</td>\n",
       "      <td>0.113647</td>\n",
       "      <td>0.038033</td>\n",
       "      <td>0.014212</td>\n",
       "    </tr>\n",
       "    <tr>\n",
       "      <th>int_rate</th>\n",
       "      <td>0.049687</td>\n",
       "      <td>0.298332</td>\n",
       "      <td>0.302556</td>\n",
       "      <td>0.295107</td>\n",
       "      <td>0.438938</td>\n",
       "      <td>1.000000</td>\n",
       "      <td>0.275110</td>\n",
       "      <td>0.066624</td>\n",
       "      <td>0.013562</td>\n",
       "      <td>0.113394</td>\n",
       "      <td>...</td>\n",
       "      <td>0.467864</td>\n",
       "      <td>-0.052296</td>\n",
       "      <td>0.287460</td>\n",
       "      <td>0.281826</td>\n",
       "      <td>0.170994</td>\n",
       "      <td>0.520198</td>\n",
       "      <td>0.095189</td>\n",
       "      <td>0.129192</td>\n",
       "      <td>0.070563</td>\n",
       "      <td>0.084361</td>\n",
       "    </tr>\n",
       "    <tr>\n",
       "      <th>installment</th>\n",
       "      <td>0.069062</td>\n",
       "      <td>0.931726</td>\n",
       "      <td>0.957581</td>\n",
       "      <td>0.904518</td>\n",
       "      <td>0.091338</td>\n",
       "      <td>0.275110</td>\n",
       "      <td>1.000000</td>\n",
       "      <td>0.412365</td>\n",
       "      <td>0.006314</td>\n",
       "      <td>0.061556</td>\n",
       "      <td>...</td>\n",
       "      <td>0.094423</td>\n",
       "      <td>0.223620</td>\n",
       "      <td>0.856972</td>\n",
       "      <td>0.815760</td>\n",
       "      <td>0.845481</td>\n",
       "      <td>0.641998</td>\n",
       "      <td>0.059446</td>\n",
       "      <td>0.122487</td>\n",
       "      <td>0.077056</td>\n",
       "      <td>-0.031068</td>\n",
       "    </tr>\n",
       "    <tr>\n",
       "      <th>annual_inc</th>\n",
       "      <td>0.030463</td>\n",
       "      <td>0.415057</td>\n",
       "      <td>0.410642</td>\n",
       "      <td>0.393054</td>\n",
       "      <td>0.073370</td>\n",
       "      <td>0.066624</td>\n",
       "      <td>0.412365</td>\n",
       "      <td>1.000000</td>\n",
       "      <td>-0.005528</td>\n",
       "      <td>-0.107843</td>\n",
       "      <td>...</td>\n",
       "      <td>0.039245</td>\n",
       "      <td>0.378935</td>\n",
       "      <td>0.395009</td>\n",
       "      <td>0.380047</td>\n",
       "      <td>0.395892</td>\n",
       "      <td>0.282767</td>\n",
       "      <td>0.014786</td>\n",
       "      <td>0.039616</td>\n",
       "      <td>0.022734</td>\n",
       "      <td>-0.017195</td>\n",
       "    </tr>\n",
       "    <tr>\n",
       "      <th>zip_code</th>\n",
       "      <td>0.019081</td>\n",
       "      <td>0.001775</td>\n",
       "      <td>0.001564</td>\n",
       "      <td>0.001625</td>\n",
       "      <td>-0.010106</td>\n",
       "      <td>0.013562</td>\n",
       "      <td>0.006314</td>\n",
       "      <td>-0.005528</td>\n",
       "      <td>1.000000</td>\n",
       "      <td>0.017687</td>\n",
       "      <td>...</td>\n",
       "      <td>0.037795</td>\n",
       "      <td>-0.025625</td>\n",
       "      <td>-0.005805</td>\n",
       "      <td>-0.004974</td>\n",
       "      <td>-0.006838</td>\n",
       "      <td>-0.001379</td>\n",
       "      <td>-0.012067</td>\n",
       "      <td>0.000297</td>\n",
       "      <td>0.000611</td>\n",
       "      <td>0.032106</td>\n",
       "    </tr>\n",
       "    <tr>\n",
       "      <th>dti</th>\n",
       "      <td>0.092271</td>\n",
       "      <td>0.071763</td>\n",
       "      <td>0.071316</td>\n",
       "      <td>0.079314</td>\n",
       "      <td>0.077316</td>\n",
       "      <td>0.113394</td>\n",
       "      <td>0.061556</td>\n",
       "      <td>-0.107843</td>\n",
       "      <td>0.017687</td>\n",
       "      <td>1.000000</td>\n",
       "      <td>...</td>\n",
       "      <td>0.280184</td>\n",
       "      <td>0.236130</td>\n",
       "      <td>0.068360</td>\n",
       "      <td>0.075004</td>\n",
       "      <td>0.045666</td>\n",
       "      <td>0.110311</td>\n",
       "      <td>-0.010798</td>\n",
       "      <td>0.026636</td>\n",
       "      <td>0.012838</td>\n",
       "      <td>0.005019</td>\n",
       "    </tr>\n",
       "    <tr>\n",
       "      <th>inq_last_6mths</th>\n",
       "      <td>-0.045561</td>\n",
       "      <td>0.009569</td>\n",
       "      <td>0.009740</td>\n",
       "      <td>-0.005655</td>\n",
       "      <td>0.047611</td>\n",
       "      <td>0.133097</td>\n",
       "      <td>0.007602</td>\n",
       "      <td>0.038187</td>\n",
       "      <td>-0.021645</td>\n",
       "      <td>0.004947</td>\n",
       "      <td>...</td>\n",
       "      <td>-0.069302</td>\n",
       "      <td>0.111513</td>\n",
       "      <td>-0.011667</td>\n",
       "      <td>-0.021919</td>\n",
       "      <td>-0.024995</td>\n",
       "      <td>0.024504</td>\n",
       "      <td>0.030643</td>\n",
       "      <td>0.019678</td>\n",
       "      <td>0.013088</td>\n",
       "      <td>0.016050</td>\n",
       "    </tr>\n",
       "    <tr>\n",
       "      <th>mths_since_last_delinq</th>\n",
       "      <td>0.125527</td>\n",
       "      <td>0.018373</td>\n",
       "      <td>0.018909</td>\n",
       "      <td>0.075785</td>\n",
       "      <td>0.038294</td>\n",
       "      <td>-0.054698</td>\n",
       "      <td>0.003483</td>\n",
       "      <td>-0.009429</td>\n",
       "      <td>0.025816</td>\n",
       "      <td>0.066338</td>\n",
       "      <td>...</td>\n",
       "      <td>0.106308</td>\n",
       "      <td>0.011517</td>\n",
       "      <td>0.015491</td>\n",
       "      <td>0.062504</td>\n",
       "      <td>0.018481</td>\n",
       "      <td>0.006189</td>\n",
       "      <td>-0.026156</td>\n",
       "      <td>-0.008043</td>\n",
       "      <td>-0.017393</td>\n",
       "      <td>0.025322</td>\n",
       "    </tr>\n",
       "    <tr>\n",
       "      <th>mths_since_last_record</th>\n",
       "      <td>0.718802</td>\n",
       "      <td>0.004263</td>\n",
       "      <td>-0.007375</td>\n",
       "      <td>0.440070</td>\n",
       "      <td>0.277174</td>\n",
       "      <td>0.321976</td>\n",
       "      <td>-0.060237</td>\n",
       "      <td>0.004959</td>\n",
       "      <td>0.145388</td>\n",
       "      <td>0.181745</td>\n",
       "      <td>...</td>\n",
       "      <td>0.213533</td>\n",
       "      <td>0.106322</td>\n",
       "      <td>-0.003340</td>\n",
       "      <td>0.373772</td>\n",
       "      <td>-0.044948</td>\n",
       "      <td>0.117182</td>\n",
       "      <td>-0.096781</td>\n",
       "      <td>-0.011995</td>\n",
       "      <td>-0.038367</td>\n",
       "      <td>0.826227</td>\n",
       "    </tr>\n",
       "    <tr>\n",
       "      <th>open_acc</th>\n",
       "      <td>0.013552</td>\n",
       "      <td>0.174274</td>\n",
       "      <td>0.172507</td>\n",
       "      <td>0.159696</td>\n",
       "      <td>0.045630</td>\n",
       "      <td>0.001927</td>\n",
       "      <td>0.169486</td>\n",
       "      <td>0.262472</td>\n",
       "      <td>-0.047350</td>\n",
       "      <td>0.292381</td>\n",
       "      <td>...</td>\n",
       "      <td>-0.090957</td>\n",
       "      <td>0.686528</td>\n",
       "      <td>0.159211</td>\n",
       "      <td>0.149200</td>\n",
       "      <td>0.157379</td>\n",
       "      <td>0.120310</td>\n",
       "      <td>-0.018195</td>\n",
       "      <td>0.016536</td>\n",
       "      <td>0.005640</td>\n",
       "      <td>0.007002</td>\n",
       "    </tr>\n",
       "    <tr>\n",
       "      <th>pub_rec</th>\n",
       "      <td>-0.016854</td>\n",
       "      <td>-0.048814</td>\n",
       "      <td>-0.049405</td>\n",
       "      <td>-0.050550</td>\n",
       "      <td>0.010134</td>\n",
       "      <td>0.100032</td>\n",
       "      <td>-0.044456</td>\n",
       "      <td>-0.020311</td>\n",
       "      <td>0.015505</td>\n",
       "      <td>-0.005565</td>\n",
       "      <td>...</td>\n",
       "      <td>0.059940</td>\n",
       "      <td>-0.022250</td>\n",
       "      <td>-0.051741</td>\n",
       "      <td>-0.052191</td>\n",
       "      <td>-0.063433</td>\n",
       "      <td>-0.002874</td>\n",
       "      <td>-0.002090</td>\n",
       "      <td>-0.005612</td>\n",
       "      <td>-0.005467</td>\n",
       "      <td>0.847170</td>\n",
       "    </tr>\n",
       "    <tr>\n",
       "      <th>revol_bal</th>\n",
       "      <td>-0.002018</td>\n",
       "      <td>0.308889</td>\n",
       "      <td>0.300869</td>\n",
       "      <td>0.281530</td>\n",
       "      <td>0.067044</td>\n",
       "      <td>0.088376</td>\n",
       "      <td>0.303145</td>\n",
       "      <td>0.423844</td>\n",
       "      <td>-0.003974</td>\n",
       "      <td>0.242837</td>\n",
       "      <td>...</td>\n",
       "      <td>0.305420</td>\n",
       "      <td>0.310318</td>\n",
       "      <td>0.282539</td>\n",
       "      <td>0.266792</td>\n",
       "      <td>0.270001</td>\n",
       "      <td>0.235981</td>\n",
       "      <td>0.006907</td>\n",
       "      <td>0.045289</td>\n",
       "      <td>0.023960</td>\n",
       "      <td>-0.047169</td>\n",
       "    </tr>\n",
       "    <tr>\n",
       "      <th>revol_util</th>\n",
       "      <td>0.089102</td>\n",
       "      <td>0.063988</td>\n",
       "      <td>0.067819</td>\n",
       "      <td>0.072563</td>\n",
       "      <td>0.064788</td>\n",
       "      <td>0.467864</td>\n",
       "      <td>0.094423</td>\n",
       "      <td>0.039245</td>\n",
       "      <td>0.037795</td>\n",
       "      <td>0.280184</td>\n",
       "      <td>...</td>\n",
       "      <td>1.000000</td>\n",
       "      <td>-0.071794</td>\n",
       "      <td>0.073958</td>\n",
       "      <td>0.077386</td>\n",
       "      <td>0.021756</td>\n",
       "      <td>0.193745</td>\n",
       "      <td>0.038753</td>\n",
       "      <td>0.051414</td>\n",
       "      <td>0.027634</td>\n",
       "      <td>0.060941</td>\n",
       "    </tr>\n",
       "    <tr>\n",
       "      <th>total_acc</th>\n",
       "      <td>0.041545</td>\n",
       "      <td>0.250868</td>\n",
       "      <td>0.245082</td>\n",
       "      <td>0.237378</td>\n",
       "      <td>0.096076</td>\n",
       "      <td>-0.052296</td>\n",
       "      <td>0.223620</td>\n",
       "      <td>0.378935</td>\n",
       "      <td>-0.025625</td>\n",
       "      <td>0.236130</td>\n",
       "      <td>...</td>\n",
       "      <td>-0.071794</td>\n",
       "      <td>1.000000</td>\n",
       "      <td>0.220406</td>\n",
       "      <td>0.214533</td>\n",
       "      <td>0.225447</td>\n",
       "      <td>0.144143</td>\n",
       "      <td>-0.024657</td>\n",
       "      <td>0.023339</td>\n",
       "      <td>0.009570</td>\n",
       "      <td>-0.009421</td>\n",
       "    </tr>\n",
       "    <tr>\n",
       "      <th>total_pymnt</th>\n",
       "      <td>0.109450</td>\n",
       "      <td>0.880478</td>\n",
       "      <td>0.897243</td>\n",
       "      <td>0.873078</td>\n",
       "      <td>0.306483</td>\n",
       "      <td>0.287460</td>\n",
       "      <td>0.856972</td>\n",
       "      <td>0.395009</td>\n",
       "      <td>-0.005805</td>\n",
       "      <td>0.068360</td>\n",
       "      <td>...</td>\n",
       "      <td>0.073958</td>\n",
       "      <td>0.220406</td>\n",
       "      <td>1.000000</td>\n",
       "      <td>0.968213</td>\n",
       "      <td>0.973423</td>\n",
       "      <td>0.821478</td>\n",
       "      <td>0.015306</td>\n",
       "      <td>0.029762</td>\n",
       "      <td>0.027721</td>\n",
       "      <td>-0.041301</td>\n",
       "    </tr>\n",
       "    <tr>\n",
       "      <th>total_pymnt_inv</th>\n",
       "      <td>0.203323</td>\n",
       "      <td>0.845914</td>\n",
       "      <td>0.862754</td>\n",
       "      <td>0.907846</td>\n",
       "      <td>0.321909</td>\n",
       "      <td>0.281826</td>\n",
       "      <td>0.815760</td>\n",
       "      <td>0.380047</td>\n",
       "      <td>-0.004974</td>\n",
       "      <td>0.075004</td>\n",
       "      <td>...</td>\n",
       "      <td>0.077386</td>\n",
       "      <td>0.214533</td>\n",
       "      <td>0.968213</td>\n",
       "      <td>1.000000</td>\n",
       "      <td>0.939878</td>\n",
       "      <td>0.804528</td>\n",
       "      <td>0.000525</td>\n",
       "      <td>0.023859</td>\n",
       "      <td>0.018292</td>\n",
       "      <td>-0.044739</td>\n",
       "    </tr>\n",
       "    <tr>\n",
       "      <th>total_rec_prncp</th>\n",
       "      <td>0.091214</td>\n",
       "      <td>0.843565</td>\n",
       "      <td>0.861687</td>\n",
       "      <td>0.836103</td>\n",
       "      <td>0.200645</td>\n",
       "      <td>0.170994</td>\n",
       "      <td>0.845481</td>\n",
       "      <td>0.395892</td>\n",
       "      <td>-0.006838</td>\n",
       "      <td>0.045666</td>\n",
       "      <td>...</td>\n",
       "      <td>0.021756</td>\n",
       "      <td>0.225447</td>\n",
       "      <td>0.973423</td>\n",
       "      <td>0.939878</td>\n",
       "      <td>1.000000</td>\n",
       "      <td>0.682113</td>\n",
       "      <td>-0.018953</td>\n",
       "      <td>-0.094801</td>\n",
       "      <td>-0.059181</td>\n",
       "      <td>-0.051596</td>\n",
       "    </tr>\n",
       "    <tr>\n",
       "      <th>total_rec_int</th>\n",
       "      <td>0.125156</td>\n",
       "      <td>0.728106</td>\n",
       "      <td>0.736463</td>\n",
       "      <td>0.726114</td>\n",
       "      <td>0.508103</td>\n",
       "      <td>0.520198</td>\n",
       "      <td>0.641998</td>\n",
       "      <td>0.282767</td>\n",
       "      <td>-0.001379</td>\n",
       "      <td>0.110311</td>\n",
       "      <td>...</td>\n",
       "      <td>0.193745</td>\n",
       "      <td>0.144143</td>\n",
       "      <td>0.821478</td>\n",
       "      <td>0.804528</td>\n",
       "      <td>0.682113</td>\n",
       "      <td>1.000000</td>\n",
       "      <td>0.079707</td>\n",
       "      <td>0.092823</td>\n",
       "      <td>0.041464</td>\n",
       "      <td>0.000500</td>\n",
       "    </tr>\n",
       "    <tr>\n",
       "      <th>total_rec_late_fee</th>\n",
       "      <td>-0.058784</td>\n",
       "      <td>0.048250</td>\n",
       "      <td>0.050689</td>\n",
       "      <td>0.030154</td>\n",
       "      <td>0.013688</td>\n",
       "      <td>0.095189</td>\n",
       "      <td>0.059446</td>\n",
       "      <td>0.014786</td>\n",
       "      <td>-0.012067</td>\n",
       "      <td>-0.010798</td>\n",
       "      <td>...</td>\n",
       "      <td>0.038753</td>\n",
       "      <td>-0.024657</td>\n",
       "      <td>0.015306</td>\n",
       "      <td>0.000525</td>\n",
       "      <td>-0.018953</td>\n",
       "      <td>0.079707</td>\n",
       "      <td>1.000000</td>\n",
       "      <td>0.099609</td>\n",
       "      <td>0.092083</td>\n",
       "      <td>-0.005663</td>\n",
       "    </tr>\n",
       "    <tr>\n",
       "      <th>recoveries</th>\n",
       "      <td>0.037134</td>\n",
       "      <td>0.144011</td>\n",
       "      <td>0.144870</td>\n",
       "      <td>0.132723</td>\n",
       "      <td>0.113647</td>\n",
       "      <td>0.129192</td>\n",
       "      <td>0.122487</td>\n",
       "      <td>0.039616</td>\n",
       "      <td>0.000297</td>\n",
       "      <td>0.026636</td>\n",
       "      <td>...</td>\n",
       "      <td>0.051414</td>\n",
       "      <td>0.023339</td>\n",
       "      <td>0.029762</td>\n",
       "      <td>0.023859</td>\n",
       "      <td>-0.094801</td>\n",
       "      <td>0.092823</td>\n",
       "      <td>0.099609</td>\n",
       "      <td>1.000000</td>\n",
       "      <td>0.793953</td>\n",
       "      <td>-0.004705</td>\n",
       "    </tr>\n",
       "    <tr>\n",
       "      <th>collection_recovery_fee</th>\n",
       "      <td>-0.012241</td>\n",
       "      <td>0.076614</td>\n",
       "      <td>0.078538</td>\n",
       "      <td>0.064677</td>\n",
       "      <td>0.038033</td>\n",
       "      <td>0.070563</td>\n",
       "      <td>0.077056</td>\n",
       "      <td>0.022734</td>\n",
       "      <td>0.000611</td>\n",
       "      <td>0.012838</td>\n",
       "      <td>...</td>\n",
       "      <td>0.027634</td>\n",
       "      <td>0.009570</td>\n",
       "      <td>0.027721</td>\n",
       "      <td>0.018292</td>\n",
       "      <td>-0.059181</td>\n",
       "      <td>0.041464</td>\n",
       "      <td>0.092083</td>\n",
       "      <td>0.793953</td>\n",
       "      <td>1.000000</td>\n",
       "      <td>-0.005151</td>\n",
       "    </tr>\n",
       "    <tr>\n",
       "      <th>pub_rec_bankruptcies</th>\n",
       "      <td>-0.007051</td>\n",
       "      <td>-0.034003</td>\n",
       "      <td>-0.034959</td>\n",
       "      <td>-0.039337</td>\n",
       "      <td>0.014212</td>\n",
       "      <td>0.084361</td>\n",
       "      <td>-0.031068</td>\n",
       "      <td>-0.017195</td>\n",
       "      <td>0.032106</td>\n",
       "      <td>0.005019</td>\n",
       "      <td>...</td>\n",
       "      <td>0.060941</td>\n",
       "      <td>-0.009421</td>\n",
       "      <td>-0.041301</td>\n",
       "      <td>-0.044739</td>\n",
       "      <td>-0.051596</td>\n",
       "      <td>0.000500</td>\n",
       "      <td>-0.005663</td>\n",
       "      <td>-0.004705</td>\n",
       "      <td>-0.005151</td>\n",
       "      <td>1.000000</td>\n",
       "    </tr>\n",
       "  </tbody>\n",
       "</table>\n",
       "<p>26 rows × 26 columns</p>\n",
       "</div>"
      ],
      "text/plain": [
       "                         member_id  loan_amnt  funded_amnt  funded_amnt_inv  \\\n",
       "member_id                 1.000000   0.118563     0.128603         0.239999   \n",
       "loan_amnt                 0.118563   1.000000     0.981803         0.937539   \n",
       "funded_amnt               0.128603   0.981803     1.000000         0.955797   \n",
       "funded_amnt_inv           0.239999   0.937539     0.955797         1.000000   \n",
       "term                      0.193893   0.348647     0.327027         0.346081   \n",
       "int_rate                  0.049687   0.298332     0.302556         0.295107   \n",
       "installment               0.069062   0.931726     0.957581         0.904518   \n",
       "annual_inc                0.030463   0.415057     0.410642         0.393054   \n",
       "zip_code                  0.019081   0.001775     0.001564         0.001625   \n",
       "dti                       0.092271   0.071763     0.071316         0.079314   \n",
       "inq_last_6mths           -0.045561   0.009569     0.009740        -0.005655   \n",
       "mths_since_last_delinq    0.125527   0.018373     0.018909         0.075785   \n",
       "mths_since_last_record    0.718802   0.004263    -0.007375         0.440070   \n",
       "open_acc                  0.013552   0.174274     0.172507         0.159696   \n",
       "pub_rec                  -0.016854  -0.048814    -0.049405        -0.050550   \n",
       "revol_bal                -0.002018   0.308889     0.300869         0.281530   \n",
       "revol_util                0.089102   0.063988     0.067819         0.072563   \n",
       "total_acc                 0.041545   0.250868     0.245082         0.237378   \n",
       "total_pymnt               0.109450   0.880478     0.897243         0.873078   \n",
       "total_pymnt_inv           0.203323   0.845914     0.862754         0.907846   \n",
       "total_rec_prncp           0.091214   0.843565     0.861687         0.836103   \n",
       "total_rec_int             0.125156   0.728106     0.736463         0.726114   \n",
       "total_rec_late_fee       -0.058784   0.048250     0.050689         0.030154   \n",
       "recoveries                0.037134   0.144011     0.144870         0.132723   \n",
       "collection_recovery_fee  -0.012241   0.076614     0.078538         0.064677   \n",
       "pub_rec_bankruptcies     -0.007051  -0.034003    -0.034959        -0.039337   \n",
       "\n",
       "                             term  int_rate  installment  annual_inc  \\\n",
       "member_id                0.193893  0.049687     0.069062    0.030463   \n",
       "loan_amnt                0.348647  0.298332     0.931726    0.415057   \n",
       "funded_amnt              0.327027  0.302556     0.957581    0.410642   \n",
       "funded_amnt_inv          0.346081  0.295107     0.904518    0.393054   \n",
       "term                     1.000000  0.438938     0.091338    0.073370   \n",
       "int_rate                 0.438938  1.000000     0.275110    0.066624   \n",
       "installment              0.091338  0.275110     1.000000    0.412365   \n",
       "annual_inc               0.073370  0.066624     0.412365    1.000000   \n",
       "zip_code                -0.010106  0.013562     0.006314   -0.005528   \n",
       "dti                      0.077316  0.113394     0.061556   -0.107843   \n",
       "inq_last_6mths           0.047611  0.133097     0.007602    0.038187   \n",
       "mths_since_last_delinq   0.038294 -0.054698     0.003483   -0.009429   \n",
       "mths_since_last_record   0.277174  0.321976    -0.060237    0.004959   \n",
       "open_acc                 0.045630  0.001927     0.169486    0.262472   \n",
       "pub_rec                  0.010134  0.100032    -0.044456   -0.020311   \n",
       "revol_bal                0.067044  0.088376     0.303145    0.423844   \n",
       "revol_util               0.064788  0.467864     0.094423    0.039245   \n",
       "total_acc                0.096076 -0.052296     0.223620    0.378935   \n",
       "total_pymnt              0.306483  0.287460     0.856972    0.395009   \n",
       "total_pymnt_inv          0.321909  0.281826     0.815760    0.380047   \n",
       "total_rec_prncp          0.200645  0.170994     0.845481    0.395892   \n",
       "total_rec_int            0.508103  0.520198     0.641998    0.282767   \n",
       "total_rec_late_fee       0.013688  0.095189     0.059446    0.014786   \n",
       "recoveries               0.113647  0.129192     0.122487    0.039616   \n",
       "collection_recovery_fee  0.038033  0.070563     0.077056    0.022734   \n",
       "pub_rec_bankruptcies     0.014212  0.084361    -0.031068   -0.017195   \n",
       "\n",
       "                         zip_code       dti  ...  revol_util  total_acc  \\\n",
       "member_id                0.019081  0.092271  ...    0.089102   0.041545   \n",
       "loan_amnt                0.001775  0.071763  ...    0.063988   0.250868   \n",
       "funded_amnt              0.001564  0.071316  ...    0.067819   0.245082   \n",
       "funded_amnt_inv          0.001625  0.079314  ...    0.072563   0.237378   \n",
       "term                    -0.010106  0.077316  ...    0.064788   0.096076   \n",
       "int_rate                 0.013562  0.113394  ...    0.467864  -0.052296   \n",
       "installment              0.006314  0.061556  ...    0.094423   0.223620   \n",
       "annual_inc              -0.005528 -0.107843  ...    0.039245   0.378935   \n",
       "zip_code                 1.000000  0.017687  ...    0.037795  -0.025625   \n",
       "dti                      0.017687  1.000000  ...    0.280184   0.236130   \n",
       "inq_last_6mths          -0.021645  0.004947  ...   -0.069302   0.111513   \n",
       "mths_since_last_delinq   0.025816  0.066338  ...    0.106308   0.011517   \n",
       "mths_since_last_record   0.145388  0.181745  ...    0.213533   0.106322   \n",
       "open_acc                -0.047350  0.292381  ...   -0.090957   0.686528   \n",
       "pub_rec                  0.015505 -0.005565  ...    0.059940  -0.022250   \n",
       "revol_bal               -0.003974  0.242837  ...    0.305420   0.310318   \n",
       "revol_util               0.037795  0.280184  ...    1.000000  -0.071794   \n",
       "total_acc               -0.025625  0.236130  ...   -0.071794   1.000000   \n",
       "total_pymnt             -0.005805  0.068360  ...    0.073958   0.220406   \n",
       "total_pymnt_inv         -0.004974  0.075004  ...    0.077386   0.214533   \n",
       "total_rec_prncp         -0.006838  0.045666  ...    0.021756   0.225447   \n",
       "total_rec_int           -0.001379  0.110311  ...    0.193745   0.144143   \n",
       "total_rec_late_fee      -0.012067 -0.010798  ...    0.038753  -0.024657   \n",
       "recoveries               0.000297  0.026636  ...    0.051414   0.023339   \n",
       "collection_recovery_fee  0.000611  0.012838  ...    0.027634   0.009570   \n",
       "pub_rec_bankruptcies     0.032106  0.005019  ...    0.060941  -0.009421   \n",
       "\n",
       "                         total_pymnt  total_pymnt_inv  total_rec_prncp  \\\n",
       "member_id                   0.109450         0.203323         0.091214   \n",
       "loan_amnt                   0.880478         0.845914         0.843565   \n",
       "funded_amnt                 0.897243         0.862754         0.861687   \n",
       "funded_amnt_inv             0.873078         0.907846         0.836103   \n",
       "term                        0.306483         0.321909         0.200645   \n",
       "int_rate                    0.287460         0.281826         0.170994   \n",
       "installment                 0.856972         0.815760         0.845481   \n",
       "annual_inc                  0.395009         0.380047         0.395892   \n",
       "zip_code                   -0.005805        -0.004974        -0.006838   \n",
       "dti                         0.068360         0.075004         0.045666   \n",
       "inq_last_6mths             -0.011667        -0.021919        -0.024995   \n",
       "mths_since_last_delinq      0.015491         0.062504         0.018481   \n",
       "mths_since_last_record     -0.003340         0.373772        -0.044948   \n",
       "open_acc                    0.159211         0.149200         0.157379   \n",
       "pub_rec                    -0.051741        -0.052191        -0.063433   \n",
       "revol_bal                   0.282539         0.266792         0.270001   \n",
       "revol_util                  0.073958         0.077386         0.021756   \n",
       "total_acc                   0.220406         0.214533         0.225447   \n",
       "total_pymnt                 1.000000         0.968213         0.973423   \n",
       "total_pymnt_inv             0.968213         1.000000         0.939878   \n",
       "total_rec_prncp             0.973423         0.939878         1.000000   \n",
       "total_rec_int               0.821478         0.804528         0.682113   \n",
       "total_rec_late_fee          0.015306         0.000525        -0.018953   \n",
       "recoveries                  0.029762         0.023859        -0.094801   \n",
       "collection_recovery_fee     0.027721         0.018292        -0.059181   \n",
       "pub_rec_bankruptcies       -0.041301        -0.044739        -0.051596   \n",
       "\n",
       "                         total_rec_int  total_rec_late_fee  recoveries  \\\n",
       "member_id                     0.125156           -0.058784    0.037134   \n",
       "loan_amnt                     0.728106            0.048250    0.144011   \n",
       "funded_amnt                   0.736463            0.050689    0.144870   \n",
       "funded_amnt_inv               0.726114            0.030154    0.132723   \n",
       "term                          0.508103            0.013688    0.113647   \n",
       "int_rate                      0.520198            0.095189    0.129192   \n",
       "installment                   0.641998            0.059446    0.122487   \n",
       "annual_inc                    0.282767            0.014786    0.039616   \n",
       "zip_code                     -0.001379           -0.012067    0.000297   \n",
       "dti                           0.110311           -0.010798    0.026636   \n",
       "inq_last_6mths                0.024504            0.030643    0.019678   \n",
       "mths_since_last_delinq        0.006189           -0.026156   -0.008043   \n",
       "mths_since_last_record        0.117182           -0.096781   -0.011995   \n",
       "open_acc                      0.120310           -0.018195    0.016536   \n",
       "pub_rec                      -0.002874           -0.002090   -0.005612   \n",
       "revol_bal                     0.235981            0.006907    0.045289   \n",
       "revol_util                    0.193745            0.038753    0.051414   \n",
       "total_acc                     0.144143           -0.024657    0.023339   \n",
       "total_pymnt                   0.821478            0.015306    0.029762   \n",
       "total_pymnt_inv               0.804528            0.000525    0.023859   \n",
       "total_rec_prncp               0.682113           -0.018953   -0.094801   \n",
       "total_rec_int                 1.000000            0.079707    0.092823   \n",
       "total_rec_late_fee            0.079707            1.000000    0.099609   \n",
       "recoveries                    0.092823            0.099609    1.000000   \n",
       "collection_recovery_fee       0.041464            0.092083    0.793953   \n",
       "pub_rec_bankruptcies          0.000500           -0.005663   -0.004705   \n",
       "\n",
       "                         collection_recovery_fee  pub_rec_bankruptcies  \n",
       "member_id                              -0.012241             -0.007051  \n",
       "loan_amnt                               0.076614             -0.034003  \n",
       "funded_amnt                             0.078538             -0.034959  \n",
       "funded_amnt_inv                         0.064677             -0.039337  \n",
       "term                                    0.038033              0.014212  \n",
       "int_rate                                0.070563              0.084361  \n",
       "installment                             0.077056             -0.031068  \n",
       "annual_inc                              0.022734             -0.017195  \n",
       "zip_code                                0.000611              0.032106  \n",
       "dti                                     0.012838              0.005019  \n",
       "inq_last_6mths                          0.013088              0.016050  \n",
       "mths_since_last_delinq                 -0.017393              0.025322  \n",
       "mths_since_last_record                 -0.038367              0.826227  \n",
       "open_acc                                0.005640              0.007002  \n",
       "pub_rec                                -0.005467              0.847170  \n",
       "revol_bal                               0.023960             -0.047169  \n",
       "revol_util                              0.027634              0.060941  \n",
       "total_acc                               0.009570             -0.009421  \n",
       "total_pymnt                             0.027721             -0.041301  \n",
       "total_pymnt_inv                         0.018292             -0.044739  \n",
       "total_rec_prncp                        -0.059181             -0.051596  \n",
       "total_rec_int                           0.041464              0.000500  \n",
       "total_rec_late_fee                      0.092083             -0.005663  \n",
       "recoveries                              0.793953             -0.004705  \n",
       "collection_recovery_fee                 1.000000             -0.005151  \n",
       "pub_rec_bankruptcies                   -0.005151              1.000000  \n",
       "\n",
       "[26 rows x 26 columns]"
      ]
     },
     "execution_count": 104,
     "metadata": {},
     "output_type": "execute_result"
    }
   ],
   "source": [
    "loan_data.corr()"
   ]
  },
  {
   "cell_type": "code",
   "execution_count": 105,
   "id": "424d005f",
   "metadata": {},
   "outputs": [
    {
     "data": {
      "text/plain": [
       "<seaborn.matrix.ClusterGrid at 0x1d6c50bac10>"
      ]
     },
     "execution_count": 105,
     "metadata": {},
     "output_type": "execute_result"
    },
    {
     "data": {
      "image/png": "[encoded data removed]",
      "text/plain": [
       "<Figure size 720x720 with 4 Axes>"
      ]
     },
     "metadata": {},
     "output_type": "display_data"
    }
   ],
   "source": [
    "sns.clustermap(loan_data.corr(),cmap=\"YlGnBu\")"
   ]
  },
  {
   "cell_type": "markdown",
   "id": "9dd8a57a",
   "metadata": {},
   "source": [
    "From the above map it is evident that the following groups are higly correlated:\n",
    "1. [total_rec_int, funded_amnt_inv, total_pymnt_inv, installment, loan_amnt, funded_amnt, total_pymnt, total_rec_prncp]\n",
    "2. [mths_since_last_record, pub_rec, pub_rec_bankruptcies]\n",
    "3. [dti, open_acc, total_acc, annual_inc, revol_bal]"
   ]
  },
  {
   "cell_type": "markdown",
   "id": "3127d10b",
   "metadata": {},
   "source": [
    "We have three groups of numeric/continuous variables which are correlated within each group.\n",
    "And we also have few categorical variables like: [home_ownership, grade, term, emp_length, loan_status, purpose, zip_code, verification_status]"
   ]
  },
  {
   "cell_type": "markdown",
   "id": "22472d81",
   "metadata": {},
   "source": [
    "See if any of the category is very evident in charge off"
   ]
  },
  {
   "cell_type": "code",
   "execution_count": 109,
   "id": "b98a8d8d",
   "metadata": {},
   "outputs": [
    {
     "data": {
      "text/plain": [
       "<AxesSubplot:xlabel='loan_status', ylabel='annual_inc'>"
      ]
     },
     "execution_count": 109,
     "metadata": {},
     "output_type": "execute_result"
    },
    {
     "data": {
      "image/png": "[encoded data removed]",
      "text/plain": [
       "<Figure size 432x288 with 1 Axes>"
      ]
     },
     "metadata": {},
     "output_type": "display_data"
    }
   ],
   "source": [
    "#loan_status vs annual_inc (should give info that if person has high income is he likely to default)\n",
    "sns.boxplot(x=loan_data.loan_status,y=loan_data.annual_inc)"
   ]
  },
  {
   "cell_type": "markdown",
   "id": "6b8bd47a",
   "metadata": {},
   "source": [
    "All quartiles are slightly more for fully paid."
   ]
  },
  {
   "cell_type": "code",
   "execution_count": 111,
   "id": "d2ce089d",
   "metadata": {},
   "outputs": [
    {
     "data": {
      "text/plain": [
       "<AxesSubplot:xlabel='loan_status', ylabel='count'>"
      ]
     },
     "execution_count": 111,
     "metadata": {},
     "output_type": "execute_result"
    },
    {
     "data": {
      "image/png": "[encoded data removed]",
      "text/plain": [
       "<Figure size 432x288 with 1 Axes>"
      ]
     },
     "metadata": {},
     "output_type": "display_data"
    }
   ],
   "source": [
    "sns.set(style=\"darkgrid\")\n",
    "sns.countplot(x=loan_data.loan_status, hue=loan_data.home_ownership)"
   ]
  },
  {
   "cell_type": "code",
   "execution_count": 112,
   "id": "552aa31b",
   "metadata": {},
   "outputs": [
    {
     "data": {
      "text/plain": [
       "<AxesSubplot:xlabel='loan_status', ylabel='count'>"
      ]
     },
     "execution_count": 112,
     "metadata": {},
     "output_type": "execute_result"
    },
    {
     "data": {
      "image/png": "[encoded data removed]",
      "text/plain": [
       "<Figure size 432x288 with 1 Axes>"
      ]
     },
     "metadata": {},
     "output_type": "display_data"
    }
   ],
   "source": [
    "sns.countplot(x=loan_data.loan_status, hue=loan_data.grade)"
   ]
  },
  {
   "cell_type": "markdown",
   "id": "944011e9",
   "metadata": {},
   "source": [
    "It seems that the F Subgrade category is have the lowest difference in the ratio."
   ]
  },
  {
   "cell_type": "code",
   "execution_count": 114,
   "id": "9326f8e7",
   "metadata": {},
   "outputs": [
    {
     "data": {
      "text/plain": [
       "<AxesSubplot:xlabel='loan_status', ylabel='count'>"
      ]
     },
     "execution_count": 114,
     "metadata": {},
     "output_type": "execute_result"
    },
    {
     "data": {
      "image/png": "[encoded data removed]",
      "text/plain": [
       "<Figure size 432x288 with 1 Axes>"
      ]
     },
     "metadata": {},
     "output_type": "display_data"
    }
   ],
   "source": [
    "sns.countplot(x=loan_data[loan_data.grade=='F'].loan_status, hue=loan_data[loan_data.grade=='F'].sub_grade)"
   ]
  },
  {
   "cell_type": "code",
   "execution_count": 115,
   "id": "01d2b1d9",
   "metadata": {},
   "outputs": [
    {
     "data": {
      "image/png": "[encoded data removed]",
      "text/plain": [
       "<Figure size 504x1800 with 7 Axes>"
      ]
     },
     "metadata": {},
     "output_type": "display_data"
    }
   ],
   "source": [
    "# As is evident from this category \n",
    "sns.set()\n",
    "\n",
    "#Define plotting region (1 row, 2 columns)\n",
    "fig, axes = plt.subplots(7, 1,figsize=(7,25))\n",
    "j = 0\n",
    "for i in ['A','B','C','D','E','F','G']:\n",
    "    sns.countplot(x=loan_data[loan_data.grade==i].loan_status, hue=loan_data[loan_data.grade==i].sub_grade,order=['Fully Paid','Charged Off'],ax=axes[j])\n",
    "    j+=1"
   ]
  },
  {
   "cell_type": "markdown",
   "id": "b664dc60",
   "metadata": {},
   "source": [
    "It seems from the above plot that G3 and F5 are more susceptible to be Charged Off"
   ]
  },
  {
   "cell_type": "code",
   "execution_count": 171,
   "id": "1907d9ef",
   "metadata": {},
   "outputs": [
    {
     "data": {
      "text/plain": [
       "<AxesSubplot:xlabel='loan_status', ylabel='count'>"
      ]
     },
     "execution_count": 171,
     "metadata": {},
     "output_type": "execute_result"
    },
    {
     "data": {
      "image/png": "[encoded data removed]",
      "text/plain": [
       "<Figure size 720x576 with 1 Axes>"
      ]
     },
     "metadata": {},
     "output_type": "display_data"
    }
   ],
   "source": [
    "plt.figure(figsize=(10,8))\n",
    "sns.countplot(x=loan_data.loan_status,hue=loan_data.issue_d.dt.month)"
   ]
  },
  {
   "cell_type": "markdown",
   "id": "2d8502a7",
   "metadata": {},
   "source": [
    "There is an increasing trend in loans during the entire year but increases rapidly at end of year."
   ]
  },
  {
   "cell_type": "code",
   "execution_count": 119,
   "id": "d300719b",
   "metadata": {},
   "outputs": [
    {
     "data": {
      "text/plain": [
       "<AxesSubplot:xlabel='loan_status', ylabel='count'>"
      ]
     },
     "execution_count": 119,
     "metadata": {},
     "output_type": "execute_result"
    },
    {
     "data": {
      "image/png": "[encoded data removed]",
      "text/plain": [
       "<Figure size 432x288 with 1 Axes>"
      ]
     },
     "metadata": {},
     "output_type": "display_data"
    }
   ],
   "source": [
    "sns.countplot(x=loan_data.loan_status,hue=loan_data.issue_d.dt.year)"
   ]
  },
  {
   "cell_type": "markdown",
   "id": "68f715dd",
   "metadata": {},
   "source": [
    "There is an increasing trend in loans during the every year but increases rapidly during 2011."
   ]
  },
  {
   "cell_type": "code",
   "execution_count": 173,
   "id": "1f0199d6",
   "metadata": {},
   "outputs": [
    {
     "data": {
      "text/html": [
       "<div>\n",
       "<style scoped>\n",
       "    .dataframe tbody tr th:only-of-type {\n",
       "        vertical-align: middle;\n",
       "    }\n",
       "\n",
       "    .dataframe tbody tr th {\n",
       "        vertical-align: top;\n",
       "    }\n",
       "\n",
       "    .dataframe thead th {\n",
       "        text-align: right;\n",
       "    }\n",
       "</style>\n",
       "<table border=\"1\" class=\"dataframe\">\n",
       "  <thead>\n",
       "    <tr style=\"text-align: right;\">\n",
       "      <th>loan_status</th>\n",
       "      <th>ChargedOffRatio</th>\n",
       "      <th>Count</th>\n",
       "    </tr>\n",
       "    <tr>\n",
       "      <th>addr_state</th>\n",
       "      <th></th>\n",
       "      <th></th>\n",
       "    </tr>\n",
       "  </thead>\n",
       "  <tbody>\n",
       "    <tr>\n",
       "      <th>NE</th>\n",
       "      <td>60.000000</td>\n",
       "      <td>5.0</td>\n",
       "    </tr>\n",
       "    <tr>\n",
       "      <th>NV</th>\n",
       "      <td>22.526316</td>\n",
       "      <td>475.0</td>\n",
       "    </tr>\n",
       "    <tr>\n",
       "      <th>SD</th>\n",
       "      <td>19.354839</td>\n",
       "      <td>62.0</td>\n",
       "    </tr>\n",
       "    <tr>\n",
       "      <th>AK</th>\n",
       "      <td>18.181818</td>\n",
       "      <td>77.0</td>\n",
       "    </tr>\n",
       "    <tr>\n",
       "      <th>FL</th>\n",
       "      <td>18.079302</td>\n",
       "      <td>2749.0</td>\n",
       "    </tr>\n",
       "    <tr>\n",
       "      <th>MO</th>\n",
       "      <td>17.142857</td>\n",
       "      <td>665.0</td>\n",
       "    </tr>\n",
       "    <tr>\n",
       "      <th>HI</th>\n",
       "      <td>16.867470</td>\n",
       "      <td>166.0</td>\n",
       "    </tr>\n",
       "    <tr>\n",
       "      <th>NM</th>\n",
       "      <td>16.759777</td>\n",
       "      <td>179.0</td>\n",
       "    </tr>\n",
       "    <tr>\n",
       "      <th>ID</th>\n",
       "      <td>16.666667</td>\n",
       "      <td>6.0</td>\n",
       "    </tr>\n",
       "    <tr>\n",
       "      <th>OR</th>\n",
       "      <td>16.321839</td>\n",
       "      <td>435.0</td>\n",
       "    </tr>\n",
       "    <tr>\n",
       "      <th>CA</th>\n",
       "      <td>16.206395</td>\n",
       "      <td>6880.0</td>\n",
       "    </tr>\n",
       "    <tr>\n",
       "      <th>MD</th>\n",
       "      <td>15.940594</td>\n",
       "      <td>1010.0</td>\n",
       "    </tr>\n",
       "    <tr>\n",
       "      <th>UT</th>\n",
       "      <td>15.936255</td>\n",
       "      <td>251.0</td>\n",
       "    </tr>\n",
       "    <tr>\n",
       "      <th>GA</th>\n",
       "      <td>15.925926</td>\n",
       "      <td>1350.0</td>\n",
       "    </tr>\n",
       "    <tr>\n",
       "      <th>NJ</th>\n",
       "      <td>15.676287</td>\n",
       "      <td>1767.0</td>\n",
       "    </tr>\n",
       "    <tr>\n",
       "      <th>WA</th>\n",
       "      <td>15.659679</td>\n",
       "      <td>811.0</td>\n",
       "    </tr>\n",
       "    <tr>\n",
       "      <th>NC</th>\n",
       "      <td>15.343203</td>\n",
       "      <td>743.0</td>\n",
       "    </tr>\n",
       "    <tr>\n",
       "      <th>NH</th>\n",
       "      <td>15.243902</td>\n",
       "      <td>164.0</td>\n",
       "    </tr>\n",
       "    <tr>\n",
       "      <th>MI</th>\n",
       "      <td>14.613181</td>\n",
       "      <td>698.0</td>\n",
       "    </tr>\n",
       "    <tr>\n",
       "      <th>SC</th>\n",
       "      <td>14.505495</td>\n",
       "      <td>455.0</td>\n",
       "    </tr>\n",
       "    <tr>\n",
       "      <th>KY</th>\n",
       "      <td>14.469453</td>\n",
       "      <td>311.0</td>\n",
       "    </tr>\n",
       "    <tr>\n",
       "      <th>AZ</th>\n",
       "      <td>14.421931</td>\n",
       "      <td>839.0</td>\n",
       "    </tr>\n",
       "    <tr>\n",
       "      <th>WI</th>\n",
       "      <td>14.350797</td>\n",
       "      <td>439.0</td>\n",
       "    </tr>\n",
       "    <tr>\n",
       "      <th>OK</th>\n",
       "      <td>13.986014</td>\n",
       "      <td>286.0</td>\n",
       "    </tr>\n",
       "    <tr>\n",
       "      <th>IL</th>\n",
       "      <td>13.443073</td>\n",
       "      <td>1458.0</td>\n",
       "    </tr>\n",
       "    <tr>\n",
       "      <th>MN</th>\n",
       "      <td>13.432836</td>\n",
       "      <td>603.0</td>\n",
       "    </tr>\n",
       "    <tr>\n",
       "      <th>NY</th>\n",
       "      <td>13.391877</td>\n",
       "      <td>3644.0</td>\n",
       "    </tr>\n",
       "    <tr>\n",
       "      <th>MT</th>\n",
       "      <td>13.253012</td>\n",
       "      <td>83.0</td>\n",
       "    </tr>\n",
       "    <tr>\n",
       "      <th>CT</th>\n",
       "      <td>13.202247</td>\n",
       "      <td>712.0</td>\n",
       "    </tr>\n",
       "    <tr>\n",
       "      <th>RI</th>\n",
       "      <td>13.157895</td>\n",
       "      <td>190.0</td>\n",
       "    </tr>\n",
       "    <tr>\n",
       "      <th>OH</th>\n",
       "      <td>13.043478</td>\n",
       "      <td>1173.0</td>\n",
       "    </tr>\n",
       "    <tr>\n",
       "      <th>VA</th>\n",
       "      <td>12.969786</td>\n",
       "      <td>1357.0</td>\n",
       "    </tr>\n",
       "    <tr>\n",
       "      <th>CO</th>\n",
       "      <td>12.830688</td>\n",
       "      <td>756.0</td>\n",
       "    </tr>\n",
       "    <tr>\n",
       "      <th>LA</th>\n",
       "      <td>12.619048</td>\n",
       "      <td>420.0</td>\n",
       "    </tr>\n",
       "    <tr>\n",
       "      <th>AL</th>\n",
       "      <td>12.500000</td>\n",
       "      <td>432.0</td>\n",
       "    </tr>\n",
       "    <tr>\n",
       "      <th>WV</th>\n",
       "      <td>12.209302</td>\n",
       "      <td>172.0</td>\n",
       "    </tr>\n",
       "    <tr>\n",
       "      <th>MA</th>\n",
       "      <td>12.206573</td>\n",
       "      <td>1278.0</td>\n",
       "    </tr>\n",
       "    <tr>\n",
       "      <th>PA</th>\n",
       "      <td>12.200137</td>\n",
       "      <td>1459.0</td>\n",
       "    </tr>\n",
       "    <tr>\n",
       "      <th>KS</th>\n",
       "      <td>12.156863</td>\n",
       "      <td>255.0</td>\n",
       "    </tr>\n",
       "    <tr>\n",
       "      <th>TX</th>\n",
       "      <td>11.910198</td>\n",
       "      <td>2628.0</td>\n",
       "    </tr>\n",
       "    <tr>\n",
       "      <th>TN</th>\n",
       "      <td>11.764706</td>\n",
       "      <td>17.0</td>\n",
       "    </tr>\n",
       "    <tr>\n",
       "      <th>AR</th>\n",
       "      <td>11.489362</td>\n",
       "      <td>235.0</td>\n",
       "    </tr>\n",
       "    <tr>\n",
       "      <th>VT</th>\n",
       "      <td>11.320755</td>\n",
       "      <td>53.0</td>\n",
       "    </tr>\n",
       "    <tr>\n",
       "      <th>DE</th>\n",
       "      <td>10.619469</td>\n",
       "      <td>113.0</td>\n",
       "    </tr>\n",
       "    <tr>\n",
       "      <th>MS</th>\n",
       "      <td>10.526316</td>\n",
       "      <td>19.0</td>\n",
       "    </tr>\n",
       "    <tr>\n",
       "      <th>DC</th>\n",
       "      <td>7.109005</td>\n",
       "      <td>211.0</td>\n",
       "    </tr>\n",
       "    <tr>\n",
       "      <th>WY</th>\n",
       "      <td>5.000000</td>\n",
       "      <td>80.0</td>\n",
       "    </tr>\n",
       "    <tr>\n",
       "      <th>IA</th>\n",
       "      <td>NaN</td>\n",
       "      <td>NaN</td>\n",
       "    </tr>\n",
       "    <tr>\n",
       "      <th>IN</th>\n",
       "      <td>NaN</td>\n",
       "      <td>NaN</td>\n",
       "    </tr>\n",
       "    <tr>\n",
       "      <th>ME</th>\n",
       "      <td>NaN</td>\n",
       "      <td>NaN</td>\n",
       "    </tr>\n",
       "  </tbody>\n",
       "</table>\n",
       "</div>"
      ],
      "text/plain": [
       "loan_status  ChargedOffRatio   Count\n",
       "addr_state                          \n",
       "NE                 60.000000     5.0\n",
       "NV                 22.526316   475.0\n",
       "SD                 19.354839    62.0\n",
       "AK                 18.181818    77.0\n",
       "FL                 18.079302  2749.0\n",
       "MO                 17.142857   665.0\n",
       "HI                 16.867470   166.0\n",
       "NM                 16.759777   179.0\n",
       "ID                 16.666667     6.0\n",
       "OR                 16.321839   435.0\n",
       "CA                 16.206395  6880.0\n",
       "MD                 15.940594  1010.0\n",
       "UT                 15.936255   251.0\n",
       "GA                 15.925926  1350.0\n",
       "NJ                 15.676287  1767.0\n",
       "WA                 15.659679   811.0\n",
       "NC                 15.343203   743.0\n",
       "NH                 15.243902   164.0\n",
       "MI                 14.613181   698.0\n",
       "SC                 14.505495   455.0\n",
       "KY                 14.469453   311.0\n",
       "AZ                 14.421931   839.0\n",
       "WI                 14.350797   439.0\n",
       "OK                 13.986014   286.0\n",
       "IL                 13.443073  1458.0\n",
       "MN                 13.432836   603.0\n",
       "NY                 13.391877  3644.0\n",
       "MT                 13.253012    83.0\n",
       "CT                 13.202247   712.0\n",
       "RI                 13.157895   190.0\n",
       "OH                 13.043478  1173.0\n",
       "VA                 12.969786  1357.0\n",
       "CO                 12.830688   756.0\n",
       "LA                 12.619048   420.0\n",
       "AL                 12.500000   432.0\n",
       "WV                 12.209302   172.0\n",
       "MA                 12.206573  1278.0\n",
       "PA                 12.200137  1459.0\n",
       "KS                 12.156863   255.0\n",
       "TX                 11.910198  2628.0\n",
       "TN                 11.764706    17.0\n",
       "AR                 11.489362   235.0\n",
       "VT                 11.320755    53.0\n",
       "DE                 10.619469   113.0\n",
       "MS                 10.526316    19.0\n",
       "DC                  7.109005   211.0\n",
       "WY                  5.000000    80.0\n",
       "IA                       NaN     NaN\n",
       "IN                       NaN     NaN\n",
       "ME                       NaN     NaN"
      ]
     },
     "execution_count": 173,
     "metadata": {},
     "output_type": "execute_result"
    }
   ],
   "source": [
    "def aggregated_analysis_for_column(column):\n",
    "    \"\"\"\n",
    "    Gives the aggregated analysis result for ChargedOffRatio against a particular column\n",
    "    Parameters\n",
    "    ----------\n",
    "    column : str\n",
    "        Name of the column against which the aggregation should be done.\n",
    "    \"\"\"\n",
    "    \n",
    "    aggregated_data = pd.pivot_table(loan_data,index=[column],values='member_id',columns=['loan_status'], aggfunc=lambda x:len(x))\n",
    "    aggregated_data['ChargedOffRatio'] = (aggregated_data['Charged Off']*100/(aggregated_data['Charged Off'] + aggregated_data['Fully Paid']))\n",
    "    aggregated_data['Count'] = aggregated_data['Charged Off'] + aggregated_data['Fully Paid']\n",
    "    aggregated_data.sort_values(by='ChargedOffRatio',inplace=True,ascending=False)\n",
    "    return aggregated_data.loc[:,['ChargedOffRatio','Count']]\n",
    "\n",
    "aggregated_analysis_for_column('addr_state')"
   ]
  },
  {
   "cell_type": "code",
   "execution_count": 122,
   "id": "b00fd8b7",
   "metadata": {},
   "outputs": [
    {
     "data": {
      "text/html": [
       "<div>\n",
       "<style scoped>\n",
       "    .dataframe tbody tr th:only-of-type {\n",
       "        vertical-align: middle;\n",
       "    }\n",
       "\n",
       "    .dataframe tbody tr th {\n",
       "        vertical-align: top;\n",
       "    }\n",
       "\n",
       "    .dataframe thead th {\n",
       "        text-align: right;\n",
       "    }\n",
       "</style>\n",
       "<table border=\"1\" class=\"dataframe\">\n",
       "  <thead>\n",
       "    <tr style=\"text-align: right;\">\n",
       "      <th>loan_status</th>\n",
       "      <th>ChargedOffRatio</th>\n",
       "      <th>Count</th>\n",
       "    </tr>\n",
       "    <tr>\n",
       "      <th>addr_state</th>\n",
       "      <th></th>\n",
       "      <th></th>\n",
       "    </tr>\n",
       "  </thead>\n",
       "  <tbody>\n",
       "    <tr>\n",
       "      <th>NE</th>\n",
       "      <td>60.000000</td>\n",
       "      <td>5.0</td>\n",
       "    </tr>\n",
       "    <tr>\n",
       "      <th>NV</th>\n",
       "      <td>22.526316</td>\n",
       "      <td>475.0</td>\n",
       "    </tr>\n",
       "    <tr>\n",
       "      <th>SD</th>\n",
       "      <td>19.354839</td>\n",
       "      <td>62.0</td>\n",
       "    </tr>\n",
       "    <tr>\n",
       "      <th>AK</th>\n",
       "      <td>18.181818</td>\n",
       "      <td>77.0</td>\n",
       "    </tr>\n",
       "    <tr>\n",
       "      <th>FL</th>\n",
       "      <td>18.079302</td>\n",
       "      <td>2749.0</td>\n",
       "    </tr>\n",
       "    <tr>\n",
       "      <th>MO</th>\n",
       "      <td>17.142857</td>\n",
       "      <td>665.0</td>\n",
       "    </tr>\n",
       "    <tr>\n",
       "      <th>HI</th>\n",
       "      <td>16.867470</td>\n",
       "      <td>166.0</td>\n",
       "    </tr>\n",
       "    <tr>\n",
       "      <th>NM</th>\n",
       "      <td>16.759777</td>\n",
       "      <td>179.0</td>\n",
       "    </tr>\n",
       "    <tr>\n",
       "      <th>ID</th>\n",
       "      <td>16.666667</td>\n",
       "      <td>6.0</td>\n",
       "    </tr>\n",
       "    <tr>\n",
       "      <th>OR</th>\n",
       "      <td>16.321839</td>\n",
       "      <td>435.0</td>\n",
       "    </tr>\n",
       "    <tr>\n",
       "      <th>CA</th>\n",
       "      <td>16.206395</td>\n",
       "      <td>6880.0</td>\n",
       "    </tr>\n",
       "    <tr>\n",
       "      <th>MD</th>\n",
       "      <td>15.940594</td>\n",
       "      <td>1010.0</td>\n",
       "    </tr>\n",
       "    <tr>\n",
       "      <th>UT</th>\n",
       "      <td>15.936255</td>\n",
       "      <td>251.0</td>\n",
       "    </tr>\n",
       "    <tr>\n",
       "      <th>GA</th>\n",
       "      <td>15.925926</td>\n",
       "      <td>1350.0</td>\n",
       "    </tr>\n",
       "    <tr>\n",
       "      <th>NJ</th>\n",
       "      <td>15.676287</td>\n",
       "      <td>1767.0</td>\n",
       "    </tr>\n",
       "    <tr>\n",
       "      <th>WA</th>\n",
       "      <td>15.659679</td>\n",
       "      <td>811.0</td>\n",
       "    </tr>\n",
       "    <tr>\n",
       "      <th>NC</th>\n",
       "      <td>15.343203</td>\n",
       "      <td>743.0</td>\n",
       "    </tr>\n",
       "    <tr>\n",
       "      <th>NH</th>\n",
       "      <td>15.243902</td>\n",
       "      <td>164.0</td>\n",
       "    </tr>\n",
       "    <tr>\n",
       "      <th>MI</th>\n",
       "      <td>14.613181</td>\n",
       "      <td>698.0</td>\n",
       "    </tr>\n",
       "    <tr>\n",
       "      <th>SC</th>\n",
       "      <td>14.505495</td>\n",
       "      <td>455.0</td>\n",
       "    </tr>\n",
       "  </tbody>\n",
       "</table>\n",
       "</div>"
      ],
      "text/plain": [
       "loan_status  ChargedOffRatio   Count\n",
       "addr_state                          \n",
       "NE                 60.000000     5.0\n",
       "NV                 22.526316   475.0\n",
       "SD                 19.354839    62.0\n",
       "AK                 18.181818    77.0\n",
       "FL                 18.079302  2749.0\n",
       "MO                 17.142857   665.0\n",
       "HI                 16.867470   166.0\n",
       "NM                 16.759777   179.0\n",
       "ID                 16.666667     6.0\n",
       "OR                 16.321839   435.0\n",
       "CA                 16.206395  6880.0\n",
       "MD                 15.940594  1010.0\n",
       "UT                 15.936255   251.0\n",
       "GA                 15.925926  1350.0\n",
       "NJ                 15.676287  1767.0\n",
       "WA                 15.659679   811.0\n",
       "NC                 15.343203   743.0\n",
       "NH                 15.243902   164.0\n",
       "MI                 14.613181   698.0\n",
       "SC                 14.505495   455.0"
      ]
     },
     "execution_count": 122,
     "metadata": {},
     "output_type": "execute_result"
    }
   ],
   "source": [
    "aggregated_analysis_for_column('addr_state').head(20)"
   ]
  },
  {
   "cell_type": "markdown",
   "id": "dbfb3928",
   "metadata": {},
   "source": [
    "For NE state the Charged Off Ratio is too high, signifying people from that region are 60% likely to charge off"
   ]
  },
  {
   "cell_type": "code",
   "execution_count": 124,
   "id": "ebba846b",
   "metadata": {},
   "outputs": [
    {
     "data": {
      "text/html": [
       "<div>\n",
       "<style scoped>\n",
       "    .dataframe tbody tr th:only-of-type {\n",
       "        vertical-align: middle;\n",
       "    }\n",
       "\n",
       "    .dataframe tbody tr th {\n",
       "        vertical-align: top;\n",
       "    }\n",
       "\n",
       "    .dataframe thead th {\n",
       "        text-align: right;\n",
       "    }\n",
       "</style>\n",
       "<table border=\"1\" class=\"dataframe\">\n",
       "  <thead>\n",
       "    <tr style=\"text-align: right;\">\n",
       "      <th>loan_status</th>\n",
       "      <th>ChargedOffRatio</th>\n",
       "      <th>Count</th>\n",
       "    </tr>\n",
       "    <tr>\n",
       "      <th>addr_state</th>\n",
       "      <th></th>\n",
       "      <th></th>\n",
       "    </tr>\n",
       "  </thead>\n",
       "  <tbody>\n",
       "    <tr>\n",
       "      <th>OH</th>\n",
       "      <td>13.043478</td>\n",
       "      <td>1173.0</td>\n",
       "    </tr>\n",
       "    <tr>\n",
       "      <th>VA</th>\n",
       "      <td>12.969786</td>\n",
       "      <td>1357.0</td>\n",
       "    </tr>\n",
       "    <tr>\n",
       "      <th>CO</th>\n",
       "      <td>12.830688</td>\n",
       "      <td>756.0</td>\n",
       "    </tr>\n",
       "    <tr>\n",
       "      <th>LA</th>\n",
       "      <td>12.619048</td>\n",
       "      <td>420.0</td>\n",
       "    </tr>\n",
       "    <tr>\n",
       "      <th>AL</th>\n",
       "      <td>12.500000</td>\n",
       "      <td>432.0</td>\n",
       "    </tr>\n",
       "    <tr>\n",
       "      <th>WV</th>\n",
       "      <td>12.209302</td>\n",
       "      <td>172.0</td>\n",
       "    </tr>\n",
       "    <tr>\n",
       "      <th>MA</th>\n",
       "      <td>12.206573</td>\n",
       "      <td>1278.0</td>\n",
       "    </tr>\n",
       "    <tr>\n",
       "      <th>PA</th>\n",
       "      <td>12.200137</td>\n",
       "      <td>1459.0</td>\n",
       "    </tr>\n",
       "    <tr>\n",
       "      <th>KS</th>\n",
       "      <td>12.156863</td>\n",
       "      <td>255.0</td>\n",
       "    </tr>\n",
       "    <tr>\n",
       "      <th>TX</th>\n",
       "      <td>11.910198</td>\n",
       "      <td>2628.0</td>\n",
       "    </tr>\n",
       "    <tr>\n",
       "      <th>TN</th>\n",
       "      <td>11.764706</td>\n",
       "      <td>17.0</td>\n",
       "    </tr>\n",
       "    <tr>\n",
       "      <th>AR</th>\n",
       "      <td>11.489362</td>\n",
       "      <td>235.0</td>\n",
       "    </tr>\n",
       "    <tr>\n",
       "      <th>VT</th>\n",
       "      <td>11.320755</td>\n",
       "      <td>53.0</td>\n",
       "    </tr>\n",
       "    <tr>\n",
       "      <th>DE</th>\n",
       "      <td>10.619469</td>\n",
       "      <td>113.0</td>\n",
       "    </tr>\n",
       "    <tr>\n",
       "      <th>MS</th>\n",
       "      <td>10.526316</td>\n",
       "      <td>19.0</td>\n",
       "    </tr>\n",
       "    <tr>\n",
       "      <th>DC</th>\n",
       "      <td>7.109005</td>\n",
       "      <td>211.0</td>\n",
       "    </tr>\n",
       "    <tr>\n",
       "      <th>WY</th>\n",
       "      <td>5.000000</td>\n",
       "      <td>80.0</td>\n",
       "    </tr>\n",
       "    <tr>\n",
       "      <th>IA</th>\n",
       "      <td>NaN</td>\n",
       "      <td>NaN</td>\n",
       "    </tr>\n",
       "    <tr>\n",
       "      <th>IN</th>\n",
       "      <td>NaN</td>\n",
       "      <td>NaN</td>\n",
       "    </tr>\n",
       "    <tr>\n",
       "      <th>ME</th>\n",
       "      <td>NaN</td>\n",
       "      <td>NaN</td>\n",
       "    </tr>\n",
       "  </tbody>\n",
       "</table>\n",
       "</div>"
      ],
      "text/plain": [
       "loan_status  ChargedOffRatio   Count\n",
       "addr_state                          \n",
       "OH                 13.043478  1173.0\n",
       "VA                 12.969786  1357.0\n",
       "CO                 12.830688   756.0\n",
       "LA                 12.619048   420.0\n",
       "AL                 12.500000   432.0\n",
       "WV                 12.209302   172.0\n",
       "MA                 12.206573  1278.0\n",
       "PA                 12.200137  1459.0\n",
       "KS                 12.156863   255.0\n",
       "TX                 11.910198  2628.0\n",
       "TN                 11.764706    17.0\n",
       "AR                 11.489362   235.0\n",
       "VT                 11.320755    53.0\n",
       "DE                 10.619469   113.0\n",
       "MS                 10.526316    19.0\n",
       "DC                  7.109005   211.0\n",
       "WY                  5.000000    80.0\n",
       "IA                       NaN     NaN\n",
       "IN                       NaN     NaN\n",
       "ME                       NaN     NaN"
      ]
     },
     "execution_count": 124,
     "metadata": {},
     "output_type": "execute_result"
    }
   ],
   "source": [
    "aggregated_analysis_for_column('addr_state').tail(20)"
   ]
  },
  {
   "cell_type": "markdown",
   "id": "457cf9a4",
   "metadata": {},
   "source": [
    "IA IN ME are highly likely to payback the debt. And DC and WY are also highly likely to payback."
   ]
  },
  {
   "cell_type": "code",
   "execution_count": 126,
   "id": "a55ed7a9",
   "metadata": {},
   "outputs": [
    {
     "data": {
      "text/html": [
       "<div>\n",
       "<style scoped>\n",
       "    .dataframe tbody tr th:only-of-type {\n",
       "        vertical-align: middle;\n",
       "    }\n",
       "\n",
       "    .dataframe tbody tr th {\n",
       "        vertical-align: top;\n",
       "    }\n",
       "\n",
       "    .dataframe thead th {\n",
       "        text-align: right;\n",
       "    }\n",
       "</style>\n",
       "<table border=\"1\" class=\"dataframe\">\n",
       "  <thead>\n",
       "    <tr style=\"text-align: right;\">\n",
       "      <th>loan_status</th>\n",
       "      <th>ChargedOffRatio</th>\n",
       "      <th>Count</th>\n",
       "    </tr>\n",
       "    <tr>\n",
       "      <th>zip_code</th>\n",
       "      <th></th>\n",
       "      <th></th>\n",
       "    </tr>\n",
       "  </thead>\n",
       "  <tbody>\n",
       "    <tr>\n",
       "      <th>746</th>\n",
       "      <td>71.428571</td>\n",
       "      <td>7.0</td>\n",
       "    </tr>\n",
       "    <tr>\n",
       "      <th>561</th>\n",
       "      <td>71.428571</td>\n",
       "      <td>7.0</td>\n",
       "    </tr>\n",
       "    <tr>\n",
       "      <th>685</th>\n",
       "      <td>66.666667</td>\n",
       "      <td>3.0</td>\n",
       "    </tr>\n",
       "    <tr>\n",
       "      <th>798</th>\n",
       "      <td>50.000000</td>\n",
       "      <td>2.0</td>\n",
       "    </tr>\n",
       "    <tr>\n",
       "      <th>496</th>\n",
       "      <td>50.000000</td>\n",
       "      <td>6.0</td>\n",
       "    </tr>\n",
       "    <tr>\n",
       "      <th>673</th>\n",
       "      <td>50.000000</td>\n",
       "      <td>2.0</td>\n",
       "    </tr>\n",
       "    <tr>\n",
       "      <th>416</th>\n",
       "      <td>50.000000</td>\n",
       "      <td>4.0</td>\n",
       "    </tr>\n",
       "    <tr>\n",
       "      <th>413</th>\n",
       "      <td>50.000000</td>\n",
       "      <td>2.0</td>\n",
       "    </tr>\n",
       "    <tr>\n",
       "      <th>607</th>\n",
       "      <td>50.000000</td>\n",
       "      <td>14.0</td>\n",
       "    </tr>\n",
       "    <tr>\n",
       "      <th>608</th>\n",
       "      <td>50.000000</td>\n",
       "      <td>8.0</td>\n",
       "    </tr>\n",
       "    <tr>\n",
       "      <th>203</th>\n",
       "      <td>50.000000</td>\n",
       "      <td>2.0</td>\n",
       "    </tr>\n",
       "    <tr>\n",
       "      <th>897</th>\n",
       "      <td>50.000000</td>\n",
       "      <td>6.0</td>\n",
       "    </tr>\n",
       "  </tbody>\n",
       "</table>\n",
       "</div>"
      ],
      "text/plain": [
       "loan_status  ChargedOffRatio  Count\n",
       "zip_code                           \n",
       "746                71.428571    7.0\n",
       "561                71.428571    7.0\n",
       "685                66.666667    3.0\n",
       "798                50.000000    2.0\n",
       "496                50.000000    6.0\n",
       "673                50.000000    2.0\n",
       "416                50.000000    4.0\n",
       "413                50.000000    2.0\n",
       "607                50.000000   14.0\n",
       "608                50.000000    8.0\n",
       "203                50.000000    2.0\n",
       "897                50.000000    6.0"
      ]
     },
     "execution_count": 126,
     "metadata": {},
     "output_type": "execute_result"
    }
   ],
   "source": [
    "zip_code_agg_data = aggregated_analysis_for_column('zip_code')\n",
    "zip_code_agg_data[zip_code_agg_data.ChargedOffRatio.values >= 50]"
   ]
  },
  {
   "cell_type": "markdown",
   "id": "edbc14f2",
   "metadata": {},
   "source": [
    "Keeping 50% as Charge Off ration Threshold, The above pincodes are highly like to Charge Off."
   ]
  },
  {
   "cell_type": "code",
   "execution_count": 128,
   "id": "83224f41",
   "metadata": {},
   "outputs": [
    {
     "data": {
      "text/plain": [
       "Int64Index([783, 355, 949, 716, 362, 116, 652, 636, 437,  34,\n",
       "            ...\n",
       "            170, 435, 721, 160, 947, 448, 944, 356, 297,  69],\n",
       "           dtype='int64', name='zip_code', length=138)"
      ]
     },
     "execution_count": 128,
     "metadata": {},
     "output_type": "execute_result"
    }
   ],
   "source": [
    "zip_code_agg_data = aggregated_analysis_for_column('zip_code')\n",
    "zip_code_agg_data[zip_code_agg_data.ChargedOffRatio.values <= 10].index"
   ]
  },
  {
   "cell_type": "markdown",
   "id": "cca6be4e",
   "metadata": {},
   "source": [
    "Keeping 10% as Charge Off ration Threshold, The above pincodes are highly like to Payy off the debt."
   ]
  },
  {
   "cell_type": "code",
   "execution_count": 130,
   "id": "55f711f9",
   "metadata": {},
   "outputs": [],
   "source": [
    "verification_status_agg_data = aggregated_analysis_for_column('verification_status')"
   ]
  },
  {
   "cell_type": "markdown",
   "id": "102e6ecf",
   "metadata": {},
   "source": [
    "Charge off ratio is high for verified which is not expected. This shows a reverse trend."
   ]
  },
  {
   "cell_type": "code",
   "execution_count": 132,
   "id": "a2112340",
   "metadata": {},
   "outputs": [
    {
     "data": {
      "text/plain": [
       "<AxesSubplot:xlabel='verification_status'>"
      ]
     },
     "execution_count": 132,
     "metadata": {},
     "output_type": "execute_result"
    },
    {
     "data": {
      "image/png": "[encoded data removed]",
      "text/plain": [
       "<Figure size 432x288 with 1 Axes>"
      ]
     },
     "metadata": {},
     "output_type": "display_data"
    }
   ],
   "source": [
    "verification_status_agg_data.ChargedOffRatio.plot.line()"
   ]
  },
  {
   "cell_type": "code",
   "execution_count": 133,
   "id": "797b192a",
   "metadata": {},
   "outputs": [],
   "source": [
    "purpose_agg_data = aggregated_analysis_for_column('purpose')"
   ]
  },
  {
   "cell_type": "code",
   "execution_count": 134,
   "id": "049ccdd0",
   "metadata": {},
   "outputs": [
    {
     "data": {
      "text/html": [
       "<div>\n",
       "<style scoped>\n",
       "    .dataframe tbody tr th:only-of-type {\n",
       "        vertical-align: middle;\n",
       "    }\n",
       "\n",
       "    .dataframe tbody tr th {\n",
       "        vertical-align: top;\n",
       "    }\n",
       "\n",
       "    .dataframe thead th {\n",
       "        text-align: right;\n",
       "    }\n",
       "</style>\n",
       "<table border=\"1\" class=\"dataframe\">\n",
       "  <thead>\n",
       "    <tr style=\"text-align: right;\">\n",
       "      <th>loan_status</th>\n",
       "      <th>ChargedOffRatio</th>\n",
       "      <th>Count</th>\n",
       "    </tr>\n",
       "    <tr>\n",
       "      <th>purpose</th>\n",
       "      <th></th>\n",
       "      <th></th>\n",
       "    </tr>\n",
       "  </thead>\n",
       "  <tbody>\n",
       "    <tr>\n",
       "      <th>small_business</th>\n",
       "      <td>27.351916</td>\n",
       "      <td>1722</td>\n",
       "    </tr>\n",
       "    <tr>\n",
       "      <th>renewable_energy</th>\n",
       "      <td>19.000000</td>\n",
       "      <td>100</td>\n",
       "    </tr>\n",
       "    <tr>\n",
       "      <th>educational</th>\n",
       "      <td>17.027864</td>\n",
       "      <td>323</td>\n",
       "    </tr>\n",
       "    <tr>\n",
       "      <th>other</th>\n",
       "      <td>16.427266</td>\n",
       "      <td>3829</td>\n",
       "    </tr>\n",
       "    <tr>\n",
       "      <th>house</th>\n",
       "      <td>16.246499</td>\n",
       "      <td>357</td>\n",
       "    </tr>\n",
       "  </tbody>\n",
       "</table>\n",
       "</div>"
      ],
      "text/plain": [
       "loan_status       ChargedOffRatio  Count\n",
       "purpose                                 \n",
       "small_business          27.351916   1722\n",
       "renewable_energy        19.000000    100\n",
       "educational             17.027864    323\n",
       "other                   16.427266   3829\n",
       "house                   16.246499    357"
      ]
     },
     "execution_count": 134,
     "metadata": {},
     "output_type": "execute_result"
    }
   ],
   "source": [
    "purpose_agg_data.head()"
   ]
  },
  {
   "cell_type": "markdown",
   "id": "2c2360a3",
   "metadata": {},
   "source": [
    "People applying for small business are highly likely to charge off. Compared to other purposes."
   ]
  },
  {
   "cell_type": "code",
   "execution_count": 136,
   "id": "d840fec4",
   "metadata": {},
   "outputs": [
    {
     "data": {
      "text/plain": [
       "<AxesSubplot:xlabel='purpose'>"
      ]
     },
     "execution_count": 136,
     "metadata": {},
     "output_type": "execute_result"
    },
    {
     "data": {
      "image/png": "[encoded data removed]",
      "text/plain": [
       "<Figure size 432x288 with 1 Axes>"
      ]
     },
     "metadata": {},
     "output_type": "display_data"
    }
   ],
   "source": [
    "purpose_agg_data.ChargedOffRatio.plot.bar()"
   ]
  },
  {
   "cell_type": "code",
   "execution_count": 137,
   "id": "71d39710",
   "metadata": {},
   "outputs": [],
   "source": [
    "home_ownership = aggregated_analysis_for_column('home_ownership')"
   ]
  },
  {
   "cell_type": "code",
   "execution_count": 138,
   "id": "91c5cb24",
   "metadata": {},
   "outputs": [
    {
     "data": {
      "text/html": [
       "<div>\n",
       "<style scoped>\n",
       "    .dataframe tbody tr th:only-of-type {\n",
       "        vertical-align: middle;\n",
       "    }\n",
       "\n",
       "    .dataframe tbody tr th {\n",
       "        vertical-align: top;\n",
       "    }\n",
       "\n",
       "    .dataframe thead th {\n",
       "        text-align: right;\n",
       "    }\n",
       "</style>\n",
       "<table border=\"1\" class=\"dataframe\">\n",
       "  <thead>\n",
       "    <tr style=\"text-align: right;\">\n",
       "      <th>loan_status</th>\n",
       "      <th>ChargedOffRatio</th>\n",
       "      <th>Count</th>\n",
       "    </tr>\n",
       "    <tr>\n",
       "      <th>home_ownership</th>\n",
       "      <th></th>\n",
       "      <th></th>\n",
       "    </tr>\n",
       "  </thead>\n",
       "  <tbody>\n",
       "    <tr>\n",
       "      <th>OTHER</th>\n",
       "      <td>18.750000</td>\n",
       "      <td>96</td>\n",
       "    </tr>\n",
       "    <tr>\n",
       "      <th>RENT</th>\n",
       "      <td>15.345727</td>\n",
       "      <td>18396</td>\n",
       "    </tr>\n",
       "    <tr>\n",
       "      <th>OWN</th>\n",
       "      <td>14.930438</td>\n",
       "      <td>2947</td>\n",
       "    </tr>\n",
       "    <tr>\n",
       "      <th>MORTGAGE</th>\n",
       "      <td>13.744104</td>\n",
       "      <td>16749</td>\n",
       "    </tr>\n",
       "  </tbody>\n",
       "</table>\n",
       "</div>"
      ],
      "text/plain": [
       "loan_status     ChargedOffRatio  Count\n",
       "home_ownership                        \n",
       "OTHER                 18.750000     96\n",
       "RENT                  15.345727  18396\n",
       "OWN                   14.930438   2947\n",
       "MORTGAGE              13.744104  16749"
      ]
     },
     "execution_count": 138,
     "metadata": {},
     "output_type": "execute_result"
    }
   ],
   "source": [
    "home_ownership.head()"
   ]
  },
  {
   "cell_type": "markdown",
   "id": "388e17a9",
   "metadata": {},
   "source": [
    "Other Category of home ownership is highly likely to charge off"
   ]
  },
  {
   "cell_type": "code",
   "execution_count": 140,
   "id": "9f59de48",
   "metadata": {},
   "outputs": [],
   "source": [
    "emp_length = aggregated_analysis_for_column('emp_length')"
   ]
  },
  {
   "cell_type": "code",
   "execution_count": 141,
   "id": "2d2155e0",
   "metadata": {},
   "outputs": [
    {
     "data": {
      "text/html": [
       "<div>\n",
       "<style scoped>\n",
       "    .dataframe tbody tr th:only-of-type {\n",
       "        vertical-align: middle;\n",
       "    }\n",
       "\n",
       "    .dataframe tbody tr th {\n",
       "        vertical-align: top;\n",
       "    }\n",
       "\n",
       "    .dataframe thead th {\n",
       "        text-align: right;\n",
       "    }\n",
       "</style>\n",
       "<table border=\"1\" class=\"dataframe\">\n",
       "  <thead>\n",
       "    <tr style=\"text-align: right;\">\n",
       "      <th>loan_status</th>\n",
       "      <th>ChargedOffRatio</th>\n",
       "      <th>Count</th>\n",
       "    </tr>\n",
       "    <tr>\n",
       "      <th>emp_length</th>\n",
       "      <th></th>\n",
       "      <th></th>\n",
       "    </tr>\n",
       "  </thead>\n",
       "  <tbody>\n",
       "    <tr>\n",
       "      <th>10+ years</th>\n",
       "      <td>15.752933</td>\n",
       "      <td>8354</td>\n",
       "    </tr>\n",
       "    <tr>\n",
       "      <th>7 years</th>\n",
       "      <td>15.439010</td>\n",
       "      <td>1697</td>\n",
       "    </tr>\n",
       "    <tr>\n",
       "      <th>1 year</th>\n",
       "      <td>14.472010</td>\n",
       "      <td>3144</td>\n",
       "    </tr>\n",
       "    <tr>\n",
       "      <th>5 years</th>\n",
       "      <td>14.371447</td>\n",
       "      <td>3166</td>\n",
       "    </tr>\n",
       "    <tr>\n",
       "      <th>8 years</th>\n",
       "      <td>14.305849</td>\n",
       "      <td>1419</td>\n",
       "    </tr>\n",
       "    <tr>\n",
       "      <th>&lt; 1 year</th>\n",
       "      <td>14.186774</td>\n",
       "      <td>4476</td>\n",
       "    </tr>\n",
       "    <tr>\n",
       "      <th>6 years</th>\n",
       "      <td>14.179451</td>\n",
       "      <td>2151</td>\n",
       "    </tr>\n",
       "    <tr>\n",
       "      <th>3 years</th>\n",
       "      <td>13.854664</td>\n",
       "      <td>3977</td>\n",
       "    </tr>\n",
       "    <tr>\n",
       "      <th>4 years</th>\n",
       "      <td>13.751508</td>\n",
       "      <td>3316</td>\n",
       "    </tr>\n",
       "    <tr>\n",
       "      <th>2 years</th>\n",
       "      <td>13.215548</td>\n",
       "      <td>4245</td>\n",
       "    </tr>\n",
       "    <tr>\n",
       "      <th>9 years</th>\n",
       "      <td>12.921811</td>\n",
       "      <td>1215</td>\n",
       "    </tr>\n",
       "  </tbody>\n",
       "</table>\n",
       "</div>"
      ],
      "text/plain": [
       "loan_status  ChargedOffRatio  Count\n",
       "emp_length                         \n",
       "10+ years          15.752933   8354\n",
       "7 years            15.439010   1697\n",
       "1 year             14.472010   3144\n",
       "5 years            14.371447   3166\n",
       "8 years            14.305849   1419\n",
       "< 1 year           14.186774   4476\n",
       "6 years            14.179451   2151\n",
       "3 years            13.854664   3977\n",
       "4 years            13.751508   3316\n",
       "2 years            13.215548   4245\n",
       "9 years            12.921811   1215"
      ]
     },
     "execution_count": 141,
     "metadata": {},
     "output_type": "execute_result"
    }
   ],
   "source": [
    "emp_length"
   ]
  },
  {
   "cell_type": "markdown",
   "id": "86d7d47e",
   "metadata": {},
   "source": [
    "There is not much affect of employment length on this."
   ]
  },
  {
   "cell_type": "code",
   "execution_count": 143,
   "id": "1cc6a4b5",
   "metadata": {},
   "outputs": [],
   "source": [
    "emp_title = aggregated_analysis_for_column('emp_title')"
   ]
  },
  {
   "cell_type": "code",
   "execution_count": 144,
   "id": "f9024c6e",
   "metadata": {},
   "outputs": [
    {
     "data": {
      "text/html": [
       "<div>\n",
       "<style scoped>\n",
       "    .dataframe tbody tr th:only-of-type {\n",
       "        vertical-align: middle;\n",
       "    }\n",
       "\n",
       "    .dataframe tbody tr th {\n",
       "        vertical-align: top;\n",
       "    }\n",
       "\n",
       "    .dataframe thead th {\n",
       "        text-align: right;\n",
       "    }\n",
       "</style>\n",
       "<table border=\"1\" class=\"dataframe\">\n",
       "  <thead>\n",
       "    <tr style=\"text-align: right;\">\n",
       "      <th>loan_status</th>\n",
       "      <th>ChargedOffRatio</th>\n",
       "      <th>Count</th>\n",
       "    </tr>\n",
       "    <tr>\n",
       "      <th>emp_title</th>\n",
       "      <th></th>\n",
       "      <th></th>\n",
       "    </tr>\n",
       "  </thead>\n",
       "  <tbody>\n",
       "    <tr>\n",
       "      <th>National Grid</th>\n",
       "      <td>75.000000</td>\n",
       "      <td>4.0</td>\n",
       "    </tr>\n",
       "    <tr>\n",
       "      <th>UNITED STATES POSTAL SERVICE</th>\n",
       "      <td>75.000000</td>\n",
       "      <td>4.0</td>\n",
       "    </tr>\n",
       "    <tr>\n",
       "      <th>Abercrombie &amp; Fitch</th>\n",
       "      <td>75.000000</td>\n",
       "      <td>4.0</td>\n",
       "    </tr>\n",
       "    <tr>\n",
       "      <th>ups</th>\n",
       "      <td>71.428571</td>\n",
       "      <td>7.0</td>\n",
       "    </tr>\n",
       "    <tr>\n",
       "      <th>G4S Secure Solutions</th>\n",
       "      <td>66.666667</td>\n",
       "      <td>3.0</td>\n",
       "    </tr>\n",
       "    <tr>\n",
       "      <th>...</th>\n",
       "      <td>...</td>\n",
       "      <td>...</td>\n",
       "    </tr>\n",
       "    <tr>\n",
       "      <th>zashko inc.</th>\n",
       "      <td>NaN</td>\n",
       "      <td>NaN</td>\n",
       "    </tr>\n",
       "    <tr>\n",
       "      <th>zeno office solutions</th>\n",
       "      <td>NaN</td>\n",
       "      <td>NaN</td>\n",
       "    </tr>\n",
       "    <tr>\n",
       "      <th>zion lutheran school</th>\n",
       "      <td>NaN</td>\n",
       "      <td>NaN</td>\n",
       "    </tr>\n",
       "    <tr>\n",
       "      <th>zoll medical corp</th>\n",
       "      <td>NaN</td>\n",
       "      <td>NaN</td>\n",
       "    </tr>\n",
       "    <tr>\n",
       "      <th>zozaya officiating</th>\n",
       "      <td>NaN</td>\n",
       "      <td>NaN</td>\n",
       "    </tr>\n",
       "  </tbody>\n",
       "</table>\n",
       "<p>27795 rows × 2 columns</p>\n",
       "</div>"
      ],
      "text/plain": [
       "loan_status                   ChargedOffRatio  Count\n",
       "emp_title                                           \n",
       "National Grid                       75.000000    4.0\n",
       "UNITED STATES POSTAL SERVICE        75.000000    4.0\n",
       "Abercrombie & Fitch                 75.000000    4.0\n",
       "ups                                 71.428571    7.0\n",
       "G4S Secure Solutions                66.666667    3.0\n",
       "...                                       ...    ...\n",
       "zashko inc.                               NaN    NaN\n",
       "zeno office solutions                     NaN    NaN\n",
       "zion lutheran school                      NaN    NaN\n",
       "zoll medical corp                         NaN    NaN\n",
       "zozaya officiating                        NaN    NaN\n",
       "\n",
       "[27795 rows x 2 columns]"
      ]
     },
     "execution_count": 144,
     "metadata": {},
     "output_type": "execute_result"
    }
   ],
   "source": [
    "emp_title"
   ]
  },
  {
   "cell_type": "code",
   "execution_count": 145,
   "id": "1df3c913",
   "metadata": {},
   "outputs": [
    {
     "data": {
      "text/plain": [
       "                                        2341\n",
       "US Army                                  131\n",
       "Bank of America                          107\n",
       "IBM                                       62\n",
       "AT&T                                      57\n",
       "                                        ... \n",
       "westin                                     1\n",
       "New Mexico Department of Corrections       1\n",
       "Sapa                                       1\n",
       "state of wyoming                           1\n",
       "Evergreen Center                           1\n",
       "Name: emp_title, Length: 27795, dtype: int64"
      ]
     },
     "execution_count": 145,
     "metadata": {},
     "output_type": "execute_result"
    }
   ],
   "source": [
    "loan_data.emp_title.value_counts()"
   ]
  },
  {
   "cell_type": "code",
   "execution_count": 146,
   "id": "e737712d",
   "metadata": {},
   "outputs": [
    {
     "data": {
      "text/html": [
       "<div>\n",
       "<style scoped>\n",
       "    .dataframe tbody tr th:only-of-type {\n",
       "        vertical-align: middle;\n",
       "    }\n",
       "\n",
       "    .dataframe tbody tr th {\n",
       "        vertical-align: top;\n",
       "    }\n",
       "\n",
       "    .dataframe thead th {\n",
       "        text-align: right;\n",
       "    }\n",
       "</style>\n",
       "<table border=\"1\" class=\"dataframe\">\n",
       "  <thead>\n",
       "    <tr style=\"text-align: right;\">\n",
       "      <th>loan_status</th>\n",
       "      <th>ChargedOffRatio</th>\n",
       "      <th>Count</th>\n",
       "    </tr>\n",
       "    <tr>\n",
       "      <th>term</th>\n",
       "      <th></th>\n",
       "      <th></th>\n",
       "    </tr>\n",
       "  </thead>\n",
       "  <tbody>\n",
       "    <tr>\n",
       "      <th>60</th>\n",
       "      <td>25.424090</td>\n",
       "      <td>9373</td>\n",
       "    </tr>\n",
       "    <tr>\n",
       "      <th>36</th>\n",
       "      <td>11.105327</td>\n",
       "      <td>28815</td>\n",
       "    </tr>\n",
       "  </tbody>\n",
       "</table>\n",
       "</div>"
      ],
      "text/plain": [
       "loan_status  ChargedOffRatio  Count\n",
       "term                               \n",
       "60                 25.424090   9373\n",
       "36                 11.105327  28815"
      ]
     },
     "execution_count": 146,
     "metadata": {},
     "output_type": "execute_result"
    }
   ],
   "source": [
    "term_agg_data = aggregated_analysis_for_column('term')\n",
    "term_agg_data"
   ]
  },
  {
   "cell_type": "code",
   "execution_count": 174,
   "id": "d9e16023",
   "metadata": {},
   "outputs": [
    {
     "data": {
      "text/plain": [
       "<AxesSubplot:xlabel='term'>"
      ]
     },
     "execution_count": 174,
     "metadata": {},
     "output_type": "execute_result"
    },
    {
     "data": {
      "image/png": "[encoded data removed]",
      "text/plain": [
       "<Figure size 432x288 with 1 Axes>"
      ]
     },
     "metadata": {},
     "output_type": "display_data"
    }
   ],
   "source": [
    "term_agg_data.ChargedOffRatio.plot.bar()"
   ]
  },
  {
   "cell_type": "markdown",
   "id": "e9bceef1",
   "metadata": {},
   "source": [
    "Seems like loans with longer tenure tend to be charged off more than loans with shorter tenure."
   ]
  },
  {
   "cell_type": "markdown",
   "id": "76646920",
   "metadata": {},
   "source": [
    "Continuous variable vs Target variable."
   ]
  },
  {
   "cell_type": "code",
   "execution_count": 149,
   "id": "094fe421",
   "metadata": {},
   "outputs": [
    {
     "data": {
      "text/plain": [
       "<AxesSubplot:xlabel='loan_status', ylabel='dti'>"
      ]
     },
     "execution_count": 149,
     "metadata": {},
     "output_type": "execute_result"
    },
    {
     "data": {
      "image/png": "[encoded data removed]",
      "text/plain": [
       "<Figure size 432x288 with 1 Axes>"
      ]
     },
     "metadata": {},
     "output_type": "display_data"
    }
   ],
   "source": [
    "sns.boxplot(x=loan_data.loan_status,y=loan_data.dti)"
   ]
  },
  {
   "cell_type": "markdown",
   "id": "596b439c",
   "metadata": {},
   "source": [
    "dti is very slightly high for Charged off for all quartiles, but the difference is not evident.\\\n",
    "Since dti is behavioural data we will not consider this in our analysis."
   ]
  },
  {
   "cell_type": "code",
   "execution_count": 151,
   "id": "c3f2752c",
   "metadata": {},
   "outputs": [
    {
     "data": {
      "text/plain": [
       "<AxesSubplot:xlabel='loan_status', ylabel='int_rate'>"
      ]
     },
     "execution_count": 151,
     "metadata": {},
     "output_type": "execute_result"
    },
    {
     "data": {
      "image/png": "[encoded data removed]",
      "text/plain": [
       "<Figure size 432x288 with 1 Axes>"
      ]
     },
     "metadata": {},
     "output_type": "display_data"
    }
   ],
   "source": [
    "sns.boxplot(x=loan_data.loan_status,y=loan_data.int_rate)"
   ]
  },
  {
   "cell_type": "markdown",
   "id": "75f0a158",
   "metadata": {},
   "source": [
    "Interest rate is comparibly high for Charged of cases, the median for Charged off is almost above the 75% for Fully Paid."
   ]
  },
  {
   "cell_type": "code",
   "execution_count": 153,
   "id": "53233173",
   "metadata": {},
   "outputs": [
    {
     "data": {
      "text/plain": [
       "<AxesSubplot:xlabel='loan_status', ylabel='annual_inc'>"
      ]
     },
     "execution_count": 153,
     "metadata": {},
     "output_type": "execute_result"
    },
    {
     "data": {
      "image/png": "[encoded data removed]",
      "text/plain": [
       "<Figure size 432x288 with 1 Axes>"
      ]
     },
     "metadata": {},
     "output_type": "display_data"
    }
   ],
   "source": [
    "sns.boxplot(x=loan_data.loan_status,y=loan_data.annual_inc)"
   ]
  },
  {
   "cell_type": "markdown",
   "id": "68b0dc56",
   "metadata": {},
   "source": [
    "People who fully pay the loan have slightly higher income than people who don't"
   ]
  },
  {
   "cell_type": "code",
   "execution_count": 155,
   "id": "ff63744c",
   "metadata": {},
   "outputs": [
    {
     "data": {
      "text/plain": [
       "<AxesSubplot:xlabel='loan_status', ylabel='loan_amnt'>"
      ]
     },
     "execution_count": 155,
     "metadata": {},
     "output_type": "execute_result"
    },
    {
     "data": {
      "image/png": "[encoded data removed]",
      "text/plain": [
       "<Figure size 432x288 with 1 Axes>"
      ]
     },
     "metadata": {},
     "output_type": "display_data"
    }
   ],
   "source": [
    "sns.boxplot(x=loan_data.loan_status,y=loan_data.loan_amnt)"
   ]
  },
  {
   "cell_type": "markdown",
   "id": "b58b8e72",
   "metadata": {},
   "source": [
    "Poeple with more loan amount are very slightly more likely to be charged off."
   ]
  },
  {
   "cell_type": "code",
   "execution_count": 162,
   "id": "9b59ee9e",
   "metadata": {},
   "outputs": [
    {
     "data": {
      "text/plain": [
       "<AxesSubplot:xlabel='loan_status', ylabel='open_acc'>"
      ]
     },
     "execution_count": 162,
     "metadata": {},
     "output_type": "execute_result"
    },
    {
     "data": {
      "image/png": "[encoded data removed]",
      "text/plain": [
       "<Figure size 432x288 with 1 Axes>"
      ]
     },
     "metadata": {},
     "output_type": "display_data"
    }
   ],
   "source": [
    "sns.boxplot(x=loan_data.loan_status,y=loan_data.open_acc)"
   ]
  },
  {
   "cell_type": "code",
   "execution_count": 165,
   "id": "98c101ab",
   "metadata": {},
   "outputs": [
    {
     "data": {
      "text/plain": [
       "<AxesSubplot:xlabel='loan_amnt', ylabel='int_rate'>"
      ]
     },
     "execution_count": 165,
     "metadata": {},
     "output_type": "execute_result"
    },
    {
     "data": {
      "image/png": "[encoded data removed]",
      "text/plain": [
       "<Figure size 432x288 with 1 Axes>"
      ]
     },
     "metadata": {},
     "output_type": "display_data"
    }
   ],
   "source": [
    "sns.lineplot(x=loan_data.loan_amnt,y=loan_data.int_rate,hue=loan_data.loan_status)"
   ]
  }
 ],
 "metadata": {
  "interpreter": {
   "hash": "4de7b47bac0517dee333f30a4b353bc4b7aa69cc2eb8936e3a8c39aaf8132189"
  },
  "kernelspec": {
   "display_name": "Python 3 (ipykernel)",
   "language": "python",
   "name": "python3"
  },
  "language_info": {
   "codemirror_mode": {
    "name": "ipython",
    "version": 3
   },
   "file_extension": ".py",
   "mimetype": "text/x-python",
   "name": "python",
   "nbconvert_exporter": "python",
   "pygments_lexer": "ipython3",
   "version": "3.8.0"
  }
 },
 "nbformat": 4,
 "nbformat_minor": 5
}
