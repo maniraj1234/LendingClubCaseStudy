{
 "cells": [
  {
   "cell_type": "code",
   "execution_count": 92,
   "id": "c06a0b29",
   "metadata": {},
   "outputs": [],
   "source": [
    "### Analysis for consumer finance company"
   ]
  },
  {
   "cell_type": "code",
   "execution_count": 93,
   "id": "5bcfdf2e",
   "metadata": {},
   "outputs": [],
   "source": [
    "import pandas as pd\n",
    "import numpy as np\n",
    "import matplotlib.pyplot as plt\n",
    "import seaborn as sns\n",
    "import warnings\n",
    "warnings.filterwarnings('ignore')"
   ]
  },
  {
   "cell_type": "code",
   "execution_count": 94,
   "id": "dc0beb01",
   "metadata": {},
   "outputs": [],
   "source": [
    "# read the data set we have."
   ]
  },
  {
   "cell_type": "code",
   "execution_count": 95,
   "id": "75ffd836",
   "metadata": {},
   "outputs": [],
   "source": [
    "loan_data = pd.read_csv('loan.csv')"
   ]
  },
  {
   "cell_type": "code",
   "execution_count": 96,
   "id": "b6896ad3",
   "metadata": {},
   "outputs": [],
   "source": [
    "# As part of initial step, understand the data set given"
   ]
  },
  {
   "cell_type": "code",
   "execution_count": 97,
   "id": "423a7698",
   "metadata": {},
   "outputs": [
    {
     "data": {
      "text/html": [
       "<div>\n",
       "<style scoped>\n",
       "    .dataframe tbody tr th:only-of-type {\n",
       "        vertical-align: middle;\n",
       "    }\n",
       "\n",
       "    .dataframe tbody tr th {\n",
       "        vertical-align: top;\n",
       "    }\n",
       "\n",
       "    .dataframe thead th {\n",
       "        text-align: right;\n",
       "    }\n",
       "</style>\n",
       "<table border=\"1\" class=\"dataframe\">\n",
       "  <thead>\n",
       "    <tr style=\"text-align: right;\">\n",
       "      <th></th>\n",
       "      <th>id</th>\n",
       "      <th>member_id</th>\n",
       "      <th>loan_amnt</th>\n",
       "      <th>funded_amnt</th>\n",
       "      <th>funded_amnt_inv</th>\n",
       "      <th>term</th>\n",
       "      <th>int_rate</th>\n",
       "      <th>installment</th>\n",
       "      <th>grade</th>\n",
       "      <th>sub_grade</th>\n",
       "      <th>...</th>\n",
       "      <th>num_tl_90g_dpd_24m</th>\n",
       "      <th>num_tl_op_past_12m</th>\n",
       "      <th>pct_tl_nvr_dlq</th>\n",
       "      <th>percent_bc_gt_75</th>\n",
       "      <th>pub_rec_bankruptcies</th>\n",
       "      <th>tax_liens</th>\n",
       "      <th>tot_hi_cred_lim</th>\n",
       "      <th>total_bal_ex_mort</th>\n",
       "      <th>total_bc_limit</th>\n",
       "      <th>total_il_high_credit_limit</th>\n",
       "    </tr>\n",
       "  </thead>\n",
       "  <tbody>\n",
       "    <tr>\n",
       "      <th>0</th>\n",
       "      <td>1077501</td>\n",
       "      <td>1296599</td>\n",
       "      <td>5000</td>\n",
       "      <td>5000</td>\n",
       "      <td>4975.0</td>\n",
       "      <td>36 months</td>\n",
       "      <td>10.65%</td>\n",
       "      <td>162.87</td>\n",
       "      <td>B</td>\n",
       "      <td>B2</td>\n",
       "      <td>...</td>\n",
       "      <td>NaN</td>\n",
       "      <td>NaN</td>\n",
       "      <td>NaN</td>\n",
       "      <td>NaN</td>\n",
       "      <td>0.0</td>\n",
       "      <td>0.0</td>\n",
       "      <td>NaN</td>\n",
       "      <td>NaN</td>\n",
       "      <td>NaN</td>\n",
       "      <td>NaN</td>\n",
       "    </tr>\n",
       "    <tr>\n",
       "      <th>1</th>\n",
       "      <td>1077430</td>\n",
       "      <td>1314167</td>\n",
       "      <td>2500</td>\n",
       "      <td>2500</td>\n",
       "      <td>2500.0</td>\n",
       "      <td>60 months</td>\n",
       "      <td>15.27%</td>\n",
       "      <td>59.83</td>\n",
       "      <td>C</td>\n",
       "      <td>C4</td>\n",
       "      <td>...</td>\n",
       "      <td>NaN</td>\n",
       "      <td>NaN</td>\n",
       "      <td>NaN</td>\n",
       "      <td>NaN</td>\n",
       "      <td>0.0</td>\n",
       "      <td>0.0</td>\n",
       "      <td>NaN</td>\n",
       "      <td>NaN</td>\n",
       "      <td>NaN</td>\n",
       "      <td>NaN</td>\n",
       "    </tr>\n",
       "    <tr>\n",
       "      <th>2</th>\n",
       "      <td>1077175</td>\n",
       "      <td>1313524</td>\n",
       "      <td>2400</td>\n",
       "      <td>2400</td>\n",
       "      <td>2400.0</td>\n",
       "      <td>36 months</td>\n",
       "      <td>15.96%</td>\n",
       "      <td>84.33</td>\n",
       "      <td>C</td>\n",
       "      <td>C5</td>\n",
       "      <td>...</td>\n",
       "      <td>NaN</td>\n",
       "      <td>NaN</td>\n",
       "      <td>NaN</td>\n",
       "      <td>NaN</td>\n",
       "      <td>0.0</td>\n",
       "      <td>0.0</td>\n",
       "      <td>NaN</td>\n",
       "      <td>NaN</td>\n",
       "      <td>NaN</td>\n",
       "      <td>NaN</td>\n",
       "    </tr>\n",
       "    <tr>\n",
       "      <th>3</th>\n",
       "      <td>1076863</td>\n",
       "      <td>1277178</td>\n",
       "      <td>10000</td>\n",
       "      <td>10000</td>\n",
       "      <td>10000.0</td>\n",
       "      <td>36 months</td>\n",
       "      <td>13.49%</td>\n",
       "      <td>339.31</td>\n",
       "      <td>C</td>\n",
       "      <td>C1</td>\n",
       "      <td>...</td>\n",
       "      <td>NaN</td>\n",
       "      <td>NaN</td>\n",
       "      <td>NaN</td>\n",
       "      <td>NaN</td>\n",
       "      <td>0.0</td>\n",
       "      <td>0.0</td>\n",
       "      <td>NaN</td>\n",
       "      <td>NaN</td>\n",
       "      <td>NaN</td>\n",
       "      <td>NaN</td>\n",
       "    </tr>\n",
       "    <tr>\n",
       "      <th>4</th>\n",
       "      <td>1075358</td>\n",
       "      <td>1311748</td>\n",
       "      <td>3000</td>\n",
       "      <td>3000</td>\n",
       "      <td>3000.0</td>\n",
       "      <td>60 months</td>\n",
       "      <td>12.69%</td>\n",
       "      <td>67.79</td>\n",
       "      <td>B</td>\n",
       "      <td>B5</td>\n",
       "      <td>...</td>\n",
       "      <td>NaN</td>\n",
       "      <td>NaN</td>\n",
       "      <td>NaN</td>\n",
       "      <td>NaN</td>\n",
       "      <td>0.0</td>\n",
       "      <td>0.0</td>\n",
       "      <td>NaN</td>\n",
       "      <td>NaN</td>\n",
       "      <td>NaN</td>\n",
       "      <td>NaN</td>\n",
       "    </tr>\n",
       "  </tbody>\n",
       "</table>\n",
       "<p>5 rows × 111 columns</p>\n",
       "</div>"
      ],
      "text/plain": [
       "        id  member_id  loan_amnt  funded_amnt  funded_amnt_inv        term  \\\n",
       "0  1077501    1296599       5000         5000           4975.0   36 months   \n",
       "1  1077430    1314167       2500         2500           2500.0   60 months   \n",
       "2  1077175    1313524       2400         2400           2400.0   36 months   \n",
       "3  1076863    1277178      10000        10000          10000.0   36 months   \n",
       "4  1075358    1311748       3000         3000           3000.0   60 months   \n",
       "\n",
       "  int_rate  installment grade sub_grade  ... num_tl_90g_dpd_24m  \\\n",
       "0   10.65%       162.87     B        B2  ...                NaN   \n",
       "1   15.27%        59.83     C        C4  ...                NaN   \n",
       "2   15.96%        84.33     C        C5  ...                NaN   \n",
       "3   13.49%       339.31     C        C1  ...                NaN   \n",
       "4   12.69%        67.79     B        B5  ...                NaN   \n",
       "\n",
       "  num_tl_op_past_12m pct_tl_nvr_dlq  percent_bc_gt_75 pub_rec_bankruptcies  \\\n",
       "0                NaN            NaN               NaN                  0.0   \n",
       "1                NaN            NaN               NaN                  0.0   \n",
       "2                NaN            NaN               NaN                  0.0   \n",
       "3                NaN            NaN               NaN                  0.0   \n",
       "4                NaN            NaN               NaN                  0.0   \n",
       "\n",
       "  tax_liens tot_hi_cred_lim total_bal_ex_mort total_bc_limit  \\\n",
       "0       0.0             NaN               NaN            NaN   \n",
       "1       0.0             NaN               NaN            NaN   \n",
       "2       0.0             NaN               NaN            NaN   \n",
       "3       0.0             NaN               NaN            NaN   \n",
       "4       0.0             NaN               NaN            NaN   \n",
       "\n",
       "  total_il_high_credit_limit  \n",
       "0                        NaN  \n",
       "1                        NaN  \n",
       "2                        NaN  \n",
       "3                        NaN  \n",
       "4                        NaN  \n",
       "\n",
       "[5 rows x 111 columns]"
      ]
     },
     "execution_count": 97,
     "metadata": {},
     "output_type": "execute_result"
    }
   ],
   "source": [
    "loan_data.head()"
   ]
  },
  {
   "cell_type": "code",
   "execution_count": 98,
   "id": "6cd29eb8",
   "metadata": {},
   "outputs": [
    {
     "data": {
      "text/plain": [
       "(39717, 111)"
      ]
     },
     "execution_count": 98,
     "metadata": {},
     "output_type": "execute_result"
    }
   ],
   "source": [
    "loan_data.shape"
   ]
  },
  {
   "cell_type": "code",
   "execution_count": 99,
   "id": "401bd965",
   "metadata": {},
   "outputs": [
    {
     "name": "stdout",
     "output_type": "stream",
     "text": [
      "<class 'pandas.core.frame.DataFrame'>\n",
      "RangeIndex: 39717 entries, 0 to 39716\n",
      "Columns: 111 entries, id to total_il_high_credit_limit\n",
      "dtypes: float64(74), int64(13), object(24)\n",
      "memory usage: 33.6+ MB\n"
     ]
    }
   ],
   "source": [
    "loan_data.info()"
   ]
  },
  {
   "cell_type": "code",
   "execution_count": 100,
   "id": "9b1bb8f9",
   "metadata": {},
   "outputs": [],
   "source": [
    "## from the above data from head, looks like tehre are lot of NAs \n",
    "## see if there are any columns that are completely empty "
   ]
  },
  {
   "cell_type": "code",
   "execution_count": 101,
   "id": "34eb3398",
   "metadata": {},
   "outputs": [
    {
     "data": {
      "text/plain": [
       "54"
      ]
     },
     "execution_count": 101,
     "metadata": {},
     "output_type": "execute_result"
    }
   ],
   "source": [
    "nan_cols = [i for i in loan_data.columns if loan_data[i].isnull().all()]\n",
    "len(nan_cols)"
   ]
  },
  {
   "cell_type": "code",
   "execution_count": 102,
   "id": "f061b205",
   "metadata": {},
   "outputs": [
    {
     "data": {
      "text/plain": [
       "id                                0\n",
       "member_id                         0\n",
       "loan_amnt                         0\n",
       "funded_amnt                       0\n",
       "funded_amnt_inv                   0\n",
       "                              ...  \n",
       "tax_liens                        39\n",
       "tot_hi_cred_lim               39717\n",
       "total_bal_ex_mort             39717\n",
       "total_bc_limit                39717\n",
       "total_il_high_credit_limit    39717\n",
       "Length: 111, dtype: int64"
      ]
     },
     "execution_count": 102,
     "metadata": {},
     "output_type": "execute_result"
    }
   ],
   "source": [
    "#confirm the above data by looking at isna for each column\n",
    "loan_data.isna().sum()"
   ]
  },
  {
   "cell_type": "code",
   "execution_count": 103,
   "id": "a085e0d1",
   "metadata": {},
   "outputs": [],
   "source": [
    "# There are some 54 columns that are completely empty.\n",
    "# We need to remove these columns\n",
    "#just to be on a safer side, look at few columns randomly in the csv\n"
   ]
  },
  {
   "cell_type": "code",
   "execution_count": 104,
   "id": "022042c0",
   "metadata": {},
   "outputs": [],
   "source": [
    "loan_data.dropna(axis=1, how='all', inplace=True)"
   ]
  },
  {
   "cell_type": "code",
   "execution_count": 105,
   "id": "53bedb5f",
   "metadata": {},
   "outputs": [
    {
     "data": {
      "text/plain": [
       "(39717, 57)"
      ]
     },
     "execution_count": 105,
     "metadata": {},
     "output_type": "execute_result"
    }
   ],
   "source": [
    "#confirm if these columns are removed.\n",
    "loan_data.shape"
   ]
  },
  {
   "cell_type": "code",
   "execution_count": 106,
   "id": "2c26456c",
   "metadata": {},
   "outputs": [],
   "source": [
    "# Still there are columns which have more than 90% missing data in them\n",
    "# lets see what all columns have more than 90% missing data                          "
   ]
  },
  {
   "cell_type": "code",
   "execution_count": 107,
   "id": "26d5ff67",
   "metadata": {},
   "outputs": [
    {
     "data": {
      "text/plain": [
       "['mths_since_last_record', 'next_pymnt_d']"
      ]
     },
     "execution_count": 107,
     "metadata": {},
     "output_type": "execute_result"
    }
   ],
   "source": [
    "P90 = 39717*0.90\n",
    "nan90_cols = [i for i in loan_data.columns if loan_data[i].isna().sum()>=P90]\n",
    "nan90_cols"
   ]
  },
  {
   "cell_type": "code",
   "execution_count": 108,
   "id": "3dc72f66",
   "metadata": {},
   "outputs": [],
   "source": [
    "# Further looks like there are some columns where there are more zeros, let's see if there are any columns where all values represent same data"
   ]
  },
  {
   "cell_type": "code",
   "execution_count": 109,
   "id": "7e0efaa9",
   "metadata": {},
   "outputs": [
    {
     "data": {
      "text/plain": [
       "['pymnt_plan',\n",
       " 'initial_list_status',\n",
       " 'collections_12_mths_ex_med',\n",
       " 'policy_code',\n",
       " 'application_type',\n",
       " 'acc_now_delinq',\n",
       " 'chargeoff_within_12_mths',\n",
       " 'delinq_amnt',\n",
       " 'tax_liens']"
      ]
     },
     "execution_count": 109,
     "metadata": {},
     "output_type": "execute_result"
    }
   ],
   "source": [
    "cols_nounique = [i for i in loan_data.columns if loan_data[i].nunique()==1]\n",
    "cols_nounique"
   ]
  },
  {
   "cell_type": "code",
   "execution_count": 110,
   "id": "598336a0",
   "metadata": {},
   "outputs": [],
   "source": [
    "# since all values are same, it doesn't provide any valuable insight.\n",
    "# drop these columns as well"
   ]
  },
  {
   "cell_type": "code",
   "execution_count": 111,
   "id": "ab31b7b8",
   "metadata": {},
   "outputs": [],
   "source": [
    "loan_data.drop(columns=cols_nounique, inplace=True, axis=1)"
   ]
  },
  {
   "cell_type": "code",
   "execution_count": 112,
   "id": "a9f4a265",
   "metadata": {},
   "outputs": [],
   "source": [
    "# verify the drop again"
   ]
  },
  {
   "cell_type": "code",
   "execution_count": 113,
   "id": "ed373922",
   "metadata": {},
   "outputs": [
    {
     "data": {
      "text/plain": [
       "(39717, 48)"
      ]
     },
     "execution_count": 113,
     "metadata": {},
     "output_type": "execute_result"
    }
   ],
   "source": [
    "loan_data.shape"
   ]
  },
  {
   "cell_type": "code",
   "execution_count": 114,
   "id": "05453724",
   "metadata": {},
   "outputs": [],
   "source": [
    "loan_data_cols = loan_data.columns.tolist()"
   ]
  },
  {
   "cell_type": "code",
   "execution_count": 115,
   "id": "7c8298c9",
   "metadata": {},
   "outputs": [],
   "source": [
    "# save the filtered data into new csv so that it is easy to look at data\n",
    "loan_data.to_csv('FilteredLoanData.csv', index=False)"
   ]
  },
  {
   "cell_type": "code",
   "execution_count": 116,
   "id": "684d0e7d",
   "metadata": {},
   "outputs": [],
   "source": [
    "#Let's see manually if any column is further redundant"
   ]
  },
  {
   "cell_type": "code",
   "execution_count": 117,
   "id": "56d09564",
   "metadata": {},
   "outputs": [],
   "source": [
    "#columns that are not necessary\n",
    "# 1. url - we only have loan id changing. hence this can be ignored\n",
    "# 2. desc - we cannot make any insight out of this hence drop\n",
    "# 3. title- we cannot make any insight out of this hence drop\n",
    "# 4. dlinq 2yrs - Derived column from mths since last delinq\n",
    "# 5. It is possible for a person whose loan got ended in the past, and the one who defaulted to have last payment date in past,\n",
    "# we cannot make any insights out of this, as we can't distinguish well with the following columns.\n",
    "# last_pymnt_d, last_pymnt_amnt, next_pymntd\n",
    "# Hence Drop"
   ]
  },
  {
   "cell_type": "code",
   "execution_count": 118,
   "id": "03872db4",
   "metadata": {},
   "outputs": [
    {
     "data": {
      "text/plain": [
       "(39717, 48)"
      ]
     },
     "execution_count": 118,
     "metadata": {},
     "output_type": "execute_result"
    }
   ],
   "source": [
    "loan_data.shape"
   ]
  },
  {
   "cell_type": "code",
   "execution_count": 119,
   "id": "6fdefb47",
   "metadata": {},
   "outputs": [],
   "source": [
    "loan_data.drop(columns=['url','desc','title','delinq_2yrs','last_pymnt_d','last_pymnt_amnt','next_pymnt_d'], inplace=True)"
   ]
  },
  {
   "cell_type": "code",
   "execution_count": 120,
   "id": "ee7e7015",
   "metadata": {},
   "outputs": [
    {
     "data": {
      "text/plain": [
       "(39717, 41)"
      ]
     },
     "execution_count": 120,
     "metadata": {},
     "output_type": "execute_result"
    }
   ],
   "source": [
    "loan_data.shape"
   ]
  },
  {
   "cell_type": "code",
   "execution_count": 121,
   "id": "b2db9ff1",
   "metadata": {},
   "outputs": [
    {
     "data": {
      "text/plain": [
       "Index(['id', 'member_id', 'loan_amnt', 'funded_amnt', 'funded_amnt_inv',\n",
       "       'term', 'int_rate', 'installment', 'grade', 'sub_grade', 'emp_title',\n",
       "       'emp_length', 'home_ownership', 'annual_inc', 'verification_status',\n",
       "       'issue_d', 'loan_status', 'purpose', 'zip_code', 'addr_state', 'dti',\n",
       "       'earliest_cr_line', 'inq_last_6mths', 'mths_since_last_delinq',\n",
       "       'mths_since_last_record', 'open_acc', 'pub_rec', 'revol_bal',\n",
       "       'revol_util', 'total_acc', 'out_prncp', 'out_prncp_inv', 'total_pymnt',\n",
       "       'total_pymnt_inv', 'total_rec_prncp', 'total_rec_int',\n",
       "       'total_rec_late_fee', 'recoveries', 'collection_recovery_fee',\n",
       "       'last_credit_pull_d', 'pub_rec_bankruptcies'],\n",
       "      dtype='object')"
      ]
     },
     "execution_count": 121,
     "metadata": {},
     "output_type": "execute_result"
    }
   ],
   "source": [
    "loan_data.columns"
   ]
  },
  {
   "cell_type": "code",
   "execution_count": 122,
   "id": "9915e460",
   "metadata": {},
   "outputs": [],
   "source": [
    "# we are done with investigation on important columns, now we have to perform data cleaning on rows."
   ]
  },
  {
   "cell_type": "code",
   "execution_count": 123,
   "id": "26918c56",
   "metadata": {},
   "outputs": [],
   "source": [
    "loan_data.dropna(axis=0,how='all',inplace=True)"
   ]
  },
  {
   "cell_type": "code",
   "execution_count": 124,
   "id": "ad14b3ff",
   "metadata": {},
   "outputs": [
    {
     "data": {
      "text/plain": [
       "['emp_title',\n",
       " 'emp_length',\n",
       " 'mths_since_last_delinq',\n",
       " 'mths_since_last_record',\n",
       " 'revol_util',\n",
       " 'last_credit_pull_d',\n",
       " 'pub_rec_bankruptcies']"
      ]
     },
     "execution_count": 124,
     "metadata": {},
     "output_type": "execute_result"
    }
   ],
   "source": [
    "#lets see the columns having NAs\n",
    "[i for i in loan_data.columns if loan_data[i].isna().sum()> 0]"
   ]
  },
  {
   "cell_type": "code",
   "execution_count": 125,
   "id": "26b00396",
   "metadata": {},
   "outputs": [],
   "source": [
    "loan_data.emp_title.fillna('',inplace=True)\n",
    "\n",
    "# apply(lambda x: \"\" if np.isnan() else str(x)) "
   ]
  },
  {
   "cell_type": "code",
   "execution_count": 126,
   "id": "28c1d555",
   "metadata": {},
   "outputs": [
    {
     "data": {
      "text/plain": [
       "10+ years    8879\n",
       "< 1 year     4583\n",
       "2 years      4388\n",
       "3 years      4095\n",
       "4 years      3436\n",
       "5 years      3282\n",
       "1 year       3240\n",
       "6 years      2229\n",
       "7 years      1773\n",
       "8 years      1479\n",
       "9 years      1258\n",
       "Name: emp_length, dtype: int64"
      ]
     },
     "execution_count": 126,
     "metadata": {},
     "output_type": "execute_result"
    }
   ],
   "source": [
    "loan_data.emp_length.value_counts()"
   ]
  },
  {
   "cell_type": "code",
   "execution_count": 127,
   "id": "88a5f084",
   "metadata": {},
   "outputs": [
    {
     "data": {
      "text/plain": [
       "1075"
      ]
     },
     "execution_count": 127,
     "metadata": {},
     "output_type": "execute_result"
    }
   ],
   "source": [
    "loan_data.emp_length.isna().sum()"
   ]
  },
  {
   "cell_type": "code",
   "execution_count": 128,
   "id": "27cf62cb",
   "metadata": {},
   "outputs": [],
   "source": [
    "# since emp_length is a categorical variable there cannot be a mean or median so we shall ignore missing values"
   ]
  },
  {
   "cell_type": "code",
   "execution_count": 129,
   "id": "d1aa8cfc",
   "metadata": {},
   "outputs": [
    {
     "name": "stdout",
     "output_type": "stream",
     "text": [
      "<class 'pandas.core.frame.DataFrame'>\n",
      "Int64Index: 39717 entries, 0 to 39716\n",
      "Data columns (total 41 columns):\n",
      " #   Column                   Non-Null Count  Dtype  \n",
      "---  ------                   --------------  -----  \n",
      " 0   id                       39717 non-null  int64  \n",
      " 1   member_id                39717 non-null  int64  \n",
      " 2   loan_amnt                39717 non-null  int64  \n",
      " 3   funded_amnt              39717 non-null  int64  \n",
      " 4   funded_amnt_inv          39717 non-null  float64\n",
      " 5   term                     39717 non-null  object \n",
      " 6   int_rate                 39717 non-null  object \n",
      " 7   installment              39717 non-null  float64\n",
      " 8   grade                    39717 non-null  object \n",
      " 9   sub_grade                39717 non-null  object \n",
      " 10  emp_title                39717 non-null  object \n",
      " 11  emp_length               38642 non-null  object \n",
      " 12  home_ownership           39717 non-null  object \n",
      " 13  annual_inc               39717 non-null  float64\n",
      " 14  verification_status      39717 non-null  object \n",
      " 15  issue_d                  39717 non-null  object \n",
      " 16  loan_status              39717 non-null  object \n",
      " 17  purpose                  39717 non-null  object \n",
      " 18  zip_code                 39717 non-null  object \n",
      " 19  addr_state               39717 non-null  object \n",
      " 20  dti                      39717 non-null  float64\n",
      " 21  earliest_cr_line         39717 non-null  object \n",
      " 22  inq_last_6mths           39717 non-null  int64  \n",
      " 23  mths_since_last_delinq   14035 non-null  float64\n",
      " 24  mths_since_last_record   2786 non-null   float64\n",
      " 25  open_acc                 39717 non-null  int64  \n",
      " 26  pub_rec                  39717 non-null  int64  \n",
      " 27  revol_bal                39717 non-null  int64  \n",
      " 28  revol_util               39667 non-null  object \n",
      " 29  total_acc                39717 non-null  int64  \n",
      " 30  out_prncp                39717 non-null  float64\n",
      " 31  out_prncp_inv            39717 non-null  float64\n",
      " 32  total_pymnt              39717 non-null  float64\n",
      " 33  total_pymnt_inv          39717 non-null  float64\n",
      " 34  total_rec_prncp          39717 non-null  float64\n",
      " 35  total_rec_int            39717 non-null  float64\n",
      " 36  total_rec_late_fee       39717 non-null  float64\n",
      " 37  recoveries               39717 non-null  float64\n",
      " 38  collection_recovery_fee  39717 non-null  float64\n",
      " 39  last_credit_pull_d       39715 non-null  object \n",
      " 40  pub_rec_bankruptcies     39020 non-null  float64\n",
      "dtypes: float64(16), int64(9), object(16)\n",
      "memory usage: 12.7+ MB\n"
     ]
    }
   ],
   "source": [
    "loan_data.info()"
   ]
  },
  {
   "cell_type": "markdown",
   "id": "aac0bfb3",
   "metadata": {},
   "source": [
    "Now lets get into formatting the data"
   ]
  },
  {
   "cell_type": "code",
   "execution_count": 130,
   "id": "4bc0fcbf",
   "metadata": {},
   "outputs": [
    {
     "data": {
      "text/plain": [
       "'\\nConvert Objects into respective data types\\nterm : drop months keyword\\nint rate: .remove percent\\nissue_d datetime\\nzipcode remove xx\\nearliest_cr_line datetime\\nrevol_util remove percent\\ntotal_pymnt and totalpymnt inv avg ratio of diff\\nlast_credit_pull_d datetime\\n'"
      ]
     },
     "execution_count": 130,
     "metadata": {},
     "output_type": "execute_result"
    }
   ],
   "source": [
    "'''\n",
    "Convert Objects into respective data types\n",
    "term : drop months keyword\n",
    "int rate: .remove percent\n",
    "issue_d datetime\n",
    "zipcode remove xx\n",
    "earliest_cr_line datetime\n",
    "revol_util remove percent\n",
    "total_pymnt and totalpymnt inv avg ratio of diff\n",
    "last_credit_pull_d datetime\n",
    "'''"
   ]
  },
  {
   "cell_type": "code",
   "execution_count": 131,
   "id": "7609ba92",
   "metadata": {},
   "outputs": [
    {
     "data": {
      "text/plain": [
       " 36 months    29096\n",
       " 60 months    10621\n",
       "Name: term, dtype: int64"
      ]
     },
     "execution_count": 131,
     "metadata": {},
     "output_type": "execute_result"
    }
   ],
   "source": [
    "# since there are only two values this is categorical data type, we can keep it as it is.\n",
    "loan_data.term.value_counts()"
   ]
  },
  {
   "cell_type": "code",
   "execution_count": 132,
   "id": "44b875d9",
   "metadata": {},
   "outputs": [],
   "source": [
    "# Convert int rate to numeric values\n",
    "loan_data.int_rate = loan_data.int_rate.apply(lambda x: float(str(x).rstrip('%')))"
   ]
  },
  {
   "cell_type": "code",
   "execution_count": 133,
   "id": "aa86280e",
   "metadata": {},
   "outputs": [],
   "source": [
    "#Strip zipCode extras\n",
    "loan_data.zip_code = loan_data.zip_code.apply(lambda x: int(str(x).rstrip('xx')))"
   ]
  },
  {
   "cell_type": "code",
   "execution_count": 134,
   "id": "4acece2c",
   "metadata": {},
   "outputs": [
    {
     "data": {
      "text/plain": [
       "count    39717.000000\n",
       "mean       586.447426\n",
       "std       2174.798916\n",
       "min         -0.005000\n",
       "25%          0.000000\n",
       "50%          0.004961\n",
       "75%        172.999740\n",
       "max      45431.040890\n",
       "dtype: float64"
      ]
     },
     "execution_count": 134,
     "metadata": {},
     "output_type": "execute_result"
    }
   ],
   "source": [
    "(loan_data.total_pymnt - loan_data.total_pymnt_inv).describe()"
   ]
  },
  {
   "cell_type": "code",
   "execution_count": 135,
   "id": "7ee61110",
   "metadata": {},
   "outputs": [
    {
     "data": {
      "text/plain": [
       "0.9156004564668956"
      ]
     },
     "execution_count": 135,
     "metadata": {},
     "output_type": "execute_result"
    }
   ],
   "source": [
    "(loan_data.total_pymnt_inv/loan_data.total_pymnt).quantile(0.1)"
   ]
  },
  {
   "cell_type": "code",
   "execution_count": 136,
   "id": "a37e55ea",
   "metadata": {},
   "outputs": [],
   "source": [
    "#Convert the columns to corresponding dates\n",
    "loan_data.issue_d = pd.to_datetime(loan_data.issue_d,format='%b-%y')"
   ]
  },
  {
   "cell_type": "code",
   "execution_count": 137,
   "id": "626ccbb2",
   "metadata": {},
   "outputs": [
    {
     "data": {
      "text/plain": [
       "0       2011-12-01\n",
       "1       2011-12-01\n",
       "2       2011-12-01\n",
       "3       2011-12-01\n",
       "4       2011-12-01\n",
       "           ...    \n",
       "39712   2007-07-01\n",
       "39713   2007-07-01\n",
       "39714   2007-07-01\n",
       "39715   2007-07-01\n",
       "39716   2007-06-01\n",
       "Name: issue_d, Length: 39717, dtype: datetime64[ns]"
      ]
     },
     "execution_count": 137,
     "metadata": {},
     "output_type": "execute_result"
    }
   ],
   "source": [
    "loan_data.issue_d"
   ]
  },
  {
   "cell_type": "code",
   "execution_count": 138,
   "id": "2006afb9",
   "metadata": {},
   "outputs": [],
   "source": [
    "loan_data.earliest_cr_line = pd.to_datetime(loan_data.earliest_cr_line,format='%b-%y')"
   ]
  },
  {
   "cell_type": "code",
   "execution_count": 139,
   "id": "89495662",
   "metadata": {},
   "outputs": [
    {
     "data": {
      "text/plain": [
       "0       1985-01-01\n",
       "1       1999-04-01\n",
       "2       2001-11-01\n",
       "3       1996-02-01\n",
       "4       1996-01-01\n",
       "           ...    \n",
       "39712   1990-11-01\n",
       "39713   1986-12-01\n",
       "39714   1998-10-01\n",
       "39715   1988-11-01\n",
       "39716   2003-10-01\n",
       "Name: earliest_cr_line, Length: 39717, dtype: datetime64[ns]"
      ]
     },
     "execution_count": 139,
     "metadata": {},
     "output_type": "execute_result"
    }
   ],
   "source": [
    "loan_data.earliest_cr_line"
   ]
  },
  {
   "cell_type": "code",
   "execution_count": 140,
   "id": "ebd4a9f3",
   "metadata": {},
   "outputs": [],
   "source": [
    "loan_data.last_credit_pull_d = pd.to_datetime(loan_data.last_credit_pull_d,format='%b-%y')"
   ]
  },
  {
   "cell_type": "code",
   "execution_count": 141,
   "id": "e0a21458",
   "metadata": {},
   "outputs": [
    {
     "data": {
      "text/html": [
       "<div>\n",
       "<style scoped>\n",
       "    .dataframe tbody tr th:only-of-type {\n",
       "        vertical-align: middle;\n",
       "    }\n",
       "\n",
       "    .dataframe tbody tr th {\n",
       "        vertical-align: top;\n",
       "    }\n",
       "\n",
       "    .dataframe thead th {\n",
       "        text-align: right;\n",
       "    }\n",
       "</style>\n",
       "<table border=\"1\" class=\"dataframe\">\n",
       "  <thead>\n",
       "    <tr style=\"text-align: right;\">\n",
       "      <th></th>\n",
       "      <th>id</th>\n",
       "      <th>member_id</th>\n",
       "      <th>loan_amnt</th>\n",
       "      <th>funded_amnt</th>\n",
       "      <th>funded_amnt_inv</th>\n",
       "      <th>term</th>\n",
       "      <th>int_rate</th>\n",
       "      <th>installment</th>\n",
       "      <th>grade</th>\n",
       "      <th>sub_grade</th>\n",
       "      <th>...</th>\n",
       "      <th>out_prncp_inv</th>\n",
       "      <th>total_pymnt</th>\n",
       "      <th>total_pymnt_inv</th>\n",
       "      <th>total_rec_prncp</th>\n",
       "      <th>total_rec_int</th>\n",
       "      <th>total_rec_late_fee</th>\n",
       "      <th>recoveries</th>\n",
       "      <th>collection_recovery_fee</th>\n",
       "      <th>last_credit_pull_d</th>\n",
       "      <th>pub_rec_bankruptcies</th>\n",
       "    </tr>\n",
       "  </thead>\n",
       "  <tbody>\n",
       "    <tr>\n",
       "      <th>26025</th>\n",
       "      <td>575712</td>\n",
       "      <td>740467</td>\n",
       "      <td>5000</td>\n",
       "      <td>5000</td>\n",
       "      <td>5000.0</td>\n",
       "      <td>36 months</td>\n",
       "      <td>11.12</td>\n",
       "      <td>163.98</td>\n",
       "      <td>B</td>\n",
       "      <td>B3</td>\n",
       "      <td>...</td>\n",
       "      <td>0.0</td>\n",
       "      <td>3362.960000</td>\n",
       "      <td>3362.96</td>\n",
       "      <td>2553.55</td>\n",
       "      <td>702.45</td>\n",
       "      <td>0.0</td>\n",
       "      <td>106.96</td>\n",
       "      <td>1.34</td>\n",
       "      <td>NaT</td>\n",
       "      <td>0.0</td>\n",
       "    </tr>\n",
       "    <tr>\n",
       "      <th>39476</th>\n",
       "      <td>186499</td>\n",
       "      <td>186347</td>\n",
       "      <td>1000</td>\n",
       "      <td>1000</td>\n",
       "      <td>875.0</td>\n",
       "      <td>36 months</td>\n",
       "      <td>7.12</td>\n",
       "      <td>30.94</td>\n",
       "      <td>A</td>\n",
       "      <td>A1</td>\n",
       "      <td>...</td>\n",
       "      <td>0.0</td>\n",
       "      <td>1110.813028</td>\n",
       "      <td>971.96</td>\n",
       "      <td>1000.00</td>\n",
       "      <td>110.81</td>\n",
       "      <td>0.0</td>\n",
       "      <td>0.00</td>\n",
       "      <td>0.00</td>\n",
       "      <td>NaT</td>\n",
       "      <td>NaN</td>\n",
       "    </tr>\n",
       "  </tbody>\n",
       "</table>\n",
       "<p>2 rows × 41 columns</p>\n",
       "</div>"
      ],
      "text/plain": [
       "           id  member_id  loan_amnt  funded_amnt  funded_amnt_inv        term  \\\n",
       "26025  575712     740467       5000         5000           5000.0   36 months   \n",
       "39476  186499     186347       1000         1000            875.0   36 months   \n",
       "\n",
       "       int_rate  installment grade sub_grade  ... out_prncp_inv  total_pymnt  \\\n",
       "26025     11.12       163.98     B        B3  ...           0.0  3362.960000   \n",
       "39476      7.12        30.94     A        A1  ...           0.0  1110.813028   \n",
       "\n",
       "      total_pymnt_inv  total_rec_prncp total_rec_int total_rec_late_fee  \\\n",
       "26025         3362.96          2553.55        702.45                0.0   \n",
       "39476          971.96          1000.00        110.81                0.0   \n",
       "\n",
       "      recoveries collection_recovery_fee  last_credit_pull_d  \\\n",
       "26025     106.96                    1.34                 NaT   \n",
       "39476       0.00                    0.00                 NaT   \n",
       "\n",
       "      pub_rec_bankruptcies  \n",
       "26025                  0.0  \n",
       "39476                  NaN  \n",
       "\n",
       "[2 rows x 41 columns]"
      ]
     },
     "execution_count": 141,
     "metadata": {},
     "output_type": "execute_result"
    }
   ],
   "source": [
    "loan_data[(loan_data.last_credit_pull_d.isna())]"
   ]
  },
  {
   "cell_type": "code",
   "execution_count": 142,
   "id": "a77d82e9",
   "metadata": {},
   "outputs": [],
   "source": [
    "# save the filtered data into new csv so that it is easy to look at data\n",
    "loan_data.to_csv('FilteredLoanData.csv', index=False)"
   ]
  },
  {
   "cell_type": "code",
   "execution_count": 143,
   "id": "6c91a7ed",
   "metadata": {},
   "outputs": [
    {
     "data": {
      "text/plain": [
       "\"\\nLet's do Analysis on data\\n\""
      ]
     },
     "execution_count": 143,
     "metadata": {},
     "output_type": "execute_result"
    }
   ],
   "source": [
    "'''\n",
    "Let's do Analysis on data\n",
    "'''"
   ]
  },
  {
   "cell_type": "code",
   "execution_count": 144,
   "id": "6ea3ac52",
   "metadata": {},
   "outputs": [
    {
     "data": {
      "text/plain": [
       "''"
      ]
     },
     "execution_count": 144,
     "metadata": {},
     "output_type": "execute_result"
    }
   ],
   "source": [
    "''"
   ]
  },
  {
   "cell_type": "code",
   "execution_count": 145,
   "id": "d5236357",
   "metadata": {},
   "outputs": [
    {
     "data": {
      "text/plain": [
       "<AxesSubplot:xlabel='loan_amnt'>"
      ]
     },
     "execution_count": 145,
     "metadata": {},
     "output_type": "execute_result"
    },
    {
     "data": {
      "image/png": "[encoded data removed]",
      "text/plain": [
       "<Figure size 432x288 with 1 Axes>"
      ]
     },
     "metadata": {
      "needs_background": "light"
     },
     "output_type": "display_data"
    }
   ],
   "source": [
    "sns.boxplot(loan_data.loan_amnt)"
   ]
  },
  {
   "cell_type": "code",
   "execution_count": 146,
   "id": "ef65c9fd",
   "metadata": {},
   "outputs": [
    {
     "data": {
      "text/plain": [
       "<AxesSubplot:xlabel='loan_amnt', ylabel='Density'>"
      ]
     },
     "execution_count": 146,
     "metadata": {},
     "output_type": "execute_result"
    },
    {
     "data": {
      "image/png": "[encoded data removed]",
      "text/plain": [
       "<Figure size 432x288 with 1 Axes>"
      ]
     },
     "metadata": {
      "needs_background": "light"
     },
     "output_type": "display_data"
    }
   ],
   "source": [
    "sns.distplot(loan_data.loan_amnt)"
   ]
  },
  {
   "cell_type": "code",
   "execution_count": 147,
   "id": "6b74d2fe",
   "metadata": {},
   "outputs": [],
   "source": [
    "# there is a spike at all multiples of 5000s\n",
    "# majority of loans taken are with amount of 10000\n",
    "# and there is an increase in number of loans at 35000\n",
    "# this peaks are expected as most of the people apply loans with rounded figures."
   ]
  },
  {
   "cell_type": "code",
   "execution_count": 148,
   "id": "7e6f68d9",
   "metadata": {},
   "outputs": [
    {
     "data": {
      "text/plain": [
       " 36 months    29096\n",
       " 60 months    10621\n",
       "Name: term, dtype: int64"
      ]
     },
     "execution_count": 148,
     "metadata": {},
     "output_type": "execute_result"
    }
   ],
   "source": [
    "loan_data.term.value_counts()"
   ]
  },
  {
   "cell_type": "code",
   "execution_count": 149,
   "id": "0a4b48b9",
   "metadata": {},
   "outputs": [],
   "source": [
    "#There are only 2 terms that are 36 or 60 months"
   ]
  },
  {
   "cell_type": "code",
   "execution_count": 150,
   "id": "e2bac8f4",
   "metadata": {},
   "outputs": [
    {
     "data": {
      "text/plain": [
       "<AxesSubplot:xlabel='int_rate', ylabel='Density'>"
      ]
     },
     "execution_count": 150,
     "metadata": {},
     "output_type": "execute_result"
    },
    {
     "data": {
      "image/png": "[encoded data removed]",
      "text/plain": [
       "<Figure size 432x288 with 1 Axes>"
      ]
     },
     "metadata": {
      "needs_background": "light"
     },
     "output_type": "display_data"
    }
   ],
   "source": [
    "sns.distplot(loan_data.int_rate)"
   ]
  },
  {
   "cell_type": "code",
   "execution_count": 151,
   "id": "e4064d79",
   "metadata": {},
   "outputs": [
    {
     "data": {
      "text/plain": [
       "count    39717.000000\n",
       "mean        12.021177\n",
       "std          3.724825\n",
       "min          5.420000\n",
       "25%          9.250000\n",
       "50%         11.860000\n",
       "75%         14.590000\n",
       "max         24.590000\n",
       "Name: int_rate, dtype: float64"
      ]
     },
     "execution_count": 151,
     "metadata": {},
     "output_type": "execute_result"
    }
   ],
   "source": [
    "loan_data.int_rate.describe()"
   ]
  },
  {
   "cell_type": "code",
   "execution_count": 152,
   "id": "964fee94",
   "metadata": {},
   "outputs": [],
   "source": [
    "# majority of loans are around 9 - 14% and there are few below 9 and above 14"
   ]
  },
  {
   "cell_type": "code",
   "execution_count": 153,
   "id": "46308d10",
   "metadata": {},
   "outputs": [
    {
     "data": {
      "text/plain": [
       "B    12020\n",
       "A    10085\n",
       "C     8098\n",
       "D     5307\n",
       "E     2842\n",
       "F     1049\n",
       "G      316\n",
       "Name: grade, dtype: int64"
      ]
     },
     "execution_count": 153,
     "metadata": {},
     "output_type": "execute_result"
    }
   ],
   "source": [
    "loan_data.grade.value_counts()"
   ]
  },
  {
   "cell_type": "code",
   "execution_count": 154,
   "id": "8a53ba16",
   "metadata": {},
   "outputs": [],
   "source": [
    "# majority of loans have grade B & A"
   ]
  },
  {
   "cell_type": "code",
   "execution_count": 155,
   "id": "8bfbf197",
   "metadata": {
    "scrolled": true
   },
   "outputs": [
    {
     "data": {
      "text/plain": [
       "10+ years    8879\n",
       "< 1 year     4583\n",
       "2 years      4388\n",
       "3 years      4095\n",
       "4 years      3436\n",
       "5 years      3282\n",
       "1 year       3240\n",
       "6 years      2229\n",
       "7 years      1773\n",
       "8 years      1479\n",
       "9 years      1258\n",
       "Name: emp_length, dtype: int64"
      ]
     },
     "execution_count": 155,
     "metadata": {},
     "output_type": "execute_result"
    }
   ],
   "source": [
    "loan_data.emp_length.value_counts()"
   ]
  },
  {
   "cell_type": "code",
   "execution_count": 159,
   "id": "bffcc01c",
   "metadata": {},
   "outputs": [
    {
     "data": {
      "text/plain": [
       "RENT        18899\n",
       "MORTGAGE    17659\n",
       "OWN          3058\n",
       "OTHER          98\n",
       "NONE            3\n",
       "Name: home_ownership, dtype: int64"
      ]
     },
     "execution_count": 159,
     "metadata": {},
     "output_type": "execute_result"
    }
   ],
   "source": [
    "loan_data.home_ownership.value_counts()"
   ]
  },
  {
   "cell_type": "code",
   "execution_count": 160,
   "id": "3828ae10",
   "metadata": {},
   "outputs": [],
   "source": [
    "# very few people have own houses in entire distribution of data\n",
    "# people with own house are less likely to apply for a loan compared to rented/mortgaged houses"
   ]
  },
  {
   "cell_type": "code",
   "execution_count": 165,
   "id": "77bd826a",
   "metadata": {},
   "outputs": [
    {
     "data": {
      "text/plain": [
       "count    3.971700e+04\n",
       "mean     6.896893e+04\n",
       "std      6.379377e+04\n",
       "min      4.000000e+03\n",
       "25%      4.040400e+04\n",
       "50%      5.900000e+04\n",
       "75%      8.230000e+04\n",
       "max      6.000000e+06\n",
       "Name: annual_inc, dtype: float64"
      ]
     },
     "execution_count": 165,
     "metadata": {},
     "output_type": "execute_result"
    }
   ],
   "source": [
    "loan_data.annual_inc.describe()"
   ]
  },
  {
   "cell_type": "code",
   "execution_count": 191,
   "id": "c06178b4",
   "metadata": {},
   "outputs": [],
   "source": [
    "# there are some members whose annual income is very high, these needs to be checked as part of outlier filters"
   ]
  },
  {
   "cell_type": "code",
   "execution_count": 192,
   "id": "55411358",
   "metadata": {},
   "outputs": [
    {
     "data": {
      "text/plain": [
       "debt_consolidation    18641\n",
       "credit_card            5130\n",
       "other                  3993\n",
       "home_improvement       2976\n",
       "major_purchase         2187\n",
       "small_business         1828\n",
       "car                    1549\n",
       "wedding                 947\n",
       "medical                 693\n",
       "moving                  583\n",
       "vacation                381\n",
       "house                   381\n",
       "educational             325\n",
       "renewable_energy        103\n",
       "Name: purpose, dtype: int64"
      ]
     },
     "execution_count": 192,
     "metadata": {},
     "output_type": "execute_result"
    }
   ],
   "source": [
    "loan_data.purpose.value_counts()"
   ]
  },
  {
   "cell_type": "code",
   "execution_count": 193,
   "id": "c1ba4598",
   "metadata": {},
   "outputs": [],
   "source": [
    "# majority of loans are taken for debt_consolidation or credit card"
   ]
  },
  {
   "cell_type": "code",
   "execution_count": 194,
   "id": "39498cb0",
   "metadata": {},
   "outputs": [
    {
     "data": {
      "text/plain": [
       "100    597\n",
       "945    545\n",
       "112    516\n",
       "606    503\n",
       "70     473\n",
       "      ... \n",
       "381      1\n",
       "378      1\n",
       "739      1\n",
       "396      1\n",
       "469      1\n",
       "Name: zip_code, Length: 823, dtype: int64"
      ]
     },
     "execution_count": 194,
     "metadata": {},
     "output_type": "execute_result"
    }
   ],
   "source": [
    "loan_data.zip_code.value_counts()"
   ]
  },
  {
   "cell_type": "code",
   "execution_count": 196,
   "id": "5ecabdd4",
   "metadata": {},
   "outputs": [
    {
     "data": {
      "text/plain": [
       "CA    7099\n",
       "NY    3812\n",
       "FL    2866\n",
       "TX    2727\n",
       "NJ    1850\n",
       "IL    1525\n",
       "PA    1517\n",
       "VA    1407\n",
       "GA    1398\n",
       "MA    1340\n",
       "OH    1223\n",
       "MD    1049\n",
       "AZ     879\n",
       "WA     840\n",
       "CO     792\n",
       "NC     788\n",
       "CT     751\n",
       "MI     720\n",
       "MO     686\n",
       "MN     615\n",
       "NV     497\n",
       "SC     472\n",
       "WI     460\n",
       "AL     452\n",
       "OR     451\n",
       "LA     436\n",
       "KY     325\n",
       "OK     299\n",
       "KS     271\n",
       "UT     258\n",
       "AR     245\n",
       "DC     214\n",
       "RI     198\n",
       "NM     189\n",
       "WV     177\n",
       "HI     174\n",
       "NH     171\n",
       "DE     114\n",
       "MT      85\n",
       "WY      83\n",
       "AK      80\n",
       "SD      64\n",
       "VT      54\n",
       "MS      19\n",
       "TN      17\n",
       "IN       9\n",
       "ID       6\n",
       "IA       5\n",
       "NE       5\n",
       "ME       3\n",
       "Name: addr_state, dtype: int64"
      ]
     },
     "execution_count": 196,
     "metadata": {},
     "output_type": "execute_result"
    }
   ],
   "source": [
    "loan_data.addr_state.value_counts()"
   ]
  },
  {
   "cell_type": "code",
   "execution_count": 197,
   "id": "2f5df41f",
   "metadata": {},
   "outputs": [],
   "source": [
    "# Majority of the loans taken are from CA  "
   ]
  },
  {
   "cell_type": "code",
   "execution_count": 198,
   "id": "c8b63e67",
   "metadata": {},
   "outputs": [
    {
     "data": {
      "text/plain": [
       "count    39717.000000\n",
       "mean        13.315130\n",
       "std          6.678594\n",
       "min          0.000000\n",
       "25%          8.170000\n",
       "50%         13.400000\n",
       "75%         18.600000\n",
       "max         29.990000\n",
       "Name: dti, dtype: float64"
      ]
     },
     "execution_count": 198,
     "metadata": {},
     "output_type": "execute_result"
    }
   ],
   "source": [
    "loan_data.dti.describe()"
   ]
  },
  {
   "cell_type": "code",
   "execution_count": 204,
   "id": "a26f2a29",
   "metadata": {},
   "outputs": [],
   "source": [
    "# we don't see any value addition doing univariate for other variables, most of them needs corelation. \n",
    "# Hence let's start bi/multi variate analysis"
   ]
  },
  {
   "cell_type": "code",
   "execution_count": null,
   "id": "03472bef",
   "metadata": {},
   "outputs": [],
   "source": []
  }
 ],
 "metadata": {
  "interpreter": {
   "hash": "4de7b47bac0517dee333f30a4b353bc4b7aa69cc2eb8936e3a8c39aaf8132189"
  },
  "kernelspec": {
   "display_name": "Python 3 (ipykernel)",
   "language": "python",
   "name": "python3"
  },
  "language_info": {
   "codemirror_mode": {
    "name": "ipython",
    "version": 3
   },
   "file_extension": ".py",
   "mimetype": "text/x-python",
   "name": "python",
   "nbconvert_exporter": "python",
   "pygments_lexer": "ipython3",
   "version": "3.9.7"
  }
 },
 "nbformat": 4,
 "nbformat_minor": 5
}
