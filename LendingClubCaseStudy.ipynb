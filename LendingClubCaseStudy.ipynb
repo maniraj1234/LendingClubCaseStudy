{
 "cells": [
  {
   "cell_type": "code",
   "execution_count": 264,
   "id": "c06a0b29",
   "metadata": {},
   "outputs": [],
   "source": [
    "### Analysis for consumer finance company"
   ]
  },
  {
   "cell_type": "code",
   "execution_count": 265,
   "id": "5bcfdf2e",
   "metadata": {},
   "outputs": [],
   "source": [
    "import pandas as pd\n",
    "import numpy as np\n",
    "import matplotlib.pyplot as plt\n",
    "import seaborn as sns\n",
    "import warnings\n",
    "warnings.filterwarnings('ignore')"
   ]
  },
  {
   "cell_type": "code",
   "execution_count": 266,
   "id": "dc0beb01",
   "metadata": {},
   "outputs": [],
   "source": [
    "# read the data set we have."
   ]
  },
  {
   "cell_type": "code",
   "execution_count": 267,
   "id": "75ffd836",
   "metadata": {},
   "outputs": [],
   "source": [
    "loan_data = pd.read_csv('loan.csv')"
   ]
  },
  {
   "cell_type": "code",
   "execution_count": 268,
   "id": "b6896ad3",
   "metadata": {},
   "outputs": [],
   "source": [
    "# As part of initial step, understand the data set given"
   ]
  },
  {
   "cell_type": "code",
   "execution_count": 269,
   "id": "423a7698",
   "metadata": {},
   "outputs": [
    {
     "data": {
      "text/html": [
       "<div>\n",
       "<style scoped>\n",
       "    .dataframe tbody tr th:only-of-type {\n",
       "        vertical-align: middle;\n",
       "    }\n",
       "\n",
       "    .dataframe tbody tr th {\n",
       "        vertical-align: top;\n",
       "    }\n",
       "\n",
       "    .dataframe thead th {\n",
       "        text-align: right;\n",
       "    }\n",
       "</style>\n",
       "<table border=\"1\" class=\"dataframe\">\n",
       "  <thead>\n",
       "    <tr style=\"text-align: right;\">\n",
       "      <th></th>\n",
       "      <th>id</th>\n",
       "      <th>member_id</th>\n",
       "      <th>loan_amnt</th>\n",
       "      <th>funded_amnt</th>\n",
       "      <th>funded_amnt_inv</th>\n",
       "      <th>term</th>\n",
       "      <th>int_rate</th>\n",
       "      <th>installment</th>\n",
       "      <th>grade</th>\n",
       "      <th>sub_grade</th>\n",
       "      <th>...</th>\n",
       "      <th>num_tl_90g_dpd_24m</th>\n",
       "      <th>num_tl_op_past_12m</th>\n",
       "      <th>pct_tl_nvr_dlq</th>\n",
       "      <th>percent_bc_gt_75</th>\n",
       "      <th>pub_rec_bankruptcies</th>\n",
       "      <th>tax_liens</th>\n",
       "      <th>tot_hi_cred_lim</th>\n",
       "      <th>total_bal_ex_mort</th>\n",
       "      <th>total_bc_limit</th>\n",
       "      <th>total_il_high_credit_limit</th>\n",
       "    </tr>\n",
       "  </thead>\n",
       "  <tbody>\n",
       "    <tr>\n",
       "      <th>0</th>\n",
       "      <td>1077501</td>\n",
       "      <td>1296599</td>\n",
       "      <td>5000</td>\n",
       "      <td>5000</td>\n",
       "      <td>4975.0</td>\n",
       "      <td>36 months</td>\n",
       "      <td>10.65%</td>\n",
       "      <td>162.87</td>\n",
       "      <td>B</td>\n",
       "      <td>B2</td>\n",
       "      <td>...</td>\n",
       "      <td>NaN</td>\n",
       "      <td>NaN</td>\n",
       "      <td>NaN</td>\n",
       "      <td>NaN</td>\n",
       "      <td>0.0</td>\n",
       "      <td>0.0</td>\n",
       "      <td>NaN</td>\n",
       "      <td>NaN</td>\n",
       "      <td>NaN</td>\n",
       "      <td>NaN</td>\n",
       "    </tr>\n",
       "    <tr>\n",
       "      <th>1</th>\n",
       "      <td>1077430</td>\n",
       "      <td>1314167</td>\n",
       "      <td>2500</td>\n",
       "      <td>2500</td>\n",
       "      <td>2500.0</td>\n",
       "      <td>60 months</td>\n",
       "      <td>15.27%</td>\n",
       "      <td>59.83</td>\n",
       "      <td>C</td>\n",
       "      <td>C4</td>\n",
       "      <td>...</td>\n",
       "      <td>NaN</td>\n",
       "      <td>NaN</td>\n",
       "      <td>NaN</td>\n",
       "      <td>NaN</td>\n",
       "      <td>0.0</td>\n",
       "      <td>0.0</td>\n",
       "      <td>NaN</td>\n",
       "      <td>NaN</td>\n",
       "      <td>NaN</td>\n",
       "      <td>NaN</td>\n",
       "    </tr>\n",
       "    <tr>\n",
       "      <th>2</th>\n",
       "      <td>1077175</td>\n",
       "      <td>1313524</td>\n",
       "      <td>2400</td>\n",
       "      <td>2400</td>\n",
       "      <td>2400.0</td>\n",
       "      <td>36 months</td>\n",
       "      <td>15.96%</td>\n",
       "      <td>84.33</td>\n",
       "      <td>C</td>\n",
       "      <td>C5</td>\n",
       "      <td>...</td>\n",
       "      <td>NaN</td>\n",
       "      <td>NaN</td>\n",
       "      <td>NaN</td>\n",
       "      <td>NaN</td>\n",
       "      <td>0.0</td>\n",
       "      <td>0.0</td>\n",
       "      <td>NaN</td>\n",
       "      <td>NaN</td>\n",
       "      <td>NaN</td>\n",
       "      <td>NaN</td>\n",
       "    </tr>\n",
       "    <tr>\n",
       "      <th>3</th>\n",
       "      <td>1076863</td>\n",
       "      <td>1277178</td>\n",
       "      <td>10000</td>\n",
       "      <td>10000</td>\n",
       "      <td>10000.0</td>\n",
       "      <td>36 months</td>\n",
       "      <td>13.49%</td>\n",
       "      <td>339.31</td>\n",
       "      <td>C</td>\n",
       "      <td>C1</td>\n",
       "      <td>...</td>\n",
       "      <td>NaN</td>\n",
       "      <td>NaN</td>\n",
       "      <td>NaN</td>\n",
       "      <td>NaN</td>\n",
       "      <td>0.0</td>\n",
       "      <td>0.0</td>\n",
       "      <td>NaN</td>\n",
       "      <td>NaN</td>\n",
       "      <td>NaN</td>\n",
       "      <td>NaN</td>\n",
       "    </tr>\n",
       "    <tr>\n",
       "      <th>4</th>\n",
       "      <td>1075358</td>\n",
       "      <td>1311748</td>\n",
       "      <td>3000</td>\n",
       "      <td>3000</td>\n",
       "      <td>3000.0</td>\n",
       "      <td>60 months</td>\n",
       "      <td>12.69%</td>\n",
       "      <td>67.79</td>\n",
       "      <td>B</td>\n",
       "      <td>B5</td>\n",
       "      <td>...</td>\n",
       "      <td>NaN</td>\n",
       "      <td>NaN</td>\n",
       "      <td>NaN</td>\n",
       "      <td>NaN</td>\n",
       "      <td>0.0</td>\n",
       "      <td>0.0</td>\n",
       "      <td>NaN</td>\n",
       "      <td>NaN</td>\n",
       "      <td>NaN</td>\n",
       "      <td>NaN</td>\n",
       "    </tr>\n",
       "  </tbody>\n",
       "</table>\n",
       "<p>5 rows × 111 columns</p>\n",
       "</div>"
      ],
      "text/plain": [
       "        id  member_id  loan_amnt  funded_amnt  funded_amnt_inv        term  \\\n",
       "0  1077501    1296599       5000         5000           4975.0   36 months   \n",
       "1  1077430    1314167       2500         2500           2500.0   60 months   \n",
       "2  1077175    1313524       2400         2400           2400.0   36 months   \n",
       "3  1076863    1277178      10000        10000          10000.0   36 months   \n",
       "4  1075358    1311748       3000         3000           3000.0   60 months   \n",
       "\n",
       "  int_rate  installment grade sub_grade  ... num_tl_90g_dpd_24m  \\\n",
       "0   10.65%       162.87     B        B2  ...                NaN   \n",
       "1   15.27%        59.83     C        C4  ...                NaN   \n",
       "2   15.96%        84.33     C        C5  ...                NaN   \n",
       "3   13.49%       339.31     C        C1  ...                NaN   \n",
       "4   12.69%        67.79     B        B5  ...                NaN   \n",
       "\n",
       "  num_tl_op_past_12m pct_tl_nvr_dlq  percent_bc_gt_75 pub_rec_bankruptcies  \\\n",
       "0                NaN            NaN               NaN                  0.0   \n",
       "1                NaN            NaN               NaN                  0.0   \n",
       "2                NaN            NaN               NaN                  0.0   \n",
       "3                NaN            NaN               NaN                  0.0   \n",
       "4                NaN            NaN               NaN                  0.0   \n",
       "\n",
       "  tax_liens tot_hi_cred_lim total_bal_ex_mort total_bc_limit  \\\n",
       "0       0.0             NaN               NaN            NaN   \n",
       "1       0.0             NaN               NaN            NaN   \n",
       "2       0.0             NaN               NaN            NaN   \n",
       "3       0.0             NaN               NaN            NaN   \n",
       "4       0.0             NaN               NaN            NaN   \n",
       "\n",
       "  total_il_high_credit_limit  \n",
       "0                        NaN  \n",
       "1                        NaN  \n",
       "2                        NaN  \n",
       "3                        NaN  \n",
       "4                        NaN  \n",
       "\n",
       "[5 rows x 111 columns]"
      ]
     },
     "execution_count": 269,
     "metadata": {},
     "output_type": "execute_result"
    }
   ],
   "source": [
    "loan_data.head()"
   ]
  },
  {
   "cell_type": "code",
   "execution_count": 270,
   "id": "6cd29eb8",
   "metadata": {},
   "outputs": [
    {
     "data": {
      "text/plain": [
       "(39717, 111)"
      ]
     },
     "execution_count": 270,
     "metadata": {},
     "output_type": "execute_result"
    }
   ],
   "source": [
    "loan_data.shape"
   ]
  },
  {
   "cell_type": "code",
   "execution_count": 271,
   "id": "401bd965",
   "metadata": {},
   "outputs": [
    {
     "name": "stdout",
     "output_type": "stream",
     "text": [
      "<class 'pandas.core.frame.DataFrame'>\n",
      "RangeIndex: 39717 entries, 0 to 39716\n",
      "Columns: 111 entries, id to total_il_high_credit_limit\n",
      "dtypes: float64(74), int64(13), object(24)\n",
      "memory usage: 33.6+ MB\n"
     ]
    }
   ],
   "source": [
    "loan_data.info()"
   ]
  },
  {
   "cell_type": "code",
   "execution_count": 272,
   "id": "9b1bb8f9",
   "metadata": {},
   "outputs": [],
   "source": [
    "## from the above data from head, looks like tehre are lot of NAs \n",
    "## see if there are any columns that are completely empty "
   ]
  },
  {
   "cell_type": "code",
   "execution_count": 273,
   "id": "34eb3398",
   "metadata": {},
   "outputs": [
    {
     "data": {
      "text/plain": [
       "54"
      ]
     },
     "execution_count": 273,
     "metadata": {},
     "output_type": "execute_result"
    }
   ],
   "source": [
    "nan_cols = [i for i in loan_data.columns if loan_data[i].isnull().all()]\n",
    "len(nan_cols)"
   ]
  },
  {
   "cell_type": "code",
   "execution_count": 274,
   "id": "f061b205",
   "metadata": {},
   "outputs": [
    {
     "data": {
      "text/plain": [
       "id                                0\n",
       "member_id                         0\n",
       "loan_amnt                         0\n",
       "funded_amnt                       0\n",
       "funded_amnt_inv                   0\n",
       "                              ...  \n",
       "tax_liens                        39\n",
       "tot_hi_cred_lim               39717\n",
       "total_bal_ex_mort             39717\n",
       "total_bc_limit                39717\n",
       "total_il_high_credit_limit    39717\n",
       "Length: 111, dtype: int64"
      ]
     },
     "execution_count": 274,
     "metadata": {},
     "output_type": "execute_result"
    }
   ],
   "source": [
    "#confirm the above data by looking at isna for each column\n",
    "loan_data.isna().sum()"
   ]
  },
  {
   "cell_type": "code",
   "execution_count": 275,
   "id": "a085e0d1",
   "metadata": {},
   "outputs": [],
   "source": [
    "# There are some 54 columns that are completely empty.\n",
    "# We need to remove these columns\n",
    "#just to be on a safer side, look at few columns randomly in the csv\n"
   ]
  },
  {
   "cell_type": "code",
   "execution_count": 276,
   "id": "022042c0",
   "metadata": {},
   "outputs": [],
   "source": [
    "loan_data.dropna(axis=1, how='all', inplace=True)"
   ]
  },
  {
   "cell_type": "code",
   "execution_count": 277,
   "id": "53bedb5f",
   "metadata": {},
   "outputs": [
    {
     "data": {
      "text/plain": [
       "(39717, 57)"
      ]
     },
     "execution_count": 277,
     "metadata": {},
     "output_type": "execute_result"
    }
   ],
   "source": [
    "#confirm if these columns are removed.\n",
    "loan_data.shape"
   ]
  },
  {
   "cell_type": "code",
   "execution_count": 278,
   "id": "2c26456c",
   "metadata": {},
   "outputs": [],
   "source": [
    "# Still there are columns which have more than 90% missing data in them\n",
    "# lets see what all columns have more than 90% missing data                          "
   ]
  },
  {
   "cell_type": "code",
   "execution_count": 279,
   "id": "26d5ff67",
   "metadata": {},
   "outputs": [
    {
     "data": {
      "text/plain": [
       "['mths_since_last_record', 'next_pymnt_d']"
      ]
     },
     "execution_count": 279,
     "metadata": {},
     "output_type": "execute_result"
    }
   ],
   "source": [
    "P90 = 39717*0.90\n",
    "nan90_cols = [i for i in loan_data.columns if loan_data[i].isna().sum()>=P90]\n",
    "nan90_cols"
   ]
  },
  {
   "cell_type": "code",
   "execution_count": 280,
   "id": "3dc72f66",
   "metadata": {},
   "outputs": [],
   "source": [
    "# Further looks like there are some columns where there are more zeros, let's see if there are any columns where all values represent same data"
   ]
  },
  {
   "cell_type": "code",
   "execution_count": 281,
   "id": "7e0efaa9",
   "metadata": {},
   "outputs": [
    {
     "data": {
      "text/plain": [
       "['pymnt_plan',\n",
       " 'initial_list_status',\n",
       " 'collections_12_mths_ex_med',\n",
       " 'policy_code',\n",
       " 'application_type',\n",
       " 'acc_now_delinq',\n",
       " 'chargeoff_within_12_mths',\n",
       " 'delinq_amnt',\n",
       " 'tax_liens']"
      ]
     },
     "execution_count": 281,
     "metadata": {},
     "output_type": "execute_result"
    }
   ],
   "source": [
    "cols_nounique = [i for i in loan_data.columns if loan_data[i].nunique()==1]\n",
    "cols_nounique"
   ]
  },
  {
   "cell_type": "code",
   "execution_count": 282,
   "id": "598336a0",
   "metadata": {},
   "outputs": [],
   "source": [
    "# since all values are same, it doesn't provide any valuable insight.\n",
    "# drop these columns as well"
   ]
  },
  {
   "cell_type": "code",
   "execution_count": 283,
   "id": "ab31b7b8",
   "metadata": {},
   "outputs": [],
   "source": [
    "loan_data.drop(columns=cols_nounique, inplace=True, axis=1)"
   ]
  },
  {
   "cell_type": "code",
   "execution_count": 284,
   "id": "a9f4a265",
   "metadata": {},
   "outputs": [],
   "source": [
    "# verify the drop again"
   ]
  },
  {
   "cell_type": "code",
   "execution_count": 285,
   "id": "ed373922",
   "metadata": {},
   "outputs": [
    {
     "data": {
      "text/plain": [
       "(39717, 48)"
      ]
     },
     "execution_count": 285,
     "metadata": {},
     "output_type": "execute_result"
    }
   ],
   "source": [
    "loan_data.shape"
   ]
  },
  {
   "cell_type": "code",
   "execution_count": 286,
   "id": "05453724",
   "metadata": {},
   "outputs": [],
   "source": [
    "loan_data_cols = loan_data.columns.tolist()"
   ]
  },
  {
   "cell_type": "code",
   "execution_count": 287,
   "id": "7c8298c9",
   "metadata": {},
   "outputs": [],
   "source": [
    "# save the filtered data into new csv so that it is easy to look at data\n",
    "loan_data.to_csv('FilteredLoanData.csv', index=False)"
   ]
  },
  {
   "cell_type": "code",
   "execution_count": 288,
   "id": "684d0e7d",
   "metadata": {},
   "outputs": [],
   "source": [
    "#Let's see manually if any column is further redundant"
   ]
  },
  {
   "cell_type": "code",
   "execution_count": 289,
   "id": "56d09564",
   "metadata": {},
   "outputs": [],
   "source": [
    "#columns that are not necessary\n",
    "# 1. url - we only have loan id changing. hence this can be ignored\n",
    "# 2. desc - we cannot make any insight out of this hence drop\n",
    "# 3. title- we cannot make any insight out of this hence drop\n",
    "# 4. dlinq 2yrs - Derived column from mths since last delinq\n",
    "# 5. It is possible for a person whose loan got ended in the past, and the one who defaulted to have last payment date in past,\n",
    "# we cannot make any insights out of this, as we can't distinguish well with the following columns.\n",
    "# last_pymnt_d, last_pymnt_amnt, next_pymntd\n",
    "# 6. Since member id and id are both unique and distinct, we can drop one of them. Since we want to get insights about the user we can drop the loan id and keep member id\n",
    "# Hence Drop"
   ]
  },
  {
   "cell_type": "code",
   "execution_count": 290,
   "id": "03872db4",
   "metadata": {},
   "outputs": [
    {
     "data": {
      "text/plain": [
       "(39717, 48)"
      ]
     },
     "execution_count": 290,
     "metadata": {},
     "output_type": "execute_result"
    }
   ],
   "source": [
    "loan_data.shape"
   ]
  },
  {
   "cell_type": "code",
   "execution_count": 291,
   "id": "6fdefb47",
   "metadata": {},
   "outputs": [],
   "source": [
    "loan_data.drop(columns=['url','desc','title','delinq_2yrs','last_pymnt_d','last_pymnt_amnt','next_pymnt_d','id'], inplace=True)"
   ]
  },
  {
   "cell_type": "code",
   "execution_count": 292,
   "id": "ee7e7015",
   "metadata": {},
   "outputs": [
    {
     "data": {
      "text/plain": [
       "(39717, 40)"
      ]
     },
     "execution_count": 292,
     "metadata": {},
     "output_type": "execute_result"
    }
   ],
   "source": [
    "loan_data.shape"
   ]
  },
  {
   "cell_type": "code",
   "execution_count": 293,
   "id": "b2db9ff1",
   "metadata": {},
   "outputs": [
    {
     "data": {
      "text/plain": [
       "Index(['member_id', 'loan_amnt', 'funded_amnt', 'funded_amnt_inv', 'term',\n",
       "       'int_rate', 'installment', 'grade', 'sub_grade', 'emp_title',\n",
       "       'emp_length', 'home_ownership', 'annual_inc', 'verification_status',\n",
       "       'issue_d', 'loan_status', 'purpose', 'zip_code', 'addr_state', 'dti',\n",
       "       'earliest_cr_line', 'inq_last_6mths', 'mths_since_last_delinq',\n",
       "       'mths_since_last_record', 'open_acc', 'pub_rec', 'revol_bal',\n",
       "       'revol_util', 'total_acc', 'out_prncp', 'out_prncp_inv', 'total_pymnt',\n",
       "       'total_pymnt_inv', 'total_rec_prncp', 'total_rec_int',\n",
       "       'total_rec_late_fee', 'recoveries', 'collection_recovery_fee',\n",
       "       'last_credit_pull_d', 'pub_rec_bankruptcies'],\n",
       "      dtype='object')"
      ]
     },
     "execution_count": 293,
     "metadata": {},
     "output_type": "execute_result"
    }
   ],
   "source": [
    "loan_data.columns"
   ]
  },
  {
   "cell_type": "code",
   "execution_count": 294,
   "id": "9915e460",
   "metadata": {},
   "outputs": [],
   "source": [
    "# we are done with investigation on important columns, now we have to perform data cleaning on rows."
   ]
  },
  {
   "cell_type": "code",
   "execution_count": 295,
   "id": "26918c56",
   "metadata": {},
   "outputs": [],
   "source": [
    "loan_data.dropna(axis=0,how='all',inplace=True)"
   ]
  },
  {
   "cell_type": "code",
   "execution_count": 296,
   "id": "ad14b3ff",
   "metadata": {},
   "outputs": [
    {
     "data": {
      "text/plain": [
       "['emp_title',\n",
       " 'emp_length',\n",
       " 'mths_since_last_delinq',\n",
       " 'mths_since_last_record',\n",
       " 'revol_util',\n",
       " 'last_credit_pull_d',\n",
       " 'pub_rec_bankruptcies']"
      ]
     },
     "execution_count": 296,
     "metadata": {},
     "output_type": "execute_result"
    }
   ],
   "source": [
    "#lets see the columns having NAs\n",
    "[i for i in loan_data.columns if loan_data[i].isna().sum()> 0]"
   ]
  },
  {
   "cell_type": "code",
   "execution_count": 297,
   "id": "26b00396",
   "metadata": {},
   "outputs": [],
   "source": [
    "loan_data.emp_title.fillna('',inplace=True)\n",
    "\n",
    "# apply(lambda x: \"\" if np.isnan() else str(x)) "
   ]
  },
  {
   "cell_type": "code",
   "execution_count": 298,
   "id": "28c1d555",
   "metadata": {},
   "outputs": [
    {
     "data": {
      "text/plain": [
       "10+ years    8879\n",
       "< 1 year     4583\n",
       "2 years      4388\n",
       "3 years      4095\n",
       "4 years      3436\n",
       "5 years      3282\n",
       "1 year       3240\n",
       "6 years      2229\n",
       "7 years      1773\n",
       "8 years      1479\n",
       "9 years      1258\n",
       "Name: emp_length, dtype: int64"
      ]
     },
     "execution_count": 298,
     "metadata": {},
     "output_type": "execute_result"
    }
   ],
   "source": [
    "loan_data.emp_length.value_counts()"
   ]
  },
  {
   "cell_type": "code",
   "execution_count": 299,
   "id": "88a5f084",
   "metadata": {},
   "outputs": [
    {
     "data": {
      "text/plain": [
       "1075"
      ]
     },
     "execution_count": 299,
     "metadata": {},
     "output_type": "execute_result"
    }
   ],
   "source": [
    "loan_data.emp_length.isna().sum()"
   ]
  },
  {
   "cell_type": "code",
   "execution_count": 300,
   "id": "27cf62cb",
   "metadata": {},
   "outputs": [],
   "source": [
    "# since emp_length is a categorical variable there cannot be a mean or median so we shall ignore missing values"
   ]
  },
  {
   "cell_type": "code",
   "execution_count": 301,
   "id": "d1aa8cfc",
   "metadata": {},
   "outputs": [
    {
     "name": "stdout",
     "output_type": "stream",
     "text": [
      "<class 'pandas.core.frame.DataFrame'>\n",
      "Int64Index: 39717 entries, 0 to 39716\n",
      "Data columns (total 40 columns):\n",
      " #   Column                   Non-Null Count  Dtype  \n",
      "---  ------                   --------------  -----  \n",
      " 0   member_id                39717 non-null  int64  \n",
      " 1   loan_amnt                39717 non-null  int64  \n",
      " 2   funded_amnt              39717 non-null  int64  \n",
      " 3   funded_amnt_inv          39717 non-null  float64\n",
      " 4   term                     39717 non-null  object \n",
      " 5   int_rate                 39717 non-null  object \n",
      " 6   installment              39717 non-null  float64\n",
      " 7   grade                    39717 non-null  object \n",
      " 8   sub_grade                39717 non-null  object \n",
      " 9   emp_title                39717 non-null  object \n",
      " 10  emp_length               38642 non-null  object \n",
      " 11  home_ownership           39717 non-null  object \n",
      " 12  annual_inc               39717 non-null  float64\n",
      " 13  verification_status      39717 non-null  object \n",
      " 14  issue_d                  39717 non-null  object \n",
      " 15  loan_status              39717 non-null  object \n",
      " 16  purpose                  39717 non-null  object \n",
      " 17  zip_code                 39717 non-null  object \n",
      " 18  addr_state               39717 non-null  object \n",
      " 19  dti                      39717 non-null  float64\n",
      " 20  earliest_cr_line         39717 non-null  object \n",
      " 21  inq_last_6mths           39717 non-null  int64  \n",
      " 22  mths_since_last_delinq   14035 non-null  float64\n",
      " 23  mths_since_last_record   2786 non-null   float64\n",
      " 24  open_acc                 39717 non-null  int64  \n",
      " 25  pub_rec                  39717 non-null  int64  \n",
      " 26  revol_bal                39717 non-null  int64  \n",
      " 27  revol_util               39667 non-null  object \n",
      " 28  total_acc                39717 non-null  int64  \n",
      " 29  out_prncp                39717 non-null  float64\n",
      " 30  out_prncp_inv            39717 non-null  float64\n",
      " 31  total_pymnt              39717 non-null  float64\n",
      " 32  total_pymnt_inv          39717 non-null  float64\n",
      " 33  total_rec_prncp          39717 non-null  float64\n",
      " 34  total_rec_int            39717 non-null  float64\n",
      " 35  total_rec_late_fee       39717 non-null  float64\n",
      " 36  recoveries               39717 non-null  float64\n",
      " 37  collection_recovery_fee  39717 non-null  float64\n",
      " 38  last_credit_pull_d       39715 non-null  object \n",
      " 39  pub_rec_bankruptcies     39020 non-null  float64\n",
      "dtypes: float64(16), int64(8), object(16)\n",
      "memory usage: 12.4+ MB\n"
     ]
    }
   ],
   "source": [
    "loan_data.info()"
   ]
  },
  {
   "cell_type": "markdown",
   "id": "aac0bfb3",
   "metadata": {},
   "source": [
    "Now lets get into formatting the data"
   ]
  },
  {
   "cell_type": "code",
   "execution_count": 302,
   "id": "4bc0fcbf",
   "metadata": {},
   "outputs": [
    {
     "data": {
      "text/plain": [
       "'\\nConvert Objects into respective data types\\nterm : drop months keyword\\nint rate: .remove percent\\nissue_d datetime\\nzipcode remove xx\\nearliest_cr_line datetime\\nrevol_util remove percent\\ntotal_pymnt and totalpymnt inv avg ratio of diff\\nlast_credit_pull_d datetime\\n'"
      ]
     },
     "execution_count": 302,
     "metadata": {},
     "output_type": "execute_result"
    }
   ],
   "source": [
    "'''\n",
    "Convert Objects into respective data types\n",
    "term : drop months keyword\n",
    "int rate: .remove percent\n",
    "issue_d datetime\n",
    "zipcode remove xx\n",
    "earliest_cr_line datetime\n",
    "revol_util remove percent\n",
    "total_pymnt and totalpymnt inv avg ratio of diff\n",
    "last_credit_pull_d datetime\n",
    "'''"
   ]
  },
  {
   "cell_type": "code",
   "execution_count": 303,
   "id": "7609ba92",
   "metadata": {},
   "outputs": [
    {
     "data": {
      "text/plain": [
       " 36 months    29096\n",
       " 60 months    10621\n",
       "Name: term, dtype: int64"
      ]
     },
     "execution_count": 303,
     "metadata": {},
     "output_type": "execute_result"
    }
   ],
   "source": [
    "# since there are only two values this is categorical data type, we can keep it as it is.\n",
    "loan_data.term.value_counts()"
   ]
  },
  {
   "cell_type": "code",
   "execution_count": 304,
   "id": "44b875d9",
   "metadata": {},
   "outputs": [],
   "source": [
    "# Convert int rate to numeric values\n",
    "loan_data.int_rate = loan_data.int_rate.apply(lambda x: float(str(x).rstrip('%')))"
   ]
  },
  {
   "cell_type": "code",
   "execution_count": 392,
   "id": "dd4c2ded",
   "metadata": {},
   "outputs": [],
   "source": [
    "loan_data.revol_util = loan_data.revol_util.apply(lambda x: float(str(x).rstrip('%')))"
   ]
  },
  {
   "cell_type": "code",
   "execution_count": 305,
   "id": "aa86280e",
   "metadata": {},
   "outputs": [],
   "source": [
    "#Strip zipCode extras\n",
    "loan_data.zip_code = loan_data.zip_code.apply(lambda x: int(str(x).rstrip('xx')))"
   ]
  },
  {
   "cell_type": "code",
   "execution_count": 306,
   "id": "4acece2c",
   "metadata": {},
   "outputs": [
    {
     "data": {
      "text/plain": [
       "count    39717.000000\n",
       "mean       586.447426\n",
       "std       2174.798916\n",
       "min         -0.005000\n",
       "25%          0.000000\n",
       "50%          0.004961\n",
       "75%        172.999740\n",
       "max      45431.040890\n",
       "dtype: float64"
      ]
     },
     "execution_count": 306,
     "metadata": {},
     "output_type": "execute_result"
    }
   ],
   "source": [
    "(loan_data.total_pymnt - loan_data.total_pymnt_inv).describe()"
   ]
  },
  {
   "cell_type": "code",
   "execution_count": 307,
   "id": "7ee61110",
   "metadata": {},
   "outputs": [
    {
     "data": {
      "text/plain": [
       "0.9156004564668956"
      ]
     },
     "execution_count": 307,
     "metadata": {},
     "output_type": "execute_result"
    }
   ],
   "source": [
    "(loan_data.total_pymnt_inv/loan_data.total_pymnt).quantile(0.1)"
   ]
  },
  {
   "cell_type": "code",
   "execution_count": 308,
   "id": "a37e55ea",
   "metadata": {},
   "outputs": [],
   "source": [
    "#Convert the columns to corresponding dates\n",
    "loan_data.issue_d = pd.to_datetime(loan_data.issue_d,format='%b-%y')"
   ]
  },
  {
   "cell_type": "code",
   "execution_count": 309,
   "id": "626ccbb2",
   "metadata": {},
   "outputs": [
    {
     "data": {
      "text/plain": [
       "0       2011-12-01\n",
       "1       2011-12-01\n",
       "2       2011-12-01\n",
       "3       2011-12-01\n",
       "4       2011-12-01\n",
       "           ...    \n",
       "39712   2007-07-01\n",
       "39713   2007-07-01\n",
       "39714   2007-07-01\n",
       "39715   2007-07-01\n",
       "39716   2007-06-01\n",
       "Name: issue_d, Length: 39717, dtype: datetime64[ns]"
      ]
     },
     "execution_count": 309,
     "metadata": {},
     "output_type": "execute_result"
    }
   ],
   "source": [
    "loan_data.issue_d"
   ]
  },
  {
   "cell_type": "code",
   "execution_count": 310,
   "id": "2006afb9",
   "metadata": {},
   "outputs": [],
   "source": [
    "loan_data.earliest_cr_line = pd.to_datetime(loan_data.earliest_cr_line,format='%b-%y')"
   ]
  },
  {
   "cell_type": "code",
   "execution_count": 311,
   "id": "89495662",
   "metadata": {},
   "outputs": [
    {
     "data": {
      "text/plain": [
       "0       1985-01-01\n",
       "1       1999-04-01\n",
       "2       2001-11-01\n",
       "3       1996-02-01\n",
       "4       1996-01-01\n",
       "           ...    \n",
       "39712   1990-11-01\n",
       "39713   1986-12-01\n",
       "39714   1998-10-01\n",
       "39715   1988-11-01\n",
       "39716   2003-10-01\n",
       "Name: earliest_cr_line, Length: 39717, dtype: datetime64[ns]"
      ]
     },
     "execution_count": 311,
     "metadata": {},
     "output_type": "execute_result"
    }
   ],
   "source": [
    "loan_data.earliest_cr_line"
   ]
  },
  {
   "cell_type": "code",
   "execution_count": 312,
   "id": "ebd4a9f3",
   "metadata": {},
   "outputs": [],
   "source": [
    "loan_data.last_credit_pull_d = pd.to_datetime(loan_data.last_credit_pull_d,format='%b-%y')"
   ]
  },
  {
   "cell_type": "code",
   "execution_count": 313,
   "id": "e0a21458",
   "metadata": {},
   "outputs": [
    {
     "data": {
      "text/html": [
       "<div>\n",
       "<style scoped>\n",
       "    .dataframe tbody tr th:only-of-type {\n",
       "        vertical-align: middle;\n",
       "    }\n",
       "\n",
       "    .dataframe tbody tr th {\n",
       "        vertical-align: top;\n",
       "    }\n",
       "\n",
       "    .dataframe thead th {\n",
       "        text-align: right;\n",
       "    }\n",
       "</style>\n",
       "<table border=\"1\" class=\"dataframe\">\n",
       "  <thead>\n",
       "    <tr style=\"text-align: right;\">\n",
       "      <th></th>\n",
       "      <th>member_id</th>\n",
       "      <th>loan_amnt</th>\n",
       "      <th>funded_amnt</th>\n",
       "      <th>funded_amnt_inv</th>\n",
       "      <th>term</th>\n",
       "      <th>int_rate</th>\n",
       "      <th>installment</th>\n",
       "      <th>grade</th>\n",
       "      <th>sub_grade</th>\n",
       "      <th>emp_title</th>\n",
       "      <th>...</th>\n",
       "      <th>out_prncp_inv</th>\n",
       "      <th>total_pymnt</th>\n",
       "      <th>total_pymnt_inv</th>\n",
       "      <th>total_rec_prncp</th>\n",
       "      <th>total_rec_int</th>\n",
       "      <th>total_rec_late_fee</th>\n",
       "      <th>recoveries</th>\n",
       "      <th>collection_recovery_fee</th>\n",
       "      <th>last_credit_pull_d</th>\n",
       "      <th>pub_rec_bankruptcies</th>\n",
       "    </tr>\n",
       "  </thead>\n",
       "  <tbody>\n",
       "    <tr>\n",
       "      <th>26025</th>\n",
       "      <td>740467</td>\n",
       "      <td>5000</td>\n",
       "      <td>5000</td>\n",
       "      <td>5000.0</td>\n",
       "      <td>36 months</td>\n",
       "      <td>11.12</td>\n",
       "      <td>163.98</td>\n",
       "      <td>B</td>\n",
       "      <td>B3</td>\n",
       "      <td></td>\n",
       "      <td>...</td>\n",
       "      <td>0.0</td>\n",
       "      <td>3362.960000</td>\n",
       "      <td>3362.96</td>\n",
       "      <td>2553.55</td>\n",
       "      <td>702.45</td>\n",
       "      <td>0.0</td>\n",
       "      <td>106.96</td>\n",
       "      <td>1.34</td>\n",
       "      <td>NaT</td>\n",
       "      <td>0.0</td>\n",
       "    </tr>\n",
       "    <tr>\n",
       "      <th>39476</th>\n",
       "      <td>186347</td>\n",
       "      <td>1000</td>\n",
       "      <td>1000</td>\n",
       "      <td>875.0</td>\n",
       "      <td>36 months</td>\n",
       "      <td>7.12</td>\n",
       "      <td>30.94</td>\n",
       "      <td>A</td>\n",
       "      <td>A1</td>\n",
       "      <td></td>\n",
       "      <td>...</td>\n",
       "      <td>0.0</td>\n",
       "      <td>1110.813028</td>\n",
       "      <td>971.96</td>\n",
       "      <td>1000.00</td>\n",
       "      <td>110.81</td>\n",
       "      <td>0.0</td>\n",
       "      <td>0.00</td>\n",
       "      <td>0.00</td>\n",
       "      <td>NaT</td>\n",
       "      <td>NaN</td>\n",
       "    </tr>\n",
       "  </tbody>\n",
       "</table>\n",
       "<p>2 rows × 40 columns</p>\n",
       "</div>"
      ],
      "text/plain": [
       "       member_id  loan_amnt  funded_amnt  funded_amnt_inv        term  \\\n",
       "26025     740467       5000         5000           5000.0   36 months   \n",
       "39476     186347       1000         1000            875.0   36 months   \n",
       "\n",
       "       int_rate  installment grade sub_grade emp_title  ... out_prncp_inv  \\\n",
       "26025     11.12       163.98     B        B3            ...           0.0   \n",
       "39476      7.12        30.94     A        A1            ...           0.0   \n",
       "\n",
       "       total_pymnt  total_pymnt_inv total_rec_prncp total_rec_int  \\\n",
       "26025  3362.960000          3362.96         2553.55        702.45   \n",
       "39476  1110.813028           971.96         1000.00        110.81   \n",
       "\n",
       "      total_rec_late_fee recoveries  collection_recovery_fee  \\\n",
       "26025                0.0     106.96                     1.34   \n",
       "39476                0.0       0.00                     0.00   \n",
       "\n",
       "      last_credit_pull_d  pub_rec_bankruptcies  \n",
       "26025                NaT                   0.0  \n",
       "39476                NaT                   NaN  \n",
       "\n",
       "[2 rows x 40 columns]"
      ]
     },
     "execution_count": 313,
     "metadata": {},
     "output_type": "execute_result"
    }
   ],
   "source": [
    "loan_data[(loan_data.last_credit_pull_d.isna())]"
   ]
  },
  {
   "cell_type": "code",
   "execution_count": 314,
   "id": "a77d82e9",
   "metadata": {},
   "outputs": [],
   "source": [
    "# save the filtered data into new csv so that it is easy to look at data\n",
    "loan_data.to_csv('FilteredLoanData.csv', index=False)"
   ]
  },
  {
   "cell_type": "code",
   "execution_count": 315,
   "id": "d5a827c1",
   "metadata": {},
   "outputs": [
    {
     "data": {
      "text/plain": [
       "\"\\nLet's do Analysis on data\\n\""
      ]
     },
     "execution_count": 315,
     "metadata": {},
     "output_type": "execute_result"
    }
   ],
   "source": [
    "'''\n",
    "Let's do Analysis on data\n",
    "'''"
   ]
  },
  {
   "cell_type": "code",
   "execution_count": 394,
   "id": "d5707f17",
   "metadata": {},
   "outputs": [
    {
     "data": {
      "text/plain": [
       "<AxesSubplot:xlabel='annual_inc'>"
      ]
     },
     "execution_count": 394,
     "metadata": {},
     "output_type": "execute_result"
    },
    {
     "data": {
      "image/png": "[encoded data removed]",
      "text/plain": [
       "<Figure size 432x288 with 1 Axes>"
      ]
     },
     "metadata": {
      "needs_background": "light"
     },
     "output_type": "display_data"
    }
   ],
   "source": [
    "sns.boxplot(loan_data.annual_inc)"
   ]
  },
  {
   "cell_type": "code",
   "execution_count": 396,
   "id": "28563aac",
   "metadata": {},
   "outputs": [],
   "source": [
    "\n",
    "#there are a lot of ooutliers which need to be treated. let us find the quantiles for this data"
   ]
  },
  {
   "cell_type": "code",
   "execution_count": 402,
   "id": "6747d71f",
   "metadata": {},
   "outputs": [
    {
     "data": {
      "text/plain": [
       "0.00       4000.00\n",
       "0.01      14400.00\n",
       "0.05      24000.00\n",
       "0.25      40404.00\n",
       "0.50      59000.00\n",
       "0.75      82300.00\n",
       "0.90     116000.00\n",
       "0.95     142000.00\n",
       "0.99     234999.36\n",
       "1.00    6000000.00\n",
       "Name: annual_inc, dtype: float64"
      ]
     },
     "execution_count": 402,
     "metadata": {},
     "output_type": "execute_result"
    }
   ],
   "source": [
    "loan_data.annual_inc.quantile([0,0.01,0.05,0.25,0.50,0.75,0.90,0.95,0.99,1])"
   ]
  },
  {
   "cell_type": "code",
   "execution_count": 404,
   "id": "98052078",
   "metadata": {},
   "outputs": [],
   "source": [
    "loan_data= loan_data[loan_data.annual_inc <= loan_data.annual_inc.quantile(0.99)]"
   ]
  },
  {
   "cell_type": "code",
   "execution_count": 405,
   "id": "afa8386f",
   "metadata": {},
   "outputs": [
    {
     "data": {
      "text/plain": [
       "<AxesSubplot:xlabel='annual_inc'>"
      ]
     },
     "execution_count": 405,
     "metadata": {},
     "output_type": "execute_result"
    },
    {
     "data": {
      "image/png": "[encoded data removed]",
      "text/plain": [
       "<Figure size 432x288 with 1 Axes>"
      ]
     },
     "metadata": {
      "needs_background": "light"
     },
     "output_type": "display_data"
    }
   ],
   "source": [
    "sns.boxplot(loan_data.annual_inc)"
   ]
  },
  {
   "cell_type": "code",
   "execution_count": 317,
   "id": "8054a51c",
   "metadata": {},
   "outputs": [
    {
     "data": {
      "text/plain": [
       "<AxesSubplot:xlabel='loan_amnt'>"
      ]
     },
     "execution_count": 317,
     "metadata": {},
     "output_type": "execute_result"
    },
    {
     "data": {
      "image/png": "[encoded data removed]",
      "text/plain": [
       "<Figure size 432x288 with 1 Axes>"
      ]
     },
     "metadata": {
      "needs_background": "light"
     },
     "output_type": "display_data"
    }
   ],
   "source": [
    "sns.boxplot(loan_data.loan_amnt)"
   ]
  },
  {
   "cell_type": "code",
   "execution_count": 318,
   "id": "ea0a2152",
   "metadata": {},
   "outputs": [
    {
     "data": {
      "text/plain": [
       "<AxesSubplot:xlabel='loan_amnt', ylabel='Density'>"
      ]
     },
     "execution_count": 318,
     "metadata": {},
     "output_type": "execute_result"
    },
    {
     "data": {
      "image/png": "[encoded data removed]",
      "text/plain": [
       "<Figure size 432x288 with 1 Axes>"
      ]
     },
     "metadata": {
      "needs_background": "light"
     },
     "output_type": "display_data"
    }
   ],
   "source": [
    "sns.distplot(loan_data.loan_amnt)"
   ]
  },
  {
   "cell_type": "code",
   "execution_count": 319,
   "id": "d9443154",
   "metadata": {},
   "outputs": [],
   "source": [
    "# there is a spike at all multiples of 5000s\n",
    "# majority of loans taken are with amount of 10000\n",
    "# and there is an increase in number of loans at 35000\n",
    "# this peaks are expected as most of the people apply loans with rounded figures."
   ]
  },
  {
   "cell_type": "code",
   "execution_count": 320,
   "id": "5e9b87bb",
   "metadata": {},
   "outputs": [
    {
     "data": {
      "text/plain": [
       " 36 months    29096\n",
       " 60 months    10621\n",
       "Name: term, dtype: int64"
      ]
     },
     "execution_count": 320,
     "metadata": {},
     "output_type": "execute_result"
    }
   ],
   "source": [
    "loan_data.term.value_counts()"
   ]
  },
  {
   "cell_type": "code",
   "execution_count": 321,
   "id": "49fc8118",
   "metadata": {},
   "outputs": [],
   "source": [
    "#There are only 2 terms that are 36 or 60 months"
   ]
  },
  {
   "cell_type": "code",
   "execution_count": 322,
   "id": "c84ab8bf",
   "metadata": {},
   "outputs": [
    {
     "data": {
      "text/plain": [
       "<AxesSubplot:xlabel='int_rate', ylabel='Density'>"
      ]
     },
     "execution_count": 322,
     "metadata": {},
     "output_type": "execute_result"
    },
    {
     "data": {
      "image/png": "[encoded data removed]",
      "text/plain": [
       "<Figure size 432x288 with 1 Axes>"
      ]
     },
     "metadata": {
      "needs_background": "light"
     },
     "output_type": "display_data"
    }
   ],
   "source": [
    "sns.distplot(loan_data.int_rate)"
   ]
  },
  {
   "cell_type": "code",
   "execution_count": 323,
   "id": "11006d00",
   "metadata": {},
   "outputs": [
    {
     "data": {
      "text/plain": [
       "count    39717.000000\n",
       "mean        12.021177\n",
       "std          3.724825\n",
       "min          5.420000\n",
       "25%          9.250000\n",
       "50%         11.860000\n",
       "75%         14.590000\n",
       "max         24.590000\n",
       "Name: int_rate, dtype: float64"
      ]
     },
     "execution_count": 323,
     "metadata": {},
     "output_type": "execute_result"
    }
   ],
   "source": [
    "loan_data.int_rate.describe()"
   ]
  },
  {
   "cell_type": "code",
   "execution_count": 324,
   "id": "e7d82495",
   "metadata": {},
   "outputs": [],
   "source": [
    "# majority of loans are around 9 - 14% and there are few below 9 and above 14"
   ]
  },
  {
   "cell_type": "code",
   "execution_count": 325,
   "id": "7ef3610f",
   "metadata": {},
   "outputs": [
    {
     "data": {
      "text/plain": [
       "B    12020\n",
       "A    10085\n",
       "C     8098\n",
       "D     5307\n",
       "E     2842\n",
       "F     1049\n",
       "G      316\n",
       "Name: grade, dtype: int64"
      ]
     },
     "execution_count": 325,
     "metadata": {},
     "output_type": "execute_result"
    }
   ],
   "source": [
    "loan_data.grade.value_counts()"
   ]
  },
  {
   "cell_type": "code",
   "execution_count": 326,
   "id": "fc7a3c34",
   "metadata": {},
   "outputs": [],
   "source": [
    "# majority of loans have grade B & A"
   ]
  },
  {
   "cell_type": "code",
   "execution_count": 327,
   "id": "8ed2b4a0",
   "metadata": {
    "scrolled": true
   },
   "outputs": [
    {
     "data": {
      "text/plain": [
       "10+ years    8879\n",
       "< 1 year     4583\n",
       "2 years      4388\n",
       "3 years      4095\n",
       "4 years      3436\n",
       "5 years      3282\n",
       "1 year       3240\n",
       "6 years      2229\n",
       "7 years      1773\n",
       "8 years      1479\n",
       "9 years      1258\n",
       "Name: emp_length, dtype: int64"
      ]
     },
     "execution_count": 327,
     "metadata": {},
     "output_type": "execute_result"
    }
   ],
   "source": [
    "loan_data.emp_length.value_counts()"
   ]
  },
  {
   "cell_type": "code",
   "execution_count": 328,
   "id": "913f8ea3",
   "metadata": {},
   "outputs": [
    {
     "data": {
      "text/plain": [
       "RENT        18899\n",
       "MORTGAGE    17659\n",
       "OWN          3058\n",
       "OTHER          98\n",
       "NONE            3\n",
       "Name: home_ownership, dtype: int64"
      ]
     },
     "execution_count": 328,
     "metadata": {},
     "output_type": "execute_result"
    }
   ],
   "source": [
    "loan_data.home_ownership.value_counts()"
   ]
  },
  {
   "cell_type": "code",
   "execution_count": 414,
   "id": "150ba11c",
   "metadata": {},
   "outputs": [],
   "source": [
    "#Since there are only 3 NONE we can't make much insight of it, so let us remove it as outlier\n",
    "loan_data = loan_data[loan_data.home_ownership != 'NONE']"
   ]
  },
  {
   "cell_type": "code",
   "execution_count": 329,
   "id": "3267d8b3",
   "metadata": {},
   "outputs": [],
   "source": [
    "# very few people have own houses in entire distribution of data\n",
    "# people with own house are less likely to apply for a loan compared to rented/mortgaged houses"
   ]
  },
  {
   "cell_type": "code",
   "execution_count": 330,
   "id": "6a5c0dff",
   "metadata": {},
   "outputs": [
    {
     "data": {
      "text/plain": [
       "count    3.971700e+04\n",
       "mean     6.896893e+04\n",
       "std      6.379377e+04\n",
       "min      4.000000e+03\n",
       "25%      4.040400e+04\n",
       "50%      5.900000e+04\n",
       "75%      8.230000e+04\n",
       "max      6.000000e+06\n",
       "Name: annual_inc, dtype: float64"
      ]
     },
     "execution_count": 330,
     "metadata": {},
     "output_type": "execute_result"
    }
   ],
   "source": [
    "loan_data.annual_inc.describe()"
   ]
  },
  {
   "cell_type": "code",
   "execution_count": 331,
   "id": "66376497",
   "metadata": {},
   "outputs": [],
   "source": [
    "# there are some members whose annual income is very high, these needs to be checked as part of outlier filters"
   ]
  },
  {
   "cell_type": "code",
   "execution_count": 332,
   "id": "dfa73487",
   "metadata": {},
   "outputs": [
    {
     "data": {
      "text/plain": [
       "debt_consolidation    18641\n",
       "credit_card            5130\n",
       "other                  3993\n",
       "home_improvement       2976\n",
       "major_purchase         2187\n",
       "small_business         1828\n",
       "car                    1549\n",
       "wedding                 947\n",
       "medical                 693\n",
       "moving                  583\n",
       "vacation                381\n",
       "house                   381\n",
       "educational             325\n",
       "renewable_energy        103\n",
       "Name: purpose, dtype: int64"
      ]
     },
     "execution_count": 332,
     "metadata": {},
     "output_type": "execute_result"
    }
   ],
   "source": [
    "loan_data.purpose.value_counts()"
   ]
  },
  {
   "cell_type": "code",
   "execution_count": 333,
   "id": "da91800a",
   "metadata": {},
   "outputs": [],
   "source": [
    "# majority of loans are taken for debt_consolidation or credit card"
   ]
  },
  {
   "cell_type": "code",
   "execution_count": 334,
   "id": "bbf96f36",
   "metadata": {},
   "outputs": [
    {
     "data": {
      "text/plain": [
       "100    597\n",
       "945    545\n",
       "112    516\n",
       "606    503\n",
       "70     473\n",
       "      ... \n",
       "381      1\n",
       "378      1\n",
       "739      1\n",
       "396      1\n",
       "469      1\n",
       "Name: zip_code, Length: 823, dtype: int64"
      ]
     },
     "execution_count": 334,
     "metadata": {},
     "output_type": "execute_result"
    }
   ],
   "source": [
    "loan_data.zip_code.value_counts()"
   ]
  },
  {
   "cell_type": "code",
   "execution_count": 335,
   "id": "cf6f294a",
   "metadata": {},
   "outputs": [
    {
     "data": {
      "text/plain": [
       "CA    7099\n",
       "NY    3812\n",
       "FL    2866\n",
       "TX    2727\n",
       "NJ    1850\n",
       "IL    1525\n",
       "PA    1517\n",
       "VA    1407\n",
       "GA    1398\n",
       "MA    1340\n",
       "OH    1223\n",
       "MD    1049\n",
       "AZ     879\n",
       "WA     840\n",
       "CO     792\n",
       "NC     788\n",
       "CT     751\n",
       "MI     720\n",
       "MO     686\n",
       "MN     615\n",
       "NV     497\n",
       "SC     472\n",
       "WI     460\n",
       "AL     452\n",
       "OR     451\n",
       "LA     436\n",
       "KY     325\n",
       "OK     299\n",
       "KS     271\n",
       "UT     258\n",
       "AR     245\n",
       "DC     214\n",
       "RI     198\n",
       "NM     189\n",
       "WV     177\n",
       "HI     174\n",
       "NH     171\n",
       "DE     114\n",
       "MT      85\n",
       "WY      83\n",
       "AK      80\n",
       "SD      64\n",
       "VT      54\n",
       "MS      19\n",
       "TN      17\n",
       "IN       9\n",
       "ID       6\n",
       "IA       5\n",
       "NE       5\n",
       "ME       3\n",
       "Name: addr_state, dtype: int64"
      ]
     },
     "execution_count": 335,
     "metadata": {},
     "output_type": "execute_result"
    }
   ],
   "source": [
    "loan_data.addr_state.value_counts()"
   ]
  },
  {
   "cell_type": "code",
   "execution_count": 336,
   "id": "a4293b91",
   "metadata": {},
   "outputs": [],
   "source": [
    "# Majority of the loans taken are from CA  "
   ]
  },
  {
   "cell_type": "code",
   "execution_count": 337,
   "id": "b3a59e2e",
   "metadata": {},
   "outputs": [
    {
     "data": {
      "text/plain": [
       "count    39717.000000\n",
       "mean        13.315130\n",
       "std          6.678594\n",
       "min          0.000000\n",
       "25%          8.170000\n",
       "50%         13.400000\n",
       "75%         18.600000\n",
       "max         29.990000\n",
       "Name: dti, dtype: float64"
      ]
     },
     "execution_count": 337,
     "metadata": {},
     "output_type": "execute_result"
    }
   ],
   "source": [
    "loan_data.dti.describe()"
   ]
  },
  {
   "cell_type": "code",
   "execution_count": 338,
   "id": "55c984d1",
   "metadata": {},
   "outputs": [
    {
     "data": {
      "text/plain": [
       "Fully Paid     32950\n",
       "Charged Off     5627\n",
       "Current         1140\n",
       "Name: loan_status, dtype: int64"
      ]
     },
     "execution_count": 338,
     "metadata": {},
     "output_type": "execute_result"
    }
   ],
   "source": [
    "loan_data.loan_status.value_counts()"
   ]
  },
  {
   "cell_type": "code",
   "execution_count": 363,
   "id": "1dceb9a7",
   "metadata": {},
   "outputs": [],
   "source": [
    "#Segmented Univariate Analysis"
   ]
  },
  {
   "cell_type": "code",
   "execution_count": 416,
   "id": "c506b446",
   "metadata": {},
   "outputs": [
    {
     "data": {
      "text/html": [
       "<div>\n",
       "<style scoped>\n",
       "    .dataframe tbody tr th:only-of-type {\n",
       "        vertical-align: middle;\n",
       "    }\n",
       "\n",
       "    .dataframe tbody tr th {\n",
       "        vertical-align: top;\n",
       "    }\n",
       "\n",
       "    .dataframe thead th {\n",
       "        text-align: right;\n",
       "    }\n",
       "</style>\n",
       "<table border=\"1\" class=\"dataframe\">\n",
       "  <thead>\n",
       "    <tr style=\"text-align: right;\">\n",
       "      <th></th>\n",
       "      <th>annual_inc</th>\n",
       "      <th>dti</th>\n",
       "      <th>int_rate</th>\n",
       "      <th>loan_amnt</th>\n",
       "    </tr>\n",
       "    <tr>\n",
       "      <th>home_ownership</th>\n",
       "      <th></th>\n",
       "      <th></th>\n",
       "      <th></th>\n",
       "      <th></th>\n",
       "    </tr>\n",
       "  </thead>\n",
       "  <tbody>\n",
       "    <tr>\n",
       "      <th>MORTGAGE</th>\n",
       "      <td>75663.655792</td>\n",
       "      <td>13.303822</td>\n",
       "      <td>11.728925</td>\n",
       "      <td>12461.388905</td>\n",
       "    </tr>\n",
       "    <tr>\n",
       "      <th>OTHER</th>\n",
       "      <td>62656.336842</td>\n",
       "      <td>11.316105</td>\n",
       "      <td>11.993368</td>\n",
       "      <td>10368.157895</td>\n",
       "    </tr>\n",
       "    <tr>\n",
       "      <th>OWN</th>\n",
       "      <td>54760.974072</td>\n",
       "      <td>13.345110</td>\n",
       "      <td>11.757904</td>\n",
       "      <td>10082.343646</td>\n",
       "    </tr>\n",
       "    <tr>\n",
       "      <th>RENT</th>\n",
       "      <td>55075.404244</td>\n",
       "      <td>13.528969</td>\n",
       "      <td>12.280913</td>\n",
       "      <td>9942.732853</td>\n",
       "    </tr>\n",
       "  </tbody>\n",
       "</table>\n",
       "</div>"
      ],
      "text/plain": [
       "                  annual_inc        dti   int_rate     loan_amnt\n",
       "home_ownership                                                  \n",
       "MORTGAGE        75663.655792  13.303822  11.728925  12461.388905\n",
       "OTHER           62656.336842  11.316105  11.993368  10368.157895\n",
       "OWN             54760.974072  13.345110  11.757904  10082.343646\n",
       "RENT            55075.404244  13.528969  12.280913   9942.732853"
      ]
     },
     "execution_count": 416,
     "metadata": {},
     "output_type": "execute_result"
    }
   ],
   "source": [
    "pd.pivot_table(loan_data,index='home_ownership',values=['annual_inc','dti','loan_amnt','int_rate'] ,aggfunc=np.mean)"
   ]
  },
  {
   "cell_type": "code",
   "execution_count": 407,
   "id": "5d10181e",
   "metadata": {},
   "outputs": [
    {
     "data": {
      "text/html": [
       "<div>\n",
       "<style scoped>\n",
       "    .dataframe tbody tr th:only-of-type {\n",
       "        vertical-align: middle;\n",
       "    }\n",
       "\n",
       "    .dataframe tbody tr th {\n",
       "        vertical-align: top;\n",
       "    }\n",
       "\n",
       "    .dataframe thead th {\n",
       "        text-align: right;\n",
       "    }\n",
       "</style>\n",
       "<table border=\"1\" class=\"dataframe\">\n",
       "  <thead>\n",
       "    <tr style=\"text-align: right;\">\n",
       "      <th></th>\n",
       "      <th>member_id</th>\n",
       "      <th>loan_amnt</th>\n",
       "      <th>funded_amnt</th>\n",
       "      <th>funded_amnt_inv</th>\n",
       "      <th>term</th>\n",
       "      <th>int_rate</th>\n",
       "      <th>installment</th>\n",
       "      <th>grade</th>\n",
       "      <th>sub_grade</th>\n",
       "      <th>emp_title</th>\n",
       "      <th>emp_length</th>\n",
       "      <th>home_ownership</th>\n",
       "      <th>annual_inc</th>\n",
       "      <th>verification_status</th>\n",
       "      <th>issue_d</th>\n",
       "      <th>loan_status</th>\n",
       "      <th>purpose</th>\n",
       "      <th>zip_code</th>\n",
       "      <th>addr_state</th>\n",
       "      <th>dti</th>\n",
       "    </tr>\n",
       "  </thead>\n",
       "  <tbody>\n",
       "    <tr>\n",
       "      <th>39318</th>\n",
       "      <td>214993</td>\n",
       "      <td>10000</td>\n",
       "      <td>10000</td>\n",
       "      <td>1228.06</td>\n",
       "      <td>36 months</td>\n",
       "      <td>7.75</td>\n",
       "      <td>312.22</td>\n",
       "      <td>A</td>\n",
       "      <td>A3</td>\n",
       "      <td>ups</td>\n",
       "      <td>5 years</td>\n",
       "      <td>NONE</td>\n",
       "      <td>22200.0</td>\n",
       "      <td>Not Verified</td>\n",
       "      <td>2008-01-01</td>\n",
       "      <td>Fully Paid</td>\n",
       "      <td>debt_consolidation</td>\n",
       "      <td>233</td>\n",
       "      <td>VA</td>\n",
       "      <td>5.24</td>\n",
       "    </tr>\n",
       "    <tr>\n",
       "      <th>39659</th>\n",
       "      <td>121574</td>\n",
       "      <td>4000</td>\n",
       "      <td>4000</td>\n",
       "      <td>1925.00</td>\n",
       "      <td>36 months</td>\n",
       "      <td>9.64</td>\n",
       "      <td>128.41</td>\n",
       "      <td>B</td>\n",
       "      <td>B4</td>\n",
       "      <td></td>\n",
       "      <td>&lt; 1 year</td>\n",
       "      <td>NONE</td>\n",
       "      <td>100000.0</td>\n",
       "      <td>Not Verified</td>\n",
       "      <td>2007-08-01</td>\n",
       "      <td>Fully Paid</td>\n",
       "      <td>other</td>\n",
       "      <td>950</td>\n",
       "      <td>CA</td>\n",
       "      <td>15.00</td>\n",
       "    </tr>\n",
       "    <tr>\n",
       "      <th>39660</th>\n",
       "      <td>121373</td>\n",
       "      <td>2800</td>\n",
       "      <td>2800</td>\n",
       "      <td>1625.00</td>\n",
       "      <td>36 months</td>\n",
       "      <td>8.70</td>\n",
       "      <td>88.65</td>\n",
       "      <td>B</td>\n",
       "      <td>B1</td>\n",
       "      <td></td>\n",
       "      <td>&lt; 1 year</td>\n",
       "      <td>NONE</td>\n",
       "      <td>120000.0</td>\n",
       "      <td>Not Verified</td>\n",
       "      <td>2007-08-01</td>\n",
       "      <td>Fully Paid</td>\n",
       "      <td>other</td>\n",
       "      <td>24</td>\n",
       "      <td>MA</td>\n",
       "      <td>15.00</td>\n",
       "    </tr>\n",
       "  </tbody>\n",
       "</table>\n",
       "</div>"
      ],
      "text/plain": [
       "       member_id  loan_amnt  funded_amnt  funded_amnt_inv        term  \\\n",
       "39318     214993      10000        10000          1228.06   36 months   \n",
       "39659     121574       4000         4000          1925.00   36 months   \n",
       "39660     121373       2800         2800          1625.00   36 months   \n",
       "\n",
       "       int_rate  installment grade sub_grade emp_title emp_length  \\\n",
       "39318      7.75       312.22     A        A3       ups    5 years   \n",
       "39659      9.64       128.41     B        B4             < 1 year   \n",
       "39660      8.70        88.65     B        B1             < 1 year   \n",
       "\n",
       "      home_ownership  annual_inc verification_status    issue_d loan_status  \\\n",
       "39318           NONE     22200.0        Not Verified 2008-01-01  Fully Paid   \n",
       "39659           NONE    100000.0        Not Verified 2007-08-01  Fully Paid   \n",
       "39660           NONE    120000.0        Not Verified 2007-08-01  Fully Paid   \n",
       "\n",
       "                  purpose  zip_code addr_state    dti  \n",
       "39318  debt_consolidation       233         VA   5.24  \n",
       "39659               other       950         CA  15.00  \n",
       "39660               other        24         MA  15.00  "
      ]
     },
     "execution_count": 407,
     "metadata": {},
     "output_type": "execute_result"
    }
   ],
   "source": []
  },
  {
   "cell_type": "code",
   "execution_count": 419,
   "id": "32f06544",
   "metadata": {},
   "outputs": [
    {
     "data": {
      "text/html": [
       "<div>\n",
       "<style scoped>\n",
       "    .dataframe tbody tr th:only-of-type {\n",
       "        vertical-align: middle;\n",
       "    }\n",
       "\n",
       "    .dataframe tbody tr th {\n",
       "        vertical-align: top;\n",
       "    }\n",
       "\n",
       "    .dataframe thead th {\n",
       "        text-align: right;\n",
       "    }\n",
       "</style>\n",
       "<table border=\"1\" class=\"dataframe\">\n",
       "  <thead>\n",
       "    <tr style=\"text-align: right;\">\n",
       "      <th></th>\n",
       "      <th>annual_inc</th>\n",
       "      <th>dti</th>\n",
       "      <th>int_rate</th>\n",
       "      <th>loan_amnt</th>\n",
       "    </tr>\n",
       "    <tr>\n",
       "      <th>verification_status</th>\n",
       "      <th></th>\n",
       "      <th></th>\n",
       "      <th></th>\n",
       "      <th></th>\n",
       "    </tr>\n",
       "  </thead>\n",
       "  <tbody>\n",
       "    <tr>\n",
       "      <th>Not Verified</th>\n",
       "      <td>52000.0</td>\n",
       "      <td>13.19</td>\n",
       "      <td>11.12</td>\n",
       "      <td>7500</td>\n",
       "    </tr>\n",
       "    <tr>\n",
       "      <th>Source Verified</th>\n",
       "      <td>55000.0</td>\n",
       "      <td>12.74</td>\n",
       "      <td>11.86</td>\n",
       "      <td>8625</td>\n",
       "    </tr>\n",
       "    <tr>\n",
       "      <th>Verified</th>\n",
       "      <td>68000.0</td>\n",
       "      <td>14.63</td>\n",
       "      <td>12.84</td>\n",
       "      <td>15000</td>\n",
       "    </tr>\n",
       "  </tbody>\n",
       "</table>\n",
       "</div>"
      ],
      "text/plain": [
       "                     annual_inc    dti  int_rate  loan_amnt\n",
       "verification_status                                        \n",
       "Not Verified            52000.0  13.19     11.12       7500\n",
       "Source Verified         55000.0  12.74     11.86       8625\n",
       "Verified                68000.0  14.63     12.84      15000"
      ]
     },
     "execution_count": 419,
     "metadata": {},
     "output_type": "execute_result"
    }
   ],
   "source": [
    "pd.pivot_table(loan_data,index='verification_status',values=['annual_inc','dti','loan_amnt','int_rate'] ,aggfunc=np.median)"
   ]
  },
  {
   "cell_type": "code",
   "execution_count": null,
   "id": "d1b33144",
   "metadata": {},
   "outputs": [],
   "source": [
    "# we see that verified individuals have more annual income and more loan amount, where as least for Not Verified"
   ]
  },
  {
   "cell_type": "code",
   "execution_count": 421,
   "id": "291ae82b",
   "metadata": {},
   "outputs": [
    {
     "data": {
      "text/html": [
       "<div>\n",
       "<style scoped>\n",
       "    .dataframe tbody tr th:only-of-type {\n",
       "        vertical-align: middle;\n",
       "    }\n",
       "\n",
       "    .dataframe tbody tr th {\n",
       "        vertical-align: top;\n",
       "    }\n",
       "\n",
       "    .dataframe thead th {\n",
       "        text-align: right;\n",
       "    }\n",
       "</style>\n",
       "<table border=\"1\" class=\"dataframe\">\n",
       "  <thead>\n",
       "    <tr style=\"text-align: right;\">\n",
       "      <th></th>\n",
       "      <th>annual_inc</th>\n",
       "      <th>dti</th>\n",
       "      <th>inq_last_6mths</th>\n",
       "      <th>int_rate</th>\n",
       "      <th>loan_amnt</th>\n",
       "    </tr>\n",
       "    <tr>\n",
       "      <th>loan_status</th>\n",
       "      <th></th>\n",
       "      <th></th>\n",
       "      <th></th>\n",
       "      <th></th>\n",
       "      <th></th>\n",
       "    </tr>\n",
       "  </thead>\n",
       "  <tbody>\n",
       "    <tr>\n",
       "      <th>Charged Off</th>\n",
       "      <td>58914.517245</td>\n",
       "      <td>14.063037</td>\n",
       "      <td>1.055325</td>\n",
       "      <td>13.799130</td>\n",
       "      <td>11985.582988</td>\n",
       "    </tr>\n",
       "    <tr>\n",
       "      <th>Current</th>\n",
       "      <td>71233.657903</td>\n",
       "      <td>14.880869</td>\n",
       "      <td>0.783154</td>\n",
       "      <td>14.981971</td>\n",
       "      <td>16895.743728</td>\n",
       "    </tr>\n",
       "    <tr>\n",
       "      <th>Fully Paid</th>\n",
       "      <td>64755.249039</td>\n",
       "      <td>13.247422</td>\n",
       "      <td>0.835245</td>\n",
       "      <td>11.584343</td>\n",
       "      <td>10699.275418</td>\n",
       "    </tr>\n",
       "  </tbody>\n",
       "</table>\n",
       "</div>"
      ],
      "text/plain": [
       "               annual_inc        dti  inq_last_6mths   int_rate     loan_amnt\n",
       "loan_status                                                                  \n",
       "Charged Off  58914.517245  14.063037        1.055325  13.799130  11985.582988\n",
       "Current      71233.657903  14.880869        0.783154  14.981971  16895.743728\n",
       "Fully Paid   64755.249039  13.247422        0.835245  11.584343  10699.275418"
      ]
     },
     "execution_count": 421,
     "metadata": {},
     "output_type": "execute_result"
    }
   ],
   "source": [
    "pd.pivot_table(loan_data,index='loan_status',values=['annual_inc','dti','loan_amnt','int_rate', 'inq_last_6mths','mort_acc'] ,aggfunc=np.mean)"
   ]
  },
  {
   "cell_type": "code",
   "execution_count": null,
   "id": "1e28a823",
   "metadata": {},
   "outputs": [],
   "source": [
    "#Loans having lower interest rate are more likely to be Fully Paid, rather than the ones with higher rates."
   ]
  },
  {
   "cell_type": "code",
   "execution_count": 339,
   "id": "7e57fbca",
   "metadata": {},
   "outputs": [],
   "source": [
    "# we don't see any value addition doing univariate for other variables, most of them needs corelation. \n",
    "# Hence let's start bi/multi variate analysis"
   ]
  },
  {
   "cell_type": "code",
   "execution_count": 340,
   "id": "ed4b3e04",
   "metadata": {},
   "outputs": [
    {
     "data": {
      "text/html": [
       "<div>\n",
       "<style scoped>\n",
       "    .dataframe tbody tr th:only-of-type {\n",
       "        vertical-align: middle;\n",
       "    }\n",
       "\n",
       "    .dataframe tbody tr th {\n",
       "        vertical-align: top;\n",
       "    }\n",
       "\n",
       "    .dataframe thead th {\n",
       "        text-align: right;\n",
       "    }\n",
       "</style>\n",
       "<table border=\"1\" class=\"dataframe\">\n",
       "  <thead>\n",
       "    <tr style=\"text-align: right;\">\n",
       "      <th></th>\n",
       "      <th>member_id</th>\n",
       "      <th>loan_amnt</th>\n",
       "      <th>funded_amnt</th>\n",
       "      <th>funded_amnt_inv</th>\n",
       "      <th>int_rate</th>\n",
       "      <th>installment</th>\n",
       "      <th>annual_inc</th>\n",
       "      <th>zip_code</th>\n",
       "      <th>dti</th>\n",
       "      <th>inq_last_6mths</th>\n",
       "      <th>...</th>\n",
       "      <th>out_prncp</th>\n",
       "      <th>out_prncp_inv</th>\n",
       "      <th>total_pymnt</th>\n",
       "      <th>total_pymnt_inv</th>\n",
       "      <th>total_rec_prncp</th>\n",
       "      <th>total_rec_int</th>\n",
       "      <th>total_rec_late_fee</th>\n",
       "      <th>recoveries</th>\n",
       "      <th>collection_recovery_fee</th>\n",
       "      <th>pub_rec_bankruptcies</th>\n",
       "    </tr>\n",
       "  </thead>\n",
       "  <tbody>\n",
       "    <tr>\n",
       "      <th>member_id</th>\n",
       "      <td>1.000000</td>\n",
       "      <td>0.140710</td>\n",
       "      <td>0.150322</td>\n",
       "      <td>0.257887</td>\n",
       "      <td>0.074725</td>\n",
       "      <td>0.081025</td>\n",
       "      <td>0.009380</td>\n",
       "      <td>0.015950</td>\n",
       "      <td>0.096963</td>\n",
       "      <td>-0.047086</td>\n",
       "      <td>...</td>\n",
       "      <td>0.170743</td>\n",
       "      <td>0.170706</td>\n",
       "      <td>0.139975</td>\n",
       "      <td>0.229307</td>\n",
       "      <td>0.112168</td>\n",
       "      <td>0.173234</td>\n",
       "      <td>-0.057750</td>\n",
       "      <td>0.031565</td>\n",
       "      <td>-0.015155</td>\n",
       "      <td>-0.008769</td>\n",
       "    </tr>\n",
       "    <tr>\n",
       "      <th>loan_amnt</th>\n",
       "      <td>0.140710</td>\n",
       "      <td>1.000000</td>\n",
       "      <td>0.981578</td>\n",
       "      <td>0.940034</td>\n",
       "      <td>0.309415</td>\n",
       "      <td>0.930288</td>\n",
       "      <td>0.271149</td>\n",
       "      <td>-0.002120</td>\n",
       "      <td>0.066439</td>\n",
       "      <td>0.009229</td>\n",
       "      <td>...</td>\n",
       "      <td>0.192937</td>\n",
       "      <td>0.192623</td>\n",
       "      <td>0.886613</td>\n",
       "      <td>0.854243</td>\n",
       "      <td>0.852021</td>\n",
       "      <td>0.729726</td>\n",
       "      <td>0.044706</td>\n",
       "      <td>0.135446</td>\n",
       "      <td>0.072853</td>\n",
       "      <td>-0.037180</td>\n",
       "    </tr>\n",
       "    <tr>\n",
       "      <th>funded_amnt</th>\n",
       "      <td>0.150322</td>\n",
       "      <td>0.981578</td>\n",
       "      <td>1.000000</td>\n",
       "      <td>0.958422</td>\n",
       "      <td>0.312619</td>\n",
       "      <td>0.956159</td>\n",
       "      <td>0.266965</td>\n",
       "      <td>-0.002445</td>\n",
       "      <td>0.066283</td>\n",
       "      <td>0.009259</td>\n",
       "      <td>...</td>\n",
       "      <td>0.194941</td>\n",
       "      <td>0.194675</td>\n",
       "      <td>0.903160</td>\n",
       "      <td>0.870799</td>\n",
       "      <td>0.870255</td>\n",
       "      <td>0.737469</td>\n",
       "      <td>0.046705</td>\n",
       "      <td>0.136284</td>\n",
       "      <td>0.074676</td>\n",
       "      <td>-0.038502</td>\n",
       "    </tr>\n",
       "    <tr>\n",
       "      <th>funded_amnt_inv</th>\n",
       "      <td>0.257887</td>\n",
       "      <td>0.940034</td>\n",
       "      <td>0.958422</td>\n",
       "      <td>1.000000</td>\n",
       "      <td>0.306657</td>\n",
       "      <td>0.905039</td>\n",
       "      <td>0.254375</td>\n",
       "      <td>-0.002176</td>\n",
       "      <td>0.074689</td>\n",
       "      <td>-0.005712</td>\n",
       "      <td>...</td>\n",
       "      <td>0.203688</td>\n",
       "      <td>0.203693</td>\n",
       "      <td>0.881228</td>\n",
       "      <td>0.913257</td>\n",
       "      <td>0.845848</td>\n",
       "      <td>0.730914</td>\n",
       "      <td>0.027172</td>\n",
       "      <td>0.123759</td>\n",
       "      <td>0.060358</td>\n",
       "      <td>-0.042746</td>\n",
       "    </tr>\n",
       "    <tr>\n",
       "      <th>int_rate</th>\n",
       "      <td>0.074725</td>\n",
       "      <td>0.309415</td>\n",
       "      <td>0.312619</td>\n",
       "      <td>0.306657</td>\n",
       "      <td>1.000000</td>\n",
       "      <td>0.282703</td>\n",
       "      <td>0.053185</td>\n",
       "      <td>0.009843</td>\n",
       "      <td>0.111162</td>\n",
       "      <td>0.133013</td>\n",
       "      <td>...</td>\n",
       "      <td>0.134616</td>\n",
       "      <td>0.134668</td>\n",
       "      <td>0.308268</td>\n",
       "      <td>0.303670</td>\n",
       "      <td>0.186882</td>\n",
       "      <td>0.529913</td>\n",
       "      <td>0.092591</td>\n",
       "      <td>0.122259</td>\n",
       "      <td>0.066380</td>\n",
       "      <td>0.082550</td>\n",
       "    </tr>\n",
       "    <tr>\n",
       "      <th>installment</th>\n",
       "      <td>0.081025</td>\n",
       "      <td>0.930288</td>\n",
       "      <td>0.956159</td>\n",
       "      <td>0.905039</td>\n",
       "      <td>0.282703</td>\n",
       "      <td>1.000000</td>\n",
       "      <td>0.270874</td>\n",
       "      <td>0.003031</td>\n",
       "      <td>0.054186</td>\n",
       "      <td>0.009722</td>\n",
       "      <td>...</td>\n",
       "      <td>0.125082</td>\n",
       "      <td>0.124932</td>\n",
       "      <td>0.856928</td>\n",
       "      <td>0.817416</td>\n",
       "      <td>0.850773</td>\n",
       "      <td>0.634725</td>\n",
       "      <td>0.056709</td>\n",
       "      <td>0.118152</td>\n",
       "      <td>0.075467</td>\n",
       "      <td>-0.034103</td>\n",
       "    </tr>\n",
       "    <tr>\n",
       "      <th>annual_inc</th>\n",
       "      <td>0.009380</td>\n",
       "      <td>0.271149</td>\n",
       "      <td>0.266965</td>\n",
       "      <td>0.254375</td>\n",
       "      <td>0.053185</td>\n",
       "      <td>0.270874</td>\n",
       "      <td>1.000000</td>\n",
       "      <td>-0.004799</td>\n",
       "      <td>-0.122732</td>\n",
       "      <td>0.033908</td>\n",
       "      <td>...</td>\n",
       "      <td>0.033573</td>\n",
       "      <td>0.033472</td>\n",
       "      <td>0.257980</td>\n",
       "      <td>0.247119</td>\n",
       "      <td>0.259571</td>\n",
       "      <td>0.185476</td>\n",
       "      <td>0.006243</td>\n",
       "      <td>0.021589</td>\n",
       "      <td>0.015604</td>\n",
       "      <td>-0.016801</td>\n",
       "    </tr>\n",
       "    <tr>\n",
       "      <th>zip_code</th>\n",
       "      <td>0.015950</td>\n",
       "      <td>-0.002120</td>\n",
       "      <td>-0.002445</td>\n",
       "      <td>-0.002176</td>\n",
       "      <td>0.009843</td>\n",
       "      <td>0.003031</td>\n",
       "      <td>-0.004799</td>\n",
       "      <td>1.000000</td>\n",
       "      <td>0.016692</td>\n",
       "      <td>-0.020273</td>\n",
       "      <td>...</td>\n",
       "      <td>-0.011144</td>\n",
       "      <td>-0.011029</td>\n",
       "      <td>-0.010402</td>\n",
       "      <td>-0.009435</td>\n",
       "      <td>-0.010460</td>\n",
       "      <td>-0.008088</td>\n",
       "      <td>-0.013007</td>\n",
       "      <td>0.001511</td>\n",
       "      <td>0.001914</td>\n",
       "      <td>0.032005</td>\n",
       "    </tr>\n",
       "    <tr>\n",
       "      <th>dti</th>\n",
       "      <td>0.096963</td>\n",
       "      <td>0.066439</td>\n",
       "      <td>0.066283</td>\n",
       "      <td>0.074689</td>\n",
       "      <td>0.111162</td>\n",
       "      <td>0.054186</td>\n",
       "      <td>-0.122732</td>\n",
       "      <td>0.016692</td>\n",
       "      <td>1.000000</td>\n",
       "      <td>0.001405</td>\n",
       "      <td>...</td>\n",
       "      <td>0.036095</td>\n",
       "      <td>0.036012</td>\n",
       "      <td>0.064766</td>\n",
       "      <td>0.071647</td>\n",
       "      <td>0.041316</td>\n",
       "      <td>0.106071</td>\n",
       "      <td>-0.011781</td>\n",
       "      <td>0.024878</td>\n",
       "      <td>0.011033</td>\n",
       "      <td>0.005691</td>\n",
       "    </tr>\n",
       "    <tr>\n",
       "      <th>inq_last_6mths</th>\n",
       "      <td>-0.047086</td>\n",
       "      <td>0.009229</td>\n",
       "      <td>0.009259</td>\n",
       "      <td>-0.005712</td>\n",
       "      <td>0.133013</td>\n",
       "      <td>0.009722</td>\n",
       "      <td>0.033908</td>\n",
       "      <td>-0.020273</td>\n",
       "      <td>0.001405</td>\n",
       "      <td>1.000000</td>\n",
       "      <td>...</td>\n",
       "      <td>-0.012106</td>\n",
       "      <td>-0.011780</td>\n",
       "      <td>-0.010559</td>\n",
       "      <td>-0.020277</td>\n",
       "      <td>-0.023433</td>\n",
       "      <td>0.021774</td>\n",
       "      <td>0.031215</td>\n",
       "      <td>0.018972</td>\n",
       "      <td>0.012420</td>\n",
       "      <td>0.016346</td>\n",
       "    </tr>\n",
       "    <tr>\n",
       "      <th>mths_since_last_delinq</th>\n",
       "      <td>0.122963</td>\n",
       "      <td>0.014871</td>\n",
       "      <td>0.016359</td>\n",
       "      <td>0.071924</td>\n",
       "      <td>-0.055613</td>\n",
       "      <td>0.000047</td>\n",
       "      <td>-0.008822</td>\n",
       "      <td>0.027365</td>\n",
       "      <td>0.068815</td>\n",
       "      <td>-0.003851</td>\n",
       "      <td>...</td>\n",
       "      <td>0.005345</td>\n",
       "      <td>0.005501</td>\n",
       "      <td>0.012174</td>\n",
       "      <td>0.057515</td>\n",
       "      <td>0.015708</td>\n",
       "      <td>0.002801</td>\n",
       "      <td>-0.028460</td>\n",
       "      <td>-0.008622</td>\n",
       "      <td>-0.018697</td>\n",
       "      <td>0.025841</td>\n",
       "    </tr>\n",
       "    <tr>\n",
       "      <th>mths_since_last_record</th>\n",
       "      <td>0.719538</td>\n",
       "      <td>0.004968</td>\n",
       "      <td>-0.006059</td>\n",
       "      <td>0.437906</td>\n",
       "      <td>0.330691</td>\n",
       "      <td>-0.062171</td>\n",
       "      <td>-0.031866</td>\n",
       "      <td>0.143873</td>\n",
       "      <td>0.187175</td>\n",
       "      <td>-0.027878</td>\n",
       "      <td>...</td>\n",
       "      <td>0.057430</td>\n",
       "      <td>0.056635</td>\n",
       "      <td>0.004355</td>\n",
       "      <td>0.373132</td>\n",
       "      <td>-0.041470</td>\n",
       "      <td>0.128281</td>\n",
       "      <td>-0.097503</td>\n",
       "      <td>-0.013125</td>\n",
       "      <td>-0.038484</td>\n",
       "      <td>0.823352</td>\n",
       "    </tr>\n",
       "    <tr>\n",
       "      <th>open_acc</th>\n",
       "      <td>0.017928</td>\n",
       "      <td>0.177168</td>\n",
       "      <td>0.175530</td>\n",
       "      <td>0.163027</td>\n",
       "      <td>0.010395</td>\n",
       "      <td>0.172812</td>\n",
       "      <td>0.158200</td>\n",
       "      <td>-0.046739</td>\n",
       "      <td>0.288045</td>\n",
       "      <td>0.091713</td>\n",
       "      <td>...</td>\n",
       "      <td>0.028688</td>\n",
       "      <td>0.028514</td>\n",
       "      <td>0.162663</td>\n",
       "      <td>0.152937</td>\n",
       "      <td>0.160631</td>\n",
       "      <td>0.124499</td>\n",
       "      <td>-0.018627</td>\n",
       "      <td>0.016396</td>\n",
       "      <td>0.006219</td>\n",
       "      <td>0.005930</td>\n",
       "    </tr>\n",
       "    <tr>\n",
       "      <th>pub_rec</th>\n",
       "      <td>-0.018721</td>\n",
       "      <td>-0.051236</td>\n",
       "      <td>-0.052169</td>\n",
       "      <td>-0.053214</td>\n",
       "      <td>0.097208</td>\n",
       "      <td>-0.046532</td>\n",
       "      <td>-0.018689</td>\n",
       "      <td>0.015835</td>\n",
       "      <td>-0.004621</td>\n",
       "      <td>0.024802</td>\n",
       "      <td>...</td>\n",
       "      <td>-0.012675</td>\n",
       "      <td>-0.012910</td>\n",
       "      <td>-0.053668</td>\n",
       "      <td>-0.054101</td>\n",
       "      <td>-0.065384</td>\n",
       "      <td>-0.007470</td>\n",
       "      <td>-0.002071</td>\n",
       "      <td>-0.005521</td>\n",
       "      <td>-0.005536</td>\n",
       "      <td>0.847305</td>\n",
       "    </tr>\n",
       "    <tr>\n",
       "      <th>revol_bal</th>\n",
       "      <td>0.005113</td>\n",
       "      <td>0.317597</td>\n",
       "      <td>0.310392</td>\n",
       "      <td>0.290797</td>\n",
       "      <td>0.097100</td>\n",
       "      <td>0.312679</td>\n",
       "      <td>0.279961</td>\n",
       "      <td>-0.006058</td>\n",
       "      <td>0.228743</td>\n",
       "      <td>-0.022381</td>\n",
       "      <td>...</td>\n",
       "      <td>0.060388</td>\n",
       "      <td>0.060183</td>\n",
       "      <td>0.293204</td>\n",
       "      <td>0.277543</td>\n",
       "      <td>0.281419</td>\n",
       "      <td>0.243000</td>\n",
       "      <td>0.003823</td>\n",
       "      <td>0.042091</td>\n",
       "      <td>0.022400</td>\n",
       "      <td>-0.049406</td>\n",
       "    </tr>\n",
       "    <tr>\n",
       "      <th>total_acc</th>\n",
       "      <td>0.044374</td>\n",
       "      <td>0.256442</td>\n",
       "      <td>0.250589</td>\n",
       "      <td>0.242854</td>\n",
       "      <td>-0.043570</td>\n",
       "      <td>0.230824</td>\n",
       "      <td>0.235771</td>\n",
       "      <td>-0.025453</td>\n",
       "      <td>0.229881</td>\n",
       "      <td>0.111499</td>\n",
       "      <td>...</td>\n",
       "      <td>0.031191</td>\n",
       "      <td>0.031009</td>\n",
       "      <td>0.225077</td>\n",
       "      <td>0.219244</td>\n",
       "      <td>0.231242</td>\n",
       "      <td>0.147792</td>\n",
       "      <td>-0.024715</td>\n",
       "      <td>0.023281</td>\n",
       "      <td>0.010551</td>\n",
       "      <td>-0.011807</td>\n",
       "    </tr>\n",
       "    <tr>\n",
       "      <th>out_prncp</th>\n",
       "      <td>0.170743</td>\n",
       "      <td>0.192937</td>\n",
       "      <td>0.194941</td>\n",
       "      <td>0.203688</td>\n",
       "      <td>0.134616</td>\n",
       "      <td>0.125082</td>\n",
       "      <td>0.033573</td>\n",
       "      <td>-0.011144</td>\n",
       "      <td>0.036095</td>\n",
       "      <td>-0.012106</td>\n",
       "      <td>...</td>\n",
       "      <td>1.000000</td>\n",
       "      <td>0.999827</td>\n",
       "      <td>0.239367</td>\n",
       "      <td>0.246537</td>\n",
       "      <td>0.166519</td>\n",
       "      <td>0.383746</td>\n",
       "      <td>-0.004644</td>\n",
       "      <td>-0.018878</td>\n",
       "      <td>-0.011394</td>\n",
       "      <td>-0.010024</td>\n",
       "    </tr>\n",
       "    <tr>\n",
       "      <th>out_prncp_inv</th>\n",
       "      <td>0.170706</td>\n",
       "      <td>0.192623</td>\n",
       "      <td>0.194675</td>\n",
       "      <td>0.203693</td>\n",
       "      <td>0.134668</td>\n",
       "      <td>0.124932</td>\n",
       "      <td>0.033472</td>\n",
       "      <td>-0.011029</td>\n",
       "      <td>0.036012</td>\n",
       "      <td>-0.011780</td>\n",
       "      <td>...</td>\n",
       "      <td>0.999827</td>\n",
       "      <td>1.000000</td>\n",
       "      <td>0.239049</td>\n",
       "      <td>0.246524</td>\n",
       "      <td>0.166235</td>\n",
       "      <td>0.383410</td>\n",
       "      <td>-0.004752</td>\n",
       "      <td>-0.018858</td>\n",
       "      <td>-0.011382</td>\n",
       "      <td>-0.010314</td>\n",
       "    </tr>\n",
       "    <tr>\n",
       "      <th>total_pymnt</th>\n",
       "      <td>0.139975</td>\n",
       "      <td>0.886613</td>\n",
       "      <td>0.903160</td>\n",
       "      <td>0.881228</td>\n",
       "      <td>0.308268</td>\n",
       "      <td>0.856928</td>\n",
       "      <td>0.257980</td>\n",
       "      <td>-0.010402</td>\n",
       "      <td>0.064766</td>\n",
       "      <td>-0.010559</td>\n",
       "      <td>...</td>\n",
       "      <td>0.239367</td>\n",
       "      <td>0.239049</td>\n",
       "      <td>1.000000</td>\n",
       "      <td>0.970815</td>\n",
       "      <td>0.971472</td>\n",
       "      <td>0.828758</td>\n",
       "      <td>0.012981</td>\n",
       "      <td>0.023950</td>\n",
       "      <td>0.024555</td>\n",
       "      <td>-0.043661</td>\n",
       "    </tr>\n",
       "    <tr>\n",
       "      <th>total_pymnt_inv</th>\n",
       "      <td>0.229307</td>\n",
       "      <td>0.854243</td>\n",
       "      <td>0.870799</td>\n",
       "      <td>0.913257</td>\n",
       "      <td>0.303670</td>\n",
       "      <td>0.817416</td>\n",
       "      <td>0.247119</td>\n",
       "      <td>-0.009435</td>\n",
       "      <td>0.071647</td>\n",
       "      <td>-0.020277</td>\n",
       "      <td>...</td>\n",
       "      <td>0.246537</td>\n",
       "      <td>0.246524</td>\n",
       "      <td>0.970815</td>\n",
       "      <td>1.000000</td>\n",
       "      <td>0.939581</td>\n",
       "      <td>0.815615</td>\n",
       "      <td>-0.000796</td>\n",
       "      <td>0.017862</td>\n",
       "      <td>0.015016</td>\n",
       "      <td>-0.047011</td>\n",
       "    </tr>\n",
       "    <tr>\n",
       "      <th>total_rec_prncp</th>\n",
       "      <td>0.112168</td>\n",
       "      <td>0.852021</td>\n",
       "      <td>0.870255</td>\n",
       "      <td>0.845848</td>\n",
       "      <td>0.186882</td>\n",
       "      <td>0.850773</td>\n",
       "      <td>0.259571</td>\n",
       "      <td>-0.010460</td>\n",
       "      <td>0.041316</td>\n",
       "      <td>-0.023433</td>\n",
       "      <td>...</td>\n",
       "      <td>0.166519</td>\n",
       "      <td>0.166235</td>\n",
       "      <td>0.971472</td>\n",
       "      <td>0.939581</td>\n",
       "      <td>1.000000</td>\n",
       "      <td>0.684027</td>\n",
       "      <td>-0.019667</td>\n",
       "      <td>-0.094821</td>\n",
       "      <td>-0.058634</td>\n",
       "      <td>-0.054125</td>\n",
       "    </tr>\n",
       "    <tr>\n",
       "      <th>total_rec_int</th>\n",
       "      <td>0.173234</td>\n",
       "      <td>0.729726</td>\n",
       "      <td>0.737469</td>\n",
       "      <td>0.730914</td>\n",
       "      <td>0.529913</td>\n",
       "      <td>0.634725</td>\n",
       "      <td>0.185476</td>\n",
       "      <td>-0.008088</td>\n",
       "      <td>0.106071</td>\n",
       "      <td>0.021774</td>\n",
       "      <td>...</td>\n",
       "      <td>0.383746</td>\n",
       "      <td>0.383410</td>\n",
       "      <td>0.828758</td>\n",
       "      <td>0.815615</td>\n",
       "      <td>0.684027</td>\n",
       "      <td>1.000000</td>\n",
       "      <td>0.069099</td>\n",
       "      <td>0.075552</td>\n",
       "      <td>0.033289</td>\n",
       "      <td>-0.003609</td>\n",
       "    </tr>\n",
       "    <tr>\n",
       "      <th>total_rec_late_fee</th>\n",
       "      <td>-0.057750</td>\n",
       "      <td>0.044706</td>\n",
       "      <td>0.046705</td>\n",
       "      <td>0.027172</td>\n",
       "      <td>0.092591</td>\n",
       "      <td>0.056709</td>\n",
       "      <td>0.006243</td>\n",
       "      <td>-0.013007</td>\n",
       "      <td>-0.011781</td>\n",
       "      <td>0.031215</td>\n",
       "      <td>...</td>\n",
       "      <td>-0.004644</td>\n",
       "      <td>-0.004752</td>\n",
       "      <td>0.012981</td>\n",
       "      <td>-0.000796</td>\n",
       "      <td>-0.019667</td>\n",
       "      <td>0.069099</td>\n",
       "      <td>1.000000</td>\n",
       "      <td>0.099925</td>\n",
       "      <td>0.093178</td>\n",
       "      <td>-0.005489</td>\n",
       "    </tr>\n",
       "    <tr>\n",
       "      <th>recoveries</th>\n",
       "      <td>0.031565</td>\n",
       "      <td>0.135446</td>\n",
       "      <td>0.136284</td>\n",
       "      <td>0.123759</td>\n",
       "      <td>0.122259</td>\n",
       "      <td>0.118152</td>\n",
       "      <td>0.021589</td>\n",
       "      <td>0.001511</td>\n",
       "      <td>0.024878</td>\n",
       "      <td>0.018972</td>\n",
       "      <td>...</td>\n",
       "      <td>-0.018878</td>\n",
       "      <td>-0.018858</td>\n",
       "      <td>0.023950</td>\n",
       "      <td>0.017862</td>\n",
       "      <td>-0.094821</td>\n",
       "      <td>0.075552</td>\n",
       "      <td>0.099925</td>\n",
       "      <td>1.000000</td>\n",
       "      <td>0.796816</td>\n",
       "      <td>-0.004651</td>\n",
       "    </tr>\n",
       "    <tr>\n",
       "      <th>collection_recovery_fee</th>\n",
       "      <td>-0.015155</td>\n",
       "      <td>0.072853</td>\n",
       "      <td>0.074676</td>\n",
       "      <td>0.060358</td>\n",
       "      <td>0.066380</td>\n",
       "      <td>0.075467</td>\n",
       "      <td>0.015604</td>\n",
       "      <td>0.001914</td>\n",
       "      <td>0.011033</td>\n",
       "      <td>0.012420</td>\n",
       "      <td>...</td>\n",
       "      <td>-0.011394</td>\n",
       "      <td>-0.011382</td>\n",
       "      <td>0.024555</td>\n",
       "      <td>0.015016</td>\n",
       "      <td>-0.058634</td>\n",
       "      <td>0.033289</td>\n",
       "      <td>0.093178</td>\n",
       "      <td>0.796816</td>\n",
       "      <td>1.000000</td>\n",
       "      <td>-0.005208</td>\n",
       "    </tr>\n",
       "    <tr>\n",
       "      <th>pub_rec_bankruptcies</th>\n",
       "      <td>-0.008769</td>\n",
       "      <td>-0.037180</td>\n",
       "      <td>-0.038502</td>\n",
       "      <td>-0.042746</td>\n",
       "      <td>0.082550</td>\n",
       "      <td>-0.034103</td>\n",
       "      <td>-0.016801</td>\n",
       "      <td>0.032005</td>\n",
       "      <td>0.005691</td>\n",
       "      <td>0.016346</td>\n",
       "      <td>...</td>\n",
       "      <td>-0.010024</td>\n",
       "      <td>-0.010314</td>\n",
       "      <td>-0.043661</td>\n",
       "      <td>-0.047011</td>\n",
       "      <td>-0.054125</td>\n",
       "      <td>-0.003609</td>\n",
       "      <td>-0.005489</td>\n",
       "      <td>-0.004651</td>\n",
       "      <td>-0.005208</td>\n",
       "      <td>1.000000</td>\n",
       "    </tr>\n",
       "  </tbody>\n",
       "</table>\n",
       "<p>26 rows × 26 columns</p>\n",
       "</div>"
      ],
      "text/plain": [
       "                         member_id  loan_amnt  funded_amnt  funded_amnt_inv  \\\n",
       "member_id                 1.000000   0.140710     0.150322         0.257887   \n",
       "loan_amnt                 0.140710   1.000000     0.981578         0.940034   \n",
       "funded_amnt               0.150322   0.981578     1.000000         0.958422   \n",
       "funded_amnt_inv           0.257887   0.940034     0.958422         1.000000   \n",
       "int_rate                  0.074725   0.309415     0.312619         0.306657   \n",
       "installment               0.081025   0.930288     0.956159         0.905039   \n",
       "annual_inc                0.009380   0.271149     0.266965         0.254375   \n",
       "zip_code                  0.015950  -0.002120    -0.002445        -0.002176   \n",
       "dti                       0.096963   0.066439     0.066283         0.074689   \n",
       "inq_last_6mths           -0.047086   0.009229     0.009259        -0.005712   \n",
       "mths_since_last_delinq    0.122963   0.014871     0.016359         0.071924   \n",
       "mths_since_last_record    0.719538   0.004968    -0.006059         0.437906   \n",
       "open_acc                  0.017928   0.177168     0.175530         0.163027   \n",
       "pub_rec                  -0.018721  -0.051236    -0.052169        -0.053214   \n",
       "revol_bal                 0.005113   0.317597     0.310392         0.290797   \n",
       "total_acc                 0.044374   0.256442     0.250589         0.242854   \n",
       "out_prncp                 0.170743   0.192937     0.194941         0.203688   \n",
       "out_prncp_inv             0.170706   0.192623     0.194675         0.203693   \n",
       "total_pymnt               0.139975   0.886613     0.903160         0.881228   \n",
       "total_pymnt_inv           0.229307   0.854243     0.870799         0.913257   \n",
       "total_rec_prncp           0.112168   0.852021     0.870255         0.845848   \n",
       "total_rec_int             0.173234   0.729726     0.737469         0.730914   \n",
       "total_rec_late_fee       -0.057750   0.044706     0.046705         0.027172   \n",
       "recoveries                0.031565   0.135446     0.136284         0.123759   \n",
       "collection_recovery_fee  -0.015155   0.072853     0.074676         0.060358   \n",
       "pub_rec_bankruptcies     -0.008769  -0.037180    -0.038502        -0.042746   \n",
       "\n",
       "                         int_rate  installment  annual_inc  zip_code  \\\n",
       "member_id                0.074725     0.081025    0.009380  0.015950   \n",
       "loan_amnt                0.309415     0.930288    0.271149 -0.002120   \n",
       "funded_amnt              0.312619     0.956159    0.266965 -0.002445   \n",
       "funded_amnt_inv          0.306657     0.905039    0.254375 -0.002176   \n",
       "int_rate                 1.000000     0.282703    0.053185  0.009843   \n",
       "installment              0.282703     1.000000    0.270874  0.003031   \n",
       "annual_inc               0.053185     0.270874    1.000000 -0.004799   \n",
       "zip_code                 0.009843     0.003031   -0.004799  1.000000   \n",
       "dti                      0.111162     0.054186   -0.122732  0.016692   \n",
       "inq_last_6mths           0.133013     0.009722    0.033908 -0.020273   \n",
       "mths_since_last_delinq  -0.055613     0.000047   -0.008822  0.027365   \n",
       "mths_since_last_record   0.330691    -0.062171   -0.031866  0.143873   \n",
       "open_acc                 0.010395     0.172812    0.158200 -0.046739   \n",
       "pub_rec                  0.097208    -0.046532   -0.018689  0.015835   \n",
       "revol_bal                0.097100     0.312679    0.279961 -0.006058   \n",
       "total_acc               -0.043570     0.230824    0.235771 -0.025453   \n",
       "out_prncp                0.134616     0.125082    0.033573 -0.011144   \n",
       "out_prncp_inv            0.134668     0.124932    0.033472 -0.011029   \n",
       "total_pymnt              0.308268     0.856928    0.257980 -0.010402   \n",
       "total_pymnt_inv          0.303670     0.817416    0.247119 -0.009435   \n",
       "total_rec_prncp          0.186882     0.850773    0.259571 -0.010460   \n",
       "total_rec_int            0.529913     0.634725    0.185476 -0.008088   \n",
       "total_rec_late_fee       0.092591     0.056709    0.006243 -0.013007   \n",
       "recoveries               0.122259     0.118152    0.021589  0.001511   \n",
       "collection_recovery_fee  0.066380     0.075467    0.015604  0.001914   \n",
       "pub_rec_bankruptcies     0.082550    -0.034103   -0.016801  0.032005   \n",
       "\n",
       "                              dti  inq_last_6mths  ...  out_prncp  \\\n",
       "member_id                0.096963       -0.047086  ...   0.170743   \n",
       "loan_amnt                0.066439        0.009229  ...   0.192937   \n",
       "funded_amnt              0.066283        0.009259  ...   0.194941   \n",
       "funded_amnt_inv          0.074689       -0.005712  ...   0.203688   \n",
       "int_rate                 0.111162        0.133013  ...   0.134616   \n",
       "installment              0.054186        0.009722  ...   0.125082   \n",
       "annual_inc              -0.122732        0.033908  ...   0.033573   \n",
       "zip_code                 0.016692       -0.020273  ...  -0.011144   \n",
       "dti                      1.000000        0.001405  ...   0.036095   \n",
       "inq_last_6mths           0.001405        1.000000  ...  -0.012106   \n",
       "mths_since_last_delinq   0.068815       -0.003851  ...   0.005345   \n",
       "mths_since_last_record   0.187175       -0.027878  ...   0.057430   \n",
       "open_acc                 0.288045        0.091713  ...   0.028688   \n",
       "pub_rec                 -0.004621        0.024802  ...  -0.012675   \n",
       "revol_bal                0.228743       -0.022381  ...   0.060388   \n",
       "total_acc                0.229881        0.111499  ...   0.031191   \n",
       "out_prncp                0.036095       -0.012106  ...   1.000000   \n",
       "out_prncp_inv            0.036012       -0.011780  ...   0.999827   \n",
       "total_pymnt              0.064766       -0.010559  ...   0.239367   \n",
       "total_pymnt_inv          0.071647       -0.020277  ...   0.246537   \n",
       "total_rec_prncp          0.041316       -0.023433  ...   0.166519   \n",
       "total_rec_int            0.106071        0.021774  ...   0.383746   \n",
       "total_rec_late_fee      -0.011781        0.031215  ...  -0.004644   \n",
       "recoveries               0.024878        0.018972  ...  -0.018878   \n",
       "collection_recovery_fee  0.011033        0.012420  ...  -0.011394   \n",
       "pub_rec_bankruptcies     0.005691        0.016346  ...  -0.010024   \n",
       "\n",
       "                         out_prncp_inv  total_pymnt  total_pymnt_inv  \\\n",
       "member_id                     0.170706     0.139975         0.229307   \n",
       "loan_amnt                     0.192623     0.886613         0.854243   \n",
       "funded_amnt                   0.194675     0.903160         0.870799   \n",
       "funded_amnt_inv               0.203693     0.881228         0.913257   \n",
       "int_rate                      0.134668     0.308268         0.303670   \n",
       "installment                   0.124932     0.856928         0.817416   \n",
       "annual_inc                    0.033472     0.257980         0.247119   \n",
       "zip_code                     -0.011029    -0.010402        -0.009435   \n",
       "dti                           0.036012     0.064766         0.071647   \n",
       "inq_last_6mths               -0.011780    -0.010559        -0.020277   \n",
       "mths_since_last_delinq        0.005501     0.012174         0.057515   \n",
       "mths_since_last_record        0.056635     0.004355         0.373132   \n",
       "open_acc                      0.028514     0.162663         0.152937   \n",
       "pub_rec                      -0.012910    -0.053668        -0.054101   \n",
       "revol_bal                     0.060183     0.293204         0.277543   \n",
       "total_acc                     0.031009     0.225077         0.219244   \n",
       "out_prncp                     0.999827     0.239367         0.246537   \n",
       "out_prncp_inv                 1.000000     0.239049         0.246524   \n",
       "total_pymnt                   0.239049     1.000000         0.970815   \n",
       "total_pymnt_inv               0.246524     0.970815         1.000000   \n",
       "total_rec_prncp               0.166235     0.971472         0.939581   \n",
       "total_rec_int                 0.383410     0.828758         0.815615   \n",
       "total_rec_late_fee           -0.004752     0.012981        -0.000796   \n",
       "recoveries                   -0.018858     0.023950         0.017862   \n",
       "collection_recovery_fee      -0.011382     0.024555         0.015016   \n",
       "pub_rec_bankruptcies         -0.010314    -0.043661        -0.047011   \n",
       "\n",
       "                         total_rec_prncp  total_rec_int  total_rec_late_fee  \\\n",
       "member_id                       0.112168       0.173234           -0.057750   \n",
       "loan_amnt                       0.852021       0.729726            0.044706   \n",
       "funded_amnt                     0.870255       0.737469            0.046705   \n",
       "funded_amnt_inv                 0.845848       0.730914            0.027172   \n",
       "int_rate                        0.186882       0.529913            0.092591   \n",
       "installment                     0.850773       0.634725            0.056709   \n",
       "annual_inc                      0.259571       0.185476            0.006243   \n",
       "zip_code                       -0.010460      -0.008088           -0.013007   \n",
       "dti                             0.041316       0.106071           -0.011781   \n",
       "inq_last_6mths                 -0.023433       0.021774            0.031215   \n",
       "mths_since_last_delinq          0.015708       0.002801           -0.028460   \n",
       "mths_since_last_record         -0.041470       0.128281           -0.097503   \n",
       "open_acc                        0.160631       0.124499           -0.018627   \n",
       "pub_rec                        -0.065384      -0.007470           -0.002071   \n",
       "revol_bal                       0.281419       0.243000            0.003823   \n",
       "total_acc                       0.231242       0.147792           -0.024715   \n",
       "out_prncp                       0.166519       0.383746           -0.004644   \n",
       "out_prncp_inv                   0.166235       0.383410           -0.004752   \n",
       "total_pymnt                     0.971472       0.828758            0.012981   \n",
       "total_pymnt_inv                 0.939581       0.815615           -0.000796   \n",
       "total_rec_prncp                 1.000000       0.684027           -0.019667   \n",
       "total_rec_int                   0.684027       1.000000            0.069099   \n",
       "total_rec_late_fee             -0.019667       0.069099            1.000000   \n",
       "recoveries                     -0.094821       0.075552            0.099925   \n",
       "collection_recovery_fee        -0.058634       0.033289            0.093178   \n",
       "pub_rec_bankruptcies           -0.054125      -0.003609           -0.005489   \n",
       "\n",
       "                         recoveries  collection_recovery_fee  \\\n",
       "member_id                  0.031565                -0.015155   \n",
       "loan_amnt                  0.135446                 0.072853   \n",
       "funded_amnt                0.136284                 0.074676   \n",
       "funded_amnt_inv            0.123759                 0.060358   \n",
       "int_rate                   0.122259                 0.066380   \n",
       "installment                0.118152                 0.075467   \n",
       "annual_inc                 0.021589                 0.015604   \n",
       "zip_code                   0.001511                 0.001914   \n",
       "dti                        0.024878                 0.011033   \n",
       "inq_last_6mths             0.018972                 0.012420   \n",
       "mths_since_last_delinq    -0.008622                -0.018697   \n",
       "mths_since_last_record    -0.013125                -0.038484   \n",
       "open_acc                   0.016396                 0.006219   \n",
       "pub_rec                   -0.005521                -0.005536   \n",
       "revol_bal                  0.042091                 0.022400   \n",
       "total_acc                  0.023281                 0.010551   \n",
       "out_prncp                 -0.018878                -0.011394   \n",
       "out_prncp_inv             -0.018858                -0.011382   \n",
       "total_pymnt                0.023950                 0.024555   \n",
       "total_pymnt_inv            0.017862                 0.015016   \n",
       "total_rec_prncp           -0.094821                -0.058634   \n",
       "total_rec_int              0.075552                 0.033289   \n",
       "total_rec_late_fee         0.099925                 0.093178   \n",
       "recoveries                 1.000000                 0.796816   \n",
       "collection_recovery_fee    0.796816                 1.000000   \n",
       "pub_rec_bankruptcies      -0.004651                -0.005208   \n",
       "\n",
       "                         pub_rec_bankruptcies  \n",
       "member_id                           -0.008769  \n",
       "loan_amnt                           -0.037180  \n",
       "funded_amnt                         -0.038502  \n",
       "funded_amnt_inv                     -0.042746  \n",
       "int_rate                             0.082550  \n",
       "installment                         -0.034103  \n",
       "annual_inc                          -0.016801  \n",
       "zip_code                             0.032005  \n",
       "dti                                  0.005691  \n",
       "inq_last_6mths                       0.016346  \n",
       "mths_since_last_delinq               0.025841  \n",
       "mths_since_last_record               0.823352  \n",
       "open_acc                             0.005930  \n",
       "pub_rec                              0.847305  \n",
       "revol_bal                           -0.049406  \n",
       "total_acc                           -0.011807  \n",
       "out_prncp                           -0.010024  \n",
       "out_prncp_inv                       -0.010314  \n",
       "total_pymnt                         -0.043661  \n",
       "total_pymnt_inv                     -0.047011  \n",
       "total_rec_prncp                     -0.054125  \n",
       "total_rec_int                       -0.003609  \n",
       "total_rec_late_fee                  -0.005489  \n",
       "recoveries                          -0.004651  \n",
       "collection_recovery_fee             -0.005208  \n",
       "pub_rec_bankruptcies                 1.000000  \n",
       "\n",
       "[26 rows x 26 columns]"
      ]
     },
     "execution_count": 340,
     "metadata": {},
     "output_type": "execute_result"
    }
   ],
   "source": [
    "loan_data.corr()"
   ]
  },
  {
   "cell_type": "code",
   "execution_count": 341,
   "id": "d0f3740e",
   "metadata": {},
   "outputs": [
    {
     "data": {
      "text/html": [
       "<div>\n",
       "<style scoped>\n",
       "    .dataframe tbody tr th:only-of-type {\n",
       "        vertical-align: middle;\n",
       "    }\n",
       "\n",
       "    .dataframe tbody tr th {\n",
       "        vertical-align: top;\n",
       "    }\n",
       "\n",
       "    .dataframe thead th {\n",
       "        text-align: right;\n",
       "    }\n",
       "</style>\n",
       "<table border=\"1\" class=\"dataframe\">\n",
       "  <thead>\n",
       "    <tr style=\"text-align: right;\">\n",
       "      <th></th>\n",
       "      <th>member_id</th>\n",
       "      <th>loan_amnt</th>\n",
       "      <th>funded_amnt</th>\n",
       "      <th>funded_amnt_inv</th>\n",
       "      <th>int_rate</th>\n",
       "      <th>installment</th>\n",
       "      <th>annual_inc</th>\n",
       "      <th>zip_code</th>\n",
       "      <th>dti</th>\n",
       "      <th>inq_last_6mths</th>\n",
       "      <th>...</th>\n",
       "      <th>out_prncp</th>\n",
       "      <th>out_prncp_inv</th>\n",
       "      <th>total_pymnt</th>\n",
       "      <th>total_pymnt_inv</th>\n",
       "      <th>total_rec_prncp</th>\n",
       "      <th>total_rec_int</th>\n",
       "      <th>total_rec_late_fee</th>\n",
       "      <th>recoveries</th>\n",
       "      <th>collection_recovery_fee</th>\n",
       "      <th>pub_rec_bankruptcies</th>\n",
       "    </tr>\n",
       "  </thead>\n",
       "  <tbody>\n",
       "    <tr>\n",
       "      <th>member_id</th>\n",
       "      <td>True</td>\n",
       "      <td>False</td>\n",
       "      <td>False</td>\n",
       "      <td>False</td>\n",
       "      <td>False</td>\n",
       "      <td>False</td>\n",
       "      <td>False</td>\n",
       "      <td>False</td>\n",
       "      <td>False</td>\n",
       "      <td>False</td>\n",
       "      <td>...</td>\n",
       "      <td>False</td>\n",
       "      <td>False</td>\n",
       "      <td>False</td>\n",
       "      <td>False</td>\n",
       "      <td>False</td>\n",
       "      <td>False</td>\n",
       "      <td>False</td>\n",
       "      <td>False</td>\n",
       "      <td>False</td>\n",
       "      <td>False</td>\n",
       "    </tr>\n",
       "    <tr>\n",
       "      <th>loan_amnt</th>\n",
       "      <td>False</td>\n",
       "      <td>True</td>\n",
       "      <td>True</td>\n",
       "      <td>True</td>\n",
       "      <td>False</td>\n",
       "      <td>True</td>\n",
       "      <td>False</td>\n",
       "      <td>False</td>\n",
       "      <td>False</td>\n",
       "      <td>False</td>\n",
       "      <td>...</td>\n",
       "      <td>False</td>\n",
       "      <td>False</td>\n",
       "      <td>True</td>\n",
       "      <td>True</td>\n",
       "      <td>True</td>\n",
       "      <td>True</td>\n",
       "      <td>False</td>\n",
       "      <td>False</td>\n",
       "      <td>False</td>\n",
       "      <td>False</td>\n",
       "    </tr>\n",
       "    <tr>\n",
       "      <th>funded_amnt</th>\n",
       "      <td>False</td>\n",
       "      <td>True</td>\n",
       "      <td>True</td>\n",
       "      <td>True</td>\n",
       "      <td>False</td>\n",
       "      <td>True</td>\n",
       "      <td>False</td>\n",
       "      <td>False</td>\n",
       "      <td>False</td>\n",
       "      <td>False</td>\n",
       "      <td>...</td>\n",
       "      <td>False</td>\n",
       "      <td>False</td>\n",
       "      <td>True</td>\n",
       "      <td>True</td>\n",
       "      <td>True</td>\n",
       "      <td>True</td>\n",
       "      <td>False</td>\n",
       "      <td>False</td>\n",
       "      <td>False</td>\n",
       "      <td>False</td>\n",
       "    </tr>\n",
       "    <tr>\n",
       "      <th>funded_amnt_inv</th>\n",
       "      <td>False</td>\n",
       "      <td>True</td>\n",
       "      <td>True</td>\n",
       "      <td>True</td>\n",
       "      <td>False</td>\n",
       "      <td>True</td>\n",
       "      <td>False</td>\n",
       "      <td>False</td>\n",
       "      <td>False</td>\n",
       "      <td>False</td>\n",
       "      <td>...</td>\n",
       "      <td>False</td>\n",
       "      <td>False</td>\n",
       "      <td>True</td>\n",
       "      <td>True</td>\n",
       "      <td>True</td>\n",
       "      <td>True</td>\n",
       "      <td>False</td>\n",
       "      <td>False</td>\n",
       "      <td>False</td>\n",
       "      <td>False</td>\n",
       "    </tr>\n",
       "    <tr>\n",
       "      <th>int_rate</th>\n",
       "      <td>False</td>\n",
       "      <td>False</td>\n",
       "      <td>False</td>\n",
       "      <td>False</td>\n",
       "      <td>True</td>\n",
       "      <td>False</td>\n",
       "      <td>False</td>\n",
       "      <td>False</td>\n",
       "      <td>False</td>\n",
       "      <td>False</td>\n",
       "      <td>...</td>\n",
       "      <td>False</td>\n",
       "      <td>False</td>\n",
       "      <td>False</td>\n",
       "      <td>False</td>\n",
       "      <td>False</td>\n",
       "      <td>True</td>\n",
       "      <td>False</td>\n",
       "      <td>False</td>\n",
       "      <td>False</td>\n",
       "      <td>False</td>\n",
       "    </tr>\n",
       "    <tr>\n",
       "      <th>installment</th>\n",
       "      <td>False</td>\n",
       "      <td>True</td>\n",
       "      <td>True</td>\n",
       "      <td>True</td>\n",
       "      <td>False</td>\n",
       "      <td>True</td>\n",
       "      <td>False</td>\n",
       "      <td>False</td>\n",
       "      <td>False</td>\n",
       "      <td>False</td>\n",
       "      <td>...</td>\n",
       "      <td>False</td>\n",
       "      <td>False</td>\n",
       "      <td>True</td>\n",
       "      <td>True</td>\n",
       "      <td>True</td>\n",
       "      <td>True</td>\n",
       "      <td>False</td>\n",
       "      <td>False</td>\n",
       "      <td>False</td>\n",
       "      <td>False</td>\n",
       "    </tr>\n",
       "    <tr>\n",
       "      <th>annual_inc</th>\n",
       "      <td>False</td>\n",
       "      <td>False</td>\n",
       "      <td>False</td>\n",
       "      <td>False</td>\n",
       "      <td>False</td>\n",
       "      <td>False</td>\n",
       "      <td>True</td>\n",
       "      <td>False</td>\n",
       "      <td>False</td>\n",
       "      <td>False</td>\n",
       "      <td>...</td>\n",
       "      <td>False</td>\n",
       "      <td>False</td>\n",
       "      <td>False</td>\n",
       "      <td>False</td>\n",
       "      <td>False</td>\n",
       "      <td>False</td>\n",
       "      <td>False</td>\n",
       "      <td>False</td>\n",
       "      <td>False</td>\n",
       "      <td>False</td>\n",
       "    </tr>\n",
       "    <tr>\n",
       "      <th>zip_code</th>\n",
       "      <td>False</td>\n",
       "      <td>False</td>\n",
       "      <td>False</td>\n",
       "      <td>False</td>\n",
       "      <td>False</td>\n",
       "      <td>False</td>\n",
       "      <td>False</td>\n",
       "      <td>True</td>\n",
       "      <td>False</td>\n",
       "      <td>False</td>\n",
       "      <td>...</td>\n",
       "      <td>False</td>\n",
       "      <td>False</td>\n",
       "      <td>False</td>\n",
       "      <td>False</td>\n",
       "      <td>False</td>\n",
       "      <td>False</td>\n",
       "      <td>False</td>\n",
       "      <td>False</td>\n",
       "      <td>False</td>\n",
       "      <td>False</td>\n",
       "    </tr>\n",
       "    <tr>\n",
       "      <th>dti</th>\n",
       "      <td>False</td>\n",
       "      <td>False</td>\n",
       "      <td>False</td>\n",
       "      <td>False</td>\n",
       "      <td>False</td>\n",
       "      <td>False</td>\n",
       "      <td>False</td>\n",
       "      <td>False</td>\n",
       "      <td>True</td>\n",
       "      <td>False</td>\n",
       "      <td>...</td>\n",
       "      <td>False</td>\n",
       "      <td>False</td>\n",
       "      <td>False</td>\n",
       "      <td>False</td>\n",
       "      <td>False</td>\n",
       "      <td>False</td>\n",
       "      <td>False</td>\n",
       "      <td>False</td>\n",
       "      <td>False</td>\n",
       "      <td>False</td>\n",
       "    </tr>\n",
       "    <tr>\n",
       "      <th>inq_last_6mths</th>\n",
       "      <td>False</td>\n",
       "      <td>False</td>\n",
       "      <td>False</td>\n",
       "      <td>False</td>\n",
       "      <td>False</td>\n",
       "      <td>False</td>\n",
       "      <td>False</td>\n",
       "      <td>False</td>\n",
       "      <td>False</td>\n",
       "      <td>True</td>\n",
       "      <td>...</td>\n",
       "      <td>False</td>\n",
       "      <td>False</td>\n",
       "      <td>False</td>\n",
       "      <td>False</td>\n",
       "      <td>False</td>\n",
       "      <td>False</td>\n",
       "      <td>False</td>\n",
       "      <td>False</td>\n",
       "      <td>False</td>\n",
       "      <td>False</td>\n",
       "    </tr>\n",
       "    <tr>\n",
       "      <th>mths_since_last_delinq</th>\n",
       "      <td>False</td>\n",
       "      <td>False</td>\n",
       "      <td>False</td>\n",
       "      <td>False</td>\n",
       "      <td>False</td>\n",
       "      <td>False</td>\n",
       "      <td>False</td>\n",
       "      <td>False</td>\n",
       "      <td>False</td>\n",
       "      <td>False</td>\n",
       "      <td>...</td>\n",
       "      <td>False</td>\n",
       "      <td>False</td>\n",
       "      <td>False</td>\n",
       "      <td>False</td>\n",
       "      <td>False</td>\n",
       "      <td>False</td>\n",
       "      <td>False</td>\n",
       "      <td>False</td>\n",
       "      <td>False</td>\n",
       "      <td>False</td>\n",
       "    </tr>\n",
       "    <tr>\n",
       "      <th>mths_since_last_record</th>\n",
       "      <td>True</td>\n",
       "      <td>False</td>\n",
       "      <td>False</td>\n",
       "      <td>False</td>\n",
       "      <td>False</td>\n",
       "      <td>False</td>\n",
       "      <td>False</td>\n",
       "      <td>False</td>\n",
       "      <td>False</td>\n",
       "      <td>False</td>\n",
       "      <td>...</td>\n",
       "      <td>False</td>\n",
       "      <td>False</td>\n",
       "      <td>False</td>\n",
       "      <td>False</td>\n",
       "      <td>False</td>\n",
       "      <td>False</td>\n",
       "      <td>False</td>\n",
       "      <td>False</td>\n",
       "      <td>False</td>\n",
       "      <td>True</td>\n",
       "    </tr>\n",
       "    <tr>\n",
       "      <th>open_acc</th>\n",
       "      <td>False</td>\n",
       "      <td>False</td>\n",
       "      <td>False</td>\n",
       "      <td>False</td>\n",
       "      <td>False</td>\n",
       "      <td>False</td>\n",
       "      <td>False</td>\n",
       "      <td>False</td>\n",
       "      <td>False</td>\n",
       "      <td>False</td>\n",
       "      <td>...</td>\n",
       "      <td>False</td>\n",
       "      <td>False</td>\n",
       "      <td>False</td>\n",
       "      <td>False</td>\n",
       "      <td>False</td>\n",
       "      <td>False</td>\n",
       "      <td>False</td>\n",
       "      <td>False</td>\n",
       "      <td>False</td>\n",
       "      <td>False</td>\n",
       "    </tr>\n",
       "    <tr>\n",
       "      <th>pub_rec</th>\n",
       "      <td>False</td>\n",
       "      <td>False</td>\n",
       "      <td>False</td>\n",
       "      <td>False</td>\n",
       "      <td>False</td>\n",
       "      <td>False</td>\n",
       "      <td>False</td>\n",
       "      <td>False</td>\n",
       "      <td>False</td>\n",
       "      <td>False</td>\n",
       "      <td>...</td>\n",
       "      <td>False</td>\n",
       "      <td>False</td>\n",
       "      <td>False</td>\n",
       "      <td>False</td>\n",
       "      <td>False</td>\n",
       "      <td>False</td>\n",
       "      <td>False</td>\n",
       "      <td>False</td>\n",
       "      <td>False</td>\n",
       "      <td>True</td>\n",
       "    </tr>\n",
       "    <tr>\n",
       "      <th>revol_bal</th>\n",
       "      <td>False</td>\n",
       "      <td>False</td>\n",
       "      <td>False</td>\n",
       "      <td>False</td>\n",
       "      <td>False</td>\n",
       "      <td>False</td>\n",
       "      <td>False</td>\n",
       "      <td>False</td>\n",
       "      <td>False</td>\n",
       "      <td>False</td>\n",
       "      <td>...</td>\n",
       "      <td>False</td>\n",
       "      <td>False</td>\n",
       "      <td>False</td>\n",
       "      <td>False</td>\n",
       "      <td>False</td>\n",
       "      <td>False</td>\n",
       "      <td>False</td>\n",
       "      <td>False</td>\n",
       "      <td>False</td>\n",
       "      <td>False</td>\n",
       "    </tr>\n",
       "    <tr>\n",
       "      <th>total_acc</th>\n",
       "      <td>False</td>\n",
       "      <td>False</td>\n",
       "      <td>False</td>\n",
       "      <td>False</td>\n",
       "      <td>False</td>\n",
       "      <td>False</td>\n",
       "      <td>False</td>\n",
       "      <td>False</td>\n",
       "      <td>False</td>\n",
       "      <td>False</td>\n",
       "      <td>...</td>\n",
       "      <td>False</td>\n",
       "      <td>False</td>\n",
       "      <td>False</td>\n",
       "      <td>False</td>\n",
       "      <td>False</td>\n",
       "      <td>False</td>\n",
       "      <td>False</td>\n",
       "      <td>False</td>\n",
       "      <td>False</td>\n",
       "      <td>False</td>\n",
       "    </tr>\n",
       "    <tr>\n",
       "      <th>out_prncp</th>\n",
       "      <td>False</td>\n",
       "      <td>False</td>\n",
       "      <td>False</td>\n",
       "      <td>False</td>\n",
       "      <td>False</td>\n",
       "      <td>False</td>\n",
       "      <td>False</td>\n",
       "      <td>False</td>\n",
       "      <td>False</td>\n",
       "      <td>False</td>\n",
       "      <td>...</td>\n",
       "      <td>True</td>\n",
       "      <td>True</td>\n",
       "      <td>False</td>\n",
       "      <td>False</td>\n",
       "      <td>False</td>\n",
       "      <td>False</td>\n",
       "      <td>False</td>\n",
       "      <td>False</td>\n",
       "      <td>False</td>\n",
       "      <td>False</td>\n",
       "    </tr>\n",
       "    <tr>\n",
       "      <th>out_prncp_inv</th>\n",
       "      <td>False</td>\n",
       "      <td>False</td>\n",
       "      <td>False</td>\n",
       "      <td>False</td>\n",
       "      <td>False</td>\n",
       "      <td>False</td>\n",
       "      <td>False</td>\n",
       "      <td>False</td>\n",
       "      <td>False</td>\n",
       "      <td>False</td>\n",
       "      <td>...</td>\n",
       "      <td>True</td>\n",
       "      <td>True</td>\n",
       "      <td>False</td>\n",
       "      <td>False</td>\n",
       "      <td>False</td>\n",
       "      <td>False</td>\n",
       "      <td>False</td>\n",
       "      <td>False</td>\n",
       "      <td>False</td>\n",
       "      <td>False</td>\n",
       "    </tr>\n",
       "    <tr>\n",
       "      <th>total_pymnt</th>\n",
       "      <td>False</td>\n",
       "      <td>True</td>\n",
       "      <td>True</td>\n",
       "      <td>True</td>\n",
       "      <td>False</td>\n",
       "      <td>True</td>\n",
       "      <td>False</td>\n",
       "      <td>False</td>\n",
       "      <td>False</td>\n",
       "      <td>False</td>\n",
       "      <td>...</td>\n",
       "      <td>False</td>\n",
       "      <td>False</td>\n",
       "      <td>True</td>\n",
       "      <td>True</td>\n",
       "      <td>True</td>\n",
       "      <td>True</td>\n",
       "      <td>False</td>\n",
       "      <td>False</td>\n",
       "      <td>False</td>\n",
       "      <td>False</td>\n",
       "    </tr>\n",
       "    <tr>\n",
       "      <th>total_pymnt_inv</th>\n",
       "      <td>False</td>\n",
       "      <td>True</td>\n",
       "      <td>True</td>\n",
       "      <td>True</td>\n",
       "      <td>False</td>\n",
       "      <td>True</td>\n",
       "      <td>False</td>\n",
       "      <td>False</td>\n",
       "      <td>False</td>\n",
       "      <td>False</td>\n",
       "      <td>...</td>\n",
       "      <td>False</td>\n",
       "      <td>False</td>\n",
       "      <td>True</td>\n",
       "      <td>True</td>\n",
       "      <td>True</td>\n",
       "      <td>True</td>\n",
       "      <td>False</td>\n",
       "      <td>False</td>\n",
       "      <td>False</td>\n",
       "      <td>False</td>\n",
       "    </tr>\n",
       "    <tr>\n",
       "      <th>total_rec_prncp</th>\n",
       "      <td>False</td>\n",
       "      <td>True</td>\n",
       "      <td>True</td>\n",
       "      <td>True</td>\n",
       "      <td>False</td>\n",
       "      <td>True</td>\n",
       "      <td>False</td>\n",
       "      <td>False</td>\n",
       "      <td>False</td>\n",
       "      <td>False</td>\n",
       "      <td>...</td>\n",
       "      <td>False</td>\n",
       "      <td>False</td>\n",
       "      <td>True</td>\n",
       "      <td>True</td>\n",
       "      <td>True</td>\n",
       "      <td>True</td>\n",
       "      <td>False</td>\n",
       "      <td>False</td>\n",
       "      <td>False</td>\n",
       "      <td>False</td>\n",
       "    </tr>\n",
       "    <tr>\n",
       "      <th>total_rec_int</th>\n",
       "      <td>False</td>\n",
       "      <td>True</td>\n",
       "      <td>True</td>\n",
       "      <td>True</td>\n",
       "      <td>True</td>\n",
       "      <td>True</td>\n",
       "      <td>False</td>\n",
       "      <td>False</td>\n",
       "      <td>False</td>\n",
       "      <td>False</td>\n",
       "      <td>...</td>\n",
       "      <td>False</td>\n",
       "      <td>False</td>\n",
       "      <td>True</td>\n",
       "      <td>True</td>\n",
       "      <td>True</td>\n",
       "      <td>True</td>\n",
       "      <td>False</td>\n",
       "      <td>False</td>\n",
       "      <td>False</td>\n",
       "      <td>False</td>\n",
       "    </tr>\n",
       "    <tr>\n",
       "      <th>total_rec_late_fee</th>\n",
       "      <td>False</td>\n",
       "      <td>False</td>\n",
       "      <td>False</td>\n",
       "      <td>False</td>\n",
       "      <td>False</td>\n",
       "      <td>False</td>\n",
       "      <td>False</td>\n",
       "      <td>False</td>\n",
       "      <td>False</td>\n",
       "      <td>False</td>\n",
       "      <td>...</td>\n",
       "      <td>False</td>\n",
       "      <td>False</td>\n",
       "      <td>False</td>\n",
       "      <td>False</td>\n",
       "      <td>False</td>\n",
       "      <td>False</td>\n",
       "      <td>True</td>\n",
       "      <td>False</td>\n",
       "      <td>False</td>\n",
       "      <td>False</td>\n",
       "    </tr>\n",
       "    <tr>\n",
       "      <th>recoveries</th>\n",
       "      <td>False</td>\n",
       "      <td>False</td>\n",
       "      <td>False</td>\n",
       "      <td>False</td>\n",
       "      <td>False</td>\n",
       "      <td>False</td>\n",
       "      <td>False</td>\n",
       "      <td>False</td>\n",
       "      <td>False</td>\n",
       "      <td>False</td>\n",
       "      <td>...</td>\n",
       "      <td>False</td>\n",
       "      <td>False</td>\n",
       "      <td>False</td>\n",
       "      <td>False</td>\n",
       "      <td>False</td>\n",
       "      <td>False</td>\n",
       "      <td>False</td>\n",
       "      <td>True</td>\n",
       "      <td>True</td>\n",
       "      <td>False</td>\n",
       "    </tr>\n",
       "    <tr>\n",
       "      <th>collection_recovery_fee</th>\n",
       "      <td>False</td>\n",
       "      <td>False</td>\n",
       "      <td>False</td>\n",
       "      <td>False</td>\n",
       "      <td>False</td>\n",
       "      <td>False</td>\n",
       "      <td>False</td>\n",
       "      <td>False</td>\n",
       "      <td>False</td>\n",
       "      <td>False</td>\n",
       "      <td>...</td>\n",
       "      <td>False</td>\n",
       "      <td>False</td>\n",
       "      <td>False</td>\n",
       "      <td>False</td>\n",
       "      <td>False</td>\n",
       "      <td>False</td>\n",
       "      <td>False</td>\n",
       "      <td>True</td>\n",
       "      <td>True</td>\n",
       "      <td>False</td>\n",
       "    </tr>\n",
       "    <tr>\n",
       "      <th>pub_rec_bankruptcies</th>\n",
       "      <td>False</td>\n",
       "      <td>False</td>\n",
       "      <td>False</td>\n",
       "      <td>False</td>\n",
       "      <td>False</td>\n",
       "      <td>False</td>\n",
       "      <td>False</td>\n",
       "      <td>False</td>\n",
       "      <td>False</td>\n",
       "      <td>False</td>\n",
       "      <td>...</td>\n",
       "      <td>False</td>\n",
       "      <td>False</td>\n",
       "      <td>False</td>\n",
       "      <td>False</td>\n",
       "      <td>False</td>\n",
       "      <td>False</td>\n",
       "      <td>False</td>\n",
       "      <td>False</td>\n",
       "      <td>False</td>\n",
       "      <td>True</td>\n",
       "    </tr>\n",
       "  </tbody>\n",
       "</table>\n",
       "<p>26 rows × 26 columns</p>\n",
       "</div>"
      ],
      "text/plain": [
       "                         member_id  loan_amnt  funded_amnt  funded_amnt_inv  \\\n",
       "member_id                     True      False        False            False   \n",
       "loan_amnt                    False       True         True             True   \n",
       "funded_amnt                  False       True         True             True   \n",
       "funded_amnt_inv              False       True         True             True   \n",
       "int_rate                     False      False        False            False   \n",
       "installment                  False       True         True             True   \n",
       "annual_inc                   False      False        False            False   \n",
       "zip_code                     False      False        False            False   \n",
       "dti                          False      False        False            False   \n",
       "inq_last_6mths               False      False        False            False   \n",
       "mths_since_last_delinq       False      False        False            False   \n",
       "mths_since_last_record        True      False        False            False   \n",
       "open_acc                     False      False        False            False   \n",
       "pub_rec                      False      False        False            False   \n",
       "revol_bal                    False      False        False            False   \n",
       "total_acc                    False      False        False            False   \n",
       "out_prncp                    False      False        False            False   \n",
       "out_prncp_inv                False      False        False            False   \n",
       "total_pymnt                  False       True         True             True   \n",
       "total_pymnt_inv              False       True         True             True   \n",
       "total_rec_prncp              False       True         True             True   \n",
       "total_rec_int                False       True         True             True   \n",
       "total_rec_late_fee           False      False        False            False   \n",
       "recoveries                   False      False        False            False   \n",
       "collection_recovery_fee      False      False        False            False   \n",
       "pub_rec_bankruptcies         False      False        False            False   \n",
       "\n",
       "                         int_rate  installment  annual_inc  zip_code    dti  \\\n",
       "member_id                   False        False       False     False  False   \n",
       "loan_amnt                   False         True       False     False  False   \n",
       "funded_amnt                 False         True       False     False  False   \n",
       "funded_amnt_inv             False         True       False     False  False   \n",
       "int_rate                     True        False       False     False  False   \n",
       "installment                 False         True       False     False  False   \n",
       "annual_inc                  False        False        True     False  False   \n",
       "zip_code                    False        False       False      True  False   \n",
       "dti                         False        False       False     False   True   \n",
       "inq_last_6mths              False        False       False     False  False   \n",
       "mths_since_last_delinq      False        False       False     False  False   \n",
       "mths_since_last_record      False        False       False     False  False   \n",
       "open_acc                    False        False       False     False  False   \n",
       "pub_rec                     False        False       False     False  False   \n",
       "revol_bal                   False        False       False     False  False   \n",
       "total_acc                   False        False       False     False  False   \n",
       "out_prncp                   False        False       False     False  False   \n",
       "out_prncp_inv               False        False       False     False  False   \n",
       "total_pymnt                 False         True       False     False  False   \n",
       "total_pymnt_inv             False         True       False     False  False   \n",
       "total_rec_prncp             False         True       False     False  False   \n",
       "total_rec_int                True         True       False     False  False   \n",
       "total_rec_late_fee          False        False       False     False  False   \n",
       "recoveries                  False        False       False     False  False   \n",
       "collection_recovery_fee     False        False       False     False  False   \n",
       "pub_rec_bankruptcies        False        False       False     False  False   \n",
       "\n",
       "                         inq_last_6mths  ...  out_prncp  out_prncp_inv  \\\n",
       "member_id                         False  ...      False          False   \n",
       "loan_amnt                         False  ...      False          False   \n",
       "funded_amnt                       False  ...      False          False   \n",
       "funded_amnt_inv                   False  ...      False          False   \n",
       "int_rate                          False  ...      False          False   \n",
       "installment                       False  ...      False          False   \n",
       "annual_inc                        False  ...      False          False   \n",
       "zip_code                          False  ...      False          False   \n",
       "dti                               False  ...      False          False   \n",
       "inq_last_6mths                     True  ...      False          False   \n",
       "mths_since_last_delinq            False  ...      False          False   \n",
       "mths_since_last_record            False  ...      False          False   \n",
       "open_acc                          False  ...      False          False   \n",
       "pub_rec                           False  ...      False          False   \n",
       "revol_bal                         False  ...      False          False   \n",
       "total_acc                         False  ...      False          False   \n",
       "out_prncp                         False  ...       True           True   \n",
       "out_prncp_inv                     False  ...       True           True   \n",
       "total_pymnt                       False  ...      False          False   \n",
       "total_pymnt_inv                   False  ...      False          False   \n",
       "total_rec_prncp                   False  ...      False          False   \n",
       "total_rec_int                     False  ...      False          False   \n",
       "total_rec_late_fee                False  ...      False          False   \n",
       "recoveries                        False  ...      False          False   \n",
       "collection_recovery_fee           False  ...      False          False   \n",
       "pub_rec_bankruptcies              False  ...      False          False   \n",
       "\n",
       "                         total_pymnt  total_pymnt_inv  total_rec_prncp  \\\n",
       "member_id                      False            False            False   \n",
       "loan_amnt                       True             True             True   \n",
       "funded_amnt                     True             True             True   \n",
       "funded_amnt_inv                 True             True             True   \n",
       "int_rate                       False            False            False   \n",
       "installment                     True             True             True   \n",
       "annual_inc                     False            False            False   \n",
       "zip_code                       False            False            False   \n",
       "dti                            False            False            False   \n",
       "inq_last_6mths                 False            False            False   \n",
       "mths_since_last_delinq         False            False            False   \n",
       "mths_since_last_record         False            False            False   \n",
       "open_acc                       False            False            False   \n",
       "pub_rec                        False            False            False   \n",
       "revol_bal                      False            False            False   \n",
       "total_acc                      False            False            False   \n",
       "out_prncp                      False            False            False   \n",
       "out_prncp_inv                  False            False            False   \n",
       "total_pymnt                     True             True             True   \n",
       "total_pymnt_inv                 True             True             True   \n",
       "total_rec_prncp                 True             True             True   \n",
       "total_rec_int                   True             True             True   \n",
       "total_rec_late_fee             False            False            False   \n",
       "recoveries                     False            False            False   \n",
       "collection_recovery_fee        False            False            False   \n",
       "pub_rec_bankruptcies           False            False            False   \n",
       "\n",
       "                         total_rec_int  total_rec_late_fee  recoveries  \\\n",
       "member_id                        False               False       False   \n",
       "loan_amnt                         True               False       False   \n",
       "funded_amnt                       True               False       False   \n",
       "funded_amnt_inv                   True               False       False   \n",
       "int_rate                          True               False       False   \n",
       "installment                       True               False       False   \n",
       "annual_inc                       False               False       False   \n",
       "zip_code                         False               False       False   \n",
       "dti                              False               False       False   \n",
       "inq_last_6mths                   False               False       False   \n",
       "mths_since_last_delinq           False               False       False   \n",
       "mths_since_last_record           False               False       False   \n",
       "open_acc                         False               False       False   \n",
       "pub_rec                          False               False       False   \n",
       "revol_bal                        False               False       False   \n",
       "total_acc                        False               False       False   \n",
       "out_prncp                        False               False       False   \n",
       "out_prncp_inv                    False               False       False   \n",
       "total_pymnt                       True               False       False   \n",
       "total_pymnt_inv                   True               False       False   \n",
       "total_rec_prncp                   True               False       False   \n",
       "total_rec_int                     True               False       False   \n",
       "total_rec_late_fee               False                True       False   \n",
       "recoveries                       False               False        True   \n",
       "collection_recovery_fee          False               False        True   \n",
       "pub_rec_bankruptcies             False               False       False   \n",
       "\n",
       "                         collection_recovery_fee  pub_rec_bankruptcies  \n",
       "member_id                                  False                 False  \n",
       "loan_amnt                                  False                 False  \n",
       "funded_amnt                                False                 False  \n",
       "funded_amnt_inv                            False                 False  \n",
       "int_rate                                   False                 False  \n",
       "installment                                False                 False  \n",
       "annual_inc                                 False                 False  \n",
       "zip_code                                   False                 False  \n",
       "dti                                        False                 False  \n",
       "inq_last_6mths                             False                 False  \n",
       "mths_since_last_delinq                     False                 False  \n",
       "mths_since_last_record                     False                  True  \n",
       "open_acc                                   False                 False  \n",
       "pub_rec                                    False                  True  \n",
       "revol_bal                                  False                 False  \n",
       "total_acc                                  False                 False  \n",
       "out_prncp                                  False                 False  \n",
       "out_prncp_inv                              False                 False  \n",
       "total_pymnt                                False                 False  \n",
       "total_pymnt_inv                            False                 False  \n",
       "total_rec_prncp                            False                 False  \n",
       "total_rec_int                              False                 False  \n",
       "total_rec_late_fee                         False                 False  \n",
       "recoveries                                  True                 False  \n",
       "collection_recovery_fee                     True                 False  \n",
       "pub_rec_bankruptcies                       False                  True  \n",
       "\n",
       "[26 rows x 26 columns]"
      ]
     },
     "execution_count": 341,
     "metadata": {},
     "output_type": "execute_result"
    }
   ],
   "source": [
    "loan_data.corr() > 0.5"
   ]
  },
  {
   "cell_type": "code",
   "execution_count": 347,
   "id": "424d005f",
   "metadata": {},
   "outputs": [
    {
     "data": {
      "text/plain": [
       "<seaborn.matrix.ClusterGrid at 0x20f86ef3670>"
      ]
     },
     "execution_count": 347,
     "metadata": {},
     "output_type": "execute_result"
    },
    {
     "data": {
      "image/png": "[encoded data removed]",
      "text/plain": [
       "<Figure size 720x720 with 4 Axes>"
      ]
     },
     "metadata": {
      "needs_background": "light"
     },
     "output_type": "display_data"
    }
   ],
   "source": [
    "sns.clustermap(loan_data.corr(),cmap=\"YlGnBu\")"
   ]
  },
  {
   "cell_type": "code",
   "execution_count": 348,
   "id": "9dd8a57a",
   "metadata": {},
   "outputs": [],
   "source": [
    "# From the above map it is evident that the following groups are higly correlated:\n",
    "# 1. [total_rec_int, funded_amnt_inv, total_pymnt_inv, installment, loan_amnt, funded_amnt, total_pymnt, total_rec_prncp]\n",
    "# 2. [mths_since_last_record, pub_rec, pub_rec_bankruptcies]\n",
    "# 3. [dti, open_acc, total_acc, annual_inc, revol_bal]"
   ]
  },
  {
   "cell_type": "code",
   "execution_count": 358,
   "id": "3127d10b",
   "metadata": {},
   "outputs": [],
   "source": [
    "# We have three groups of numeric/continuous variables which are correlated within each group.\n",
    "# And we also have few categorical variables like: [home_ownership, grade, term, emp_length, loan_status, purpose_zipcode, verification_status]"
   ]
  },
  {
   "cell_type": "code",
   "execution_count": 362,
   "id": "75c0b895",
   "metadata": {},
   "outputs": [
    {
     "data": {
      "text/plain": [
       "<AxesSubplot:xlabel='loan_status', ylabel='home_ownership'>"
      ]
     },
     "execution_count": 362,
     "metadata": {},
     "output_type": "execute_result"
    },
    {
     "data": {
      "image/png": "[encoded data removed]",
      "text/plain": [
       "<Figure size 432x288 with 1 Axes>"
      ]
     },
     "metadata": {
      "needs_background": "light"
     },
     "output_type": "display_data"
    }
   ],
   "source": [
    "sns.scatterplot(y=loan_data.home_ownership,x=loan_data.loan_status)"
   ]
  },
  {
   "cell_type": "code",
   "execution_count": null,
   "id": "096770e5",
   "metadata": {},
   "outputs": [],
   "source": []
  }
 ],
 "metadata": {
  "interpreter": {
   "hash": "4de7b47bac0517dee333f30a4b353bc4b7aa69cc2eb8936e3a8c39aaf8132189"
  },
  "kernelspec": {
   "display_name": "Python 3 (ipykernel)",
   "language": "python",
   "name": "python3"
  },
  "language_info": {
   "codemirror_mode": {
    "name": "ipython",
    "version": 3
   },
   "file_extension": ".py",
   "mimetype": "text/x-python",
   "name": "python",
   "nbconvert_exporter": "python",
   "pygments_lexer": "ipython3",
   "version": "3.9.7"
  }
 },
 "nbformat": 4,
 "nbformat_minor": 5
}
